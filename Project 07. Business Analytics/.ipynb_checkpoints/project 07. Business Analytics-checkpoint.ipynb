{
 "cells": [
  {
   "cell_type": "markdown",
   "metadata": {},
   "source": [
    "# Review\n",
    "\n",
    "<font color='grey'><b>Hey there Anton! My name is Maxim, and I will be reviewing your project. I've put all my comments into markdown cells with different background colors.</b></font>\n",
    "\n",
    "<div class=\"alert alert-success\" role=\"alert\">\n",
    "  If you did something great I'll be using green color for my comment.\n",
    "</div>\n",
    "\n",
    "<div class=\"alert alert-warning\" role=\"alert\">\n",
    "Yellow cell means it is an optional recommendation -- like when I think something can be improved, or simply offer an advice for your future work.\n",
    "</div>\n",
    "\n",
    "<div class=\"alert alert-danger\" role=\"alert\">\n",
    "  If the topic requires some extra work before I can accept it then the color will be red\n",
    "</div>\n",
    "\n",
    "<div class=\"alert alert-info\" role=\"alert\">\n",
    "  If you'd want to leave your own comment or ask a question or anything: use this cell style, so it would be easier for me to notice in the text  and adress it ;)\n",
    "</div>\n",
    "\n",
    "<font color='grey'><b>I left my overall impressions and conclusions at the end of this cell.</b></font>\n",
    "\n",
    "<font color='grey'><b>And, please! Do not delete my comments in further iterations of your project (if there would be any).</b></font>\n",
    "\n",
    "## Summary #1\n",
    "<font color='purple'><b>Exceptional presentation skills, decent code, correct calculations and an extremely thorough analysis with lots of additional research, as well as solid conclusions.\n",
    "<br>\n",
    "And I was really impressed by that forecast analysis you did in the end -- that's a top notch work =)\n",
    "<br> \n",
    "I left just a couple of yellow notes regarding the conclusions and graphs -- but other that that I think this is one of the strongest projects I've seen on this sprint. Excellent job!\n",
    "<br>\n",
    "With that said, I'm accepting it and wish you the best of luck in your future studies! =)\n",
    "<br>\n",
    "<br>\n",
    "Cheers!\n",
    "    </b></font>"
   ]
  },
  {
   "cell_type": "markdown",
   "metadata": {},
   "source": [
    "### Internship in the analytical department of Yandex.Afisha."
   ]
  },
  {
   "cell_type": "markdown",
   "metadata": {},
   "source": [
    "<div class=\"alert alert-success\" role=\"alert\">\n",
    "Excellent idea to add TOC! I like it =)\n",
    "</div>"
   ]
  },
  {
   "cell_type": "markdown",
   "metadata": {},
   "source": [
    "##### Table of contents\n",
    "\n",
    "0. [Introduction](#introduction)<br />\n",
    "1. [Step 1. Download the data and prepare it for analysis](#step_1)<br />\n",
    "1.1 [Loading data in an optimized form](#loading_data)<br />\n",
    "1.2 [Data preprocessing](#data_preprocessing)<br />\n",
    "2. [Step 2.  Make reports and calculate metrics](#step_2)<br />\n",
    "2.1 [Product](#product)<br />\n",
    "2.1.1 [How many people use our service every day, week, and month?](#dau)<br />\n",
    "2.1.1.1 [Sticky factor](#sticky_factor)<br />\n",
    "2.1.1.2 [Graph 1. Sticky factor  (DAU/MAU and DAU)](#sticky_factor2)<br />\n",
    "2.1.1.3 [Graph 2. Sticky factor  (DAU/MAU and MAU)](#sticky_factor3)<br />\n",
    "2.1.2 [The number of sessions per day.](#session)<br />\n",
    "2.1.2.1 [Comparison of the dynamics of the total number of sessions per day with the dynamics of DAU.](#session2)<br />\n",
    "2.1.2.2 [The average number of sessions per user.](#session3)<br />\n",
    "2.1.2.3 [Distribution of sessions by device type.](#session4)<br />\n",
    "2.1.3 [The duration of each session.](#duration)<br />\n",
    "2.1.3.1 [Dynamics of changes in the length of the session.](#duration1)<br />\n",
    "2.1.4 [How often do users come back?](#come_back)<br />\n",
    "2.2 [Sales](#sales)<br />\n",
    "2.2.1 [How long does it take between the first visit and the first purchase?](#conversion)<br />\n",
    "2.2.1.1 [Average conversion](#conversion1)<br />\n",
    "2.2.1.2 [Distribution of conversions by source](#conversion2)<br />\n",
    "2.2.1.3 [Distribution of conversions by term](#conversion3)<br />\n",
    "2.2.1.4 [Distribution of conversion by devices](#conversion4)<br />\n",
    "2.2.2. [The number of orders for each time period.](#orders)<br />\n",
    "2.2.2.1 [Daily distribution of orders by source.](#orders1)<br />\n",
    "2.2.2.2 [Weekly distribution of orders by source.](#orders2)<br />\n",
    "2.2.2.3 [Distribution of the number of orders by cohorts](#orders3)<br />\n",
    "2.2.3 [The average purchase size.](#avg_orders)<br />\n",
    "2.2.3.1 [The average size of percause by days.](#avg_orders1)<br />\n",
    "2.2.3.2 [The average size of purchase by source](#avg_orders2)<br />\n",
    "2.2.3.3 [The average size of purchase by cohort](#avg_orders3)<br />\n",
    "2.2.4 [How much profit does one client bring?](#profit)<br />\n",
    "2.2.4.1 [Average profit per client.](#profit1)<br />\n",
    "2.2.4.2 [Average profit per client by source.](#profit2)<br />\n",
    "2.2.4.3 [Average profit per client by cohort](#profit3)<br />\n",
    "2.3 [Marketing](#marketing)<br />\n",
    "2.3.1 [How much money was spent?](#costs)<br />\n",
    "2.3.1.1 [Daily costs.](#costs1)<br />\n",
    "2.3.1.2 [How much was spent on each source?](#costs2)<br />\n",
    "2.3.2 [The cost of attracting customers.](#cac)<br />\n",
    "2.3.2.1  [The cost of attracting customers by source.](#cac1)<br />\n",
    "2.3.2.2  [The cost of attracting customers by cohort.](#cac2)<br />\n",
    "2.3.3 [Assessment of return on investment in customer acquisition. (ROI)](#romi)<br />\n",
    "2.3.3.1 [ROMI by cohort](#romi1)<br />\n",
    "2.3.3.2 [ROMI by source](#romi2)<br />\n",
    "2.3.3.3 [Forecast](#forecast)<br />\n",
    "3. [Step 3. Overall conclusion](#overall_conclusion)\n",
    "\n",
    "\n",
    "\n"
   ]
  },
  {
   "cell_type": "markdown",
   "metadata": {},
   "source": [
    "Introduction<br /><a name=\"introduction\"></a>\n",
    "Task:<br />\n",
    "\n",
    "I am doing an internship in the analytical department of Yandex.Afisha. My first task is to help optimize marketing costs.<br /><br />\n",
    "I have:<br />\n",
    "- Server logs with data about Yandex.Afisha visits from June 2017 to May 2018.<br />\n",
    "- Dump file with all orders for the period.<br />\n",
    "- Marketing expenses statistics.<br />"
   ]
  },
  {
   "cell_type": "markdown",
   "metadata": {},
   "source": [
    "I plan to find out:<br />\n",
    "- How people use the product.<br />\n",
    "- How long does it take from the moment the client visits the site to the first purchase.<br />\n",
    "- How much money each customer brings.<br />\n",
    "- The effectiveness of sources of customer acquisition.<br />\n",
    "\n",
    "<br />\n",
    "In the end, I will draw conclusions and prepare proposals for the marketing department."
   ]
  },
  {
   "cell_type": "markdown",
   "metadata": {},
   "source": [
    "#### Step 1. Download the data and prepare it for analysis.<a name=\"step_1\"></a>"
   ]
  },
  {
   "cell_type": "code",
   "execution_count": 1,
   "metadata": {},
   "outputs": [],
   "source": [
    "import pandas   as pd\n",
    "from scipy import stats as st\n",
    "import numpy as np\n",
    "import math\n",
    "import matplotlib.pyplot as plt\n",
    "import matplotlib.ticker as ticker\n",
    "import seaborn as sns\n",
    "\n",
    "pd.options.display.float_format = \"{:.2f}\".format"
   ]
  },
  {
   "cell_type": "markdown",
   "metadata": {},
   "source": [
    "##### Preliminary analysis of the data structure."
   ]
  },
  {
   "cell_type": "code",
   "execution_count": 2,
   "metadata": {},
   "outputs": [],
   "source": [
    "visits_path   = 'visits_log_us.csv'\n",
    "orders_path   = 'orders_log_us.csv'\n",
    "costs_path    = 'costs_us.csv'\n",
    "platform_path = 'https://code.s3.yandex.net/datasets/'\n",
    "\n",
    "try:\n",
    "    visits   = pd.read_csv(visits_path, nrows=500)\n",
    "    orders   = pd.read_csv(orders_path, nrows=500)\n",
    "    costs    = pd.read_csv(costs_path, nrows=500)\n",
    "except:\n",
    "    visits  = pd.read_csv(platform_path+visits_path, nrows=500)\n",
    "    orders  = pd.read_csv(platform_path+orders_path, nrows=500)\n",
    "    costs   = pd.read_csv(platform_path+costs_path, nrows=500)"
   ]
  },
  {
   "cell_type": "code",
   "execution_count": 3,
   "metadata": {},
   "outputs": [
    {
     "name": "stdout",
     "output_type": "stream",
     "text": [
      "Visits: \n",
      "\n",
      "<class 'pandas.core.frame.DataFrame'>\n",
      "RangeIndex: 500 entries, 0 to 499\n",
      "Data columns (total 5 columns):\n",
      " #   Column     Non-Null Count  Dtype \n",
      "---  ------     --------------  ----- \n",
      " 0   Device     500 non-null    object\n",
      " 1   End Ts     500 non-null    object\n",
      " 2   Source Id  500 non-null    int64 \n",
      " 3   Start Ts   500 non-null    object\n",
      " 4   Uid        500 non-null    uint64\n",
      "dtypes: int64(1), object(3), uint64(1)\n",
      "memory usage: 19.7+ KB\n",
      "None\n"
     ]
    }
   ],
   "source": [
    "print('Visits: \\n')\n",
    "print(visits.info())"
   ]
  },
  {
   "cell_type": "code",
   "execution_count": 4,
   "metadata": {},
   "outputs": [
    {
     "data": {
      "text/plain": [
       "desktop    363\n",
       "touch      137\n",
       "Name: Device, dtype: int64"
      ]
     },
     "execution_count": 4,
     "metadata": {},
     "output_type": "execute_result"
    }
   ],
   "source": [
    "visits['Device'].value_counts()"
   ]
  },
  {
   "cell_type": "markdown",
   "metadata": {},
   "source": [
    "We need to convert the \"Device\" field to the category type, and the \"Start Ts\" and \"End Ts\" fields to the DateTime type."
   ]
  },
  {
   "cell_type": "code",
   "execution_count": 5,
   "metadata": {},
   "outputs": [
    {
     "name": "stdout",
     "output_type": "stream",
     "text": [
      "Orders: \n",
      "\n",
      "<class 'pandas.core.frame.DataFrame'>\n",
      "RangeIndex: 500 entries, 0 to 499\n",
      "Data columns (total 3 columns):\n",
      " #   Column   Non-Null Count  Dtype  \n",
      "---  ------   --------------  -----  \n",
      " 0   Buy Ts   500 non-null    object \n",
      " 1   Revenue  500 non-null    float64\n",
      " 2   Uid      500 non-null    uint64 \n",
      "dtypes: float64(1), object(1), uint64(1)\n",
      "memory usage: 11.8+ KB\n",
      "None\n"
     ]
    }
   ],
   "source": [
    "print('Orders: \\n')\n",
    "print(orders.info())"
   ]
  },
  {
   "cell_type": "markdown",
   "metadata": {},
   "source": [
    "We need to convert the \"Buy Ts\" field to the DateTime type."
   ]
  },
  {
   "cell_type": "code",
   "execution_count": 6,
   "metadata": {},
   "outputs": [
    {
     "name": "stdout",
     "output_type": "stream",
     "text": [
      "Сosts: \n",
      "\n",
      "<class 'pandas.core.frame.DataFrame'>\n",
      "RangeIndex: 500 entries, 0 to 499\n",
      "Data columns (total 3 columns):\n",
      " #   Column     Non-Null Count  Dtype  \n",
      "---  ------     --------------  -----  \n",
      " 0   source_id  500 non-null    int64  \n",
      " 1   dt         500 non-null    object \n",
      " 2   costs      500 non-null    float64\n",
      "dtypes: float64(1), int64(1), object(1)\n",
      "memory usage: 11.8+ KB\n",
      "None\n"
     ]
    }
   ],
   "source": [
    "print('Сosts: \\n')\n",
    "print(costs.info())"
   ]
  },
  {
   "cell_type": "markdown",
   "metadata": {},
   "source": [
    "We need to convert the \"dt\" field to the DateTime type."
   ]
  },
  {
   "cell_type": "markdown",
   "metadata": {},
   "source": [
    "##### 1.1 Loading data in an optimized form.<a name=\"loading_data\"></a>"
   ]
  },
  {
   "cell_type": "code",
   "execution_count": 7,
   "metadata": {},
   "outputs": [],
   "source": [
    "try:\n",
    "    visits   = pd.read_csv(visits_path,  \n",
    "                  dtype={'Device': 'category'},\n",
    "                  parse_dates=['Start Ts', 'End Ts'])\n",
    "    orders   = pd.read_csv(orders_path,\n",
    "                  parse_dates=['Buy Ts'])\n",
    "    costs    = pd.read_csv(costs_path,\n",
    "                  parse_dates=['dt'])\n",
    "except:\n",
    "    visits  = pd.read_csv(platform_path+visits_path,  \n",
    "                  dtype={'Device': 'category'},\n",
    "                  parse_dates=['Start Ts', 'End Ts'])\n",
    "    orders  = pd.read_csv(platform_path+orders_path,\n",
    "                  parse_dates=['Buy Ts'])\n",
    "    costs   = pd.read_csv(platform_path+costs_path,\n",
    "                  parse_dates=['dt'])   "
   ]
  },
  {
   "cell_type": "markdown",
   "metadata": {},
   "source": [
    "#### 1.2. Data preprocessing<a name=\"data_preprocessing\"></a>"
   ]
  },
  {
   "cell_type": "code",
   "execution_count": 8,
   "metadata": {},
   "outputs": [
    {
     "name": "stdout",
     "output_type": "stream",
     "text": [
      "<class 'pandas.core.frame.DataFrame'>\n",
      "RangeIndex: 359400 entries, 0 to 359399\n",
      "Data columns (total 5 columns):\n",
      " #   Column     Non-Null Count   Dtype         \n",
      "---  ------     --------------   -----         \n",
      " 0   Device     359400 non-null  category      \n",
      " 1   End Ts     359400 non-null  datetime64[ns]\n",
      " 2   Source Id  359400 non-null  int64         \n",
      " 3   Start Ts   359400 non-null  datetime64[ns]\n",
      " 4   Uid        359400 non-null  uint64        \n",
      "dtypes: category(1), datetime64[ns](2), int64(1), uint64(1)\n",
      "memory usage: 11.3 MB\n"
     ]
    }
   ],
   "source": [
    "visits.info()"
   ]
  },
  {
   "cell_type": "code",
   "execution_count": 9,
   "metadata": {},
   "outputs": [
    {
     "name": "stdout",
     "output_type": "stream",
     "text": [
      "Duplicates found -  0  records\n"
     ]
    },
    {
     "data": {
      "text/html": [
       "<div>\n",
       "<style scoped>\n",
       "    .dataframe tbody tr th:only-of-type {\n",
       "        vertical-align: middle;\n",
       "    }\n",
       "\n",
       "    .dataframe tbody tr th {\n",
       "        vertical-align: top;\n",
       "    }\n",
       "\n",
       "    .dataframe thead th {\n",
       "        text-align: right;\n",
       "    }\n",
       "</style>\n",
       "<table border=\"1\" class=\"dataframe\">\n",
       "  <thead>\n",
       "    <tr style=\"text-align: right;\">\n",
       "      <th></th>\n",
       "      <th>Device</th>\n",
       "      <th>End Ts</th>\n",
       "      <th>Source Id</th>\n",
       "      <th>Start Ts</th>\n",
       "      <th>Uid</th>\n",
       "    </tr>\n",
       "  </thead>\n",
       "  <tbody>\n",
       "    <tr>\n",
       "      <th>0</th>\n",
       "      <td>touch</td>\n",
       "      <td>2017-12-20 17:38:00</td>\n",
       "      <td>4</td>\n",
       "      <td>2017-12-20 17:20:00</td>\n",
       "      <td>16879256277535980062</td>\n",
       "    </tr>\n",
       "    <tr>\n",
       "      <th>1</th>\n",
       "      <td>desktop</td>\n",
       "      <td>2018-02-19 17:21:00</td>\n",
       "      <td>2</td>\n",
       "      <td>2018-02-19 16:53:00</td>\n",
       "      <td>104060357244891740</td>\n",
       "    </tr>\n",
       "    <tr>\n",
       "      <th>2</th>\n",
       "      <td>touch</td>\n",
       "      <td>2017-07-01 01:54:00</td>\n",
       "      <td>5</td>\n",
       "      <td>2017-07-01 01:54:00</td>\n",
       "      <td>7459035603376831527</td>\n",
       "    </tr>\n",
       "    <tr>\n",
       "      <th>3</th>\n",
       "      <td>desktop</td>\n",
       "      <td>2018-05-20 11:23:00</td>\n",
       "      <td>9</td>\n",
       "      <td>2018-05-20 10:59:00</td>\n",
       "      <td>16174680259334210214</td>\n",
       "    </tr>\n",
       "    <tr>\n",
       "      <th>4</th>\n",
       "      <td>desktop</td>\n",
       "      <td>2017-12-27 14:06:00</td>\n",
       "      <td>3</td>\n",
       "      <td>2017-12-27 14:06:00</td>\n",
       "      <td>9969694820036681168</td>\n",
       "    </tr>\n",
       "  </tbody>\n",
       "</table>\n",
       "</div>"
      ],
      "text/plain": [
       "    Device              End Ts  Source Id            Start Ts  \\\n",
       "0    touch 2017-12-20 17:38:00          4 2017-12-20 17:20:00   \n",
       "1  desktop 2018-02-19 17:21:00          2 2018-02-19 16:53:00   \n",
       "2    touch 2017-07-01 01:54:00          5 2017-07-01 01:54:00   \n",
       "3  desktop 2018-05-20 11:23:00          9 2018-05-20 10:59:00   \n",
       "4  desktop 2017-12-27 14:06:00          3 2017-12-27 14:06:00   \n",
       "\n",
       "                    Uid  \n",
       "0  16879256277535980062  \n",
       "1    104060357244891740  \n",
       "2   7459035603376831527  \n",
       "3  16174680259334210214  \n",
       "4   9969694820036681168  "
      ]
     },
     "execution_count": 9,
     "metadata": {},
     "output_type": "execute_result"
    }
   ],
   "source": [
    "print('Duplicates found - ',visits.duplicated().sum(),' records')\n",
    "visits[:5]"
   ]
  },
  {
   "cell_type": "code",
   "execution_count": 10,
   "metadata": {},
   "outputs": [
    {
     "name": "stdout",
     "output_type": "stream",
     "text": [
      "<class 'pandas.core.frame.DataFrame'>\n",
      "RangeIndex: 50415 entries, 0 to 50414\n",
      "Data columns (total 3 columns):\n",
      " #   Column   Non-Null Count  Dtype         \n",
      "---  ------   --------------  -----         \n",
      " 0   Buy Ts   50415 non-null  datetime64[ns]\n",
      " 1   Revenue  50415 non-null  float64       \n",
      " 2   Uid      50415 non-null  uint64        \n",
      "dtypes: datetime64[ns](1), float64(1), uint64(1)\n",
      "memory usage: 1.2 MB\n"
     ]
    }
   ],
   "source": [
    "orders.info()"
   ]
  },
  {
   "cell_type": "code",
   "execution_count": 11,
   "metadata": {},
   "outputs": [
    {
     "name": "stdout",
     "output_type": "stream",
     "text": [
      "Duplicates found -  0  records\n"
     ]
    },
    {
     "data": {
      "text/html": [
       "<div>\n",
       "<style scoped>\n",
       "    .dataframe tbody tr th:only-of-type {\n",
       "        vertical-align: middle;\n",
       "    }\n",
       "\n",
       "    .dataframe tbody tr th {\n",
       "        vertical-align: top;\n",
       "    }\n",
       "\n",
       "    .dataframe thead th {\n",
       "        text-align: right;\n",
       "    }\n",
       "</style>\n",
       "<table border=\"1\" class=\"dataframe\">\n",
       "  <thead>\n",
       "    <tr style=\"text-align: right;\">\n",
       "      <th></th>\n",
       "      <th>Buy Ts</th>\n",
       "      <th>Revenue</th>\n",
       "      <th>Uid</th>\n",
       "    </tr>\n",
       "  </thead>\n",
       "  <tbody>\n",
       "    <tr>\n",
       "      <th>0</th>\n",
       "      <td>2017-06-01 00:10:00</td>\n",
       "      <td>17.00</td>\n",
       "      <td>10329302124590727494</td>\n",
       "    </tr>\n",
       "    <tr>\n",
       "      <th>1</th>\n",
       "      <td>2017-06-01 00:25:00</td>\n",
       "      <td>0.55</td>\n",
       "      <td>11627257723692907447</td>\n",
       "    </tr>\n",
       "    <tr>\n",
       "      <th>2</th>\n",
       "      <td>2017-06-01 00:27:00</td>\n",
       "      <td>0.37</td>\n",
       "      <td>17903680561304213844</td>\n",
       "    </tr>\n",
       "    <tr>\n",
       "      <th>3</th>\n",
       "      <td>2017-06-01 00:29:00</td>\n",
       "      <td>0.55</td>\n",
       "      <td>16109239769442553005</td>\n",
       "    </tr>\n",
       "    <tr>\n",
       "      <th>4</th>\n",
       "      <td>2017-06-01 07:58:00</td>\n",
       "      <td>0.37</td>\n",
       "      <td>14200605875248379450</td>\n",
       "    </tr>\n",
       "  </tbody>\n",
       "</table>\n",
       "</div>"
      ],
      "text/plain": [
       "               Buy Ts  Revenue                   Uid\n",
       "0 2017-06-01 00:10:00    17.00  10329302124590727494\n",
       "1 2017-06-01 00:25:00     0.55  11627257723692907447\n",
       "2 2017-06-01 00:27:00     0.37  17903680561304213844\n",
       "3 2017-06-01 00:29:00     0.55  16109239769442553005\n",
       "4 2017-06-01 07:58:00     0.37  14200605875248379450"
      ]
     },
     "execution_count": 11,
     "metadata": {},
     "output_type": "execute_result"
    }
   ],
   "source": [
    "print('Duplicates found - ',orders.duplicated().sum(),' records')\n",
    "orders[:5]"
   ]
  },
  {
   "cell_type": "code",
   "execution_count": 12,
   "metadata": {},
   "outputs": [
    {
     "name": "stdout",
     "output_type": "stream",
     "text": [
      "<class 'pandas.core.frame.DataFrame'>\n",
      "RangeIndex: 2542 entries, 0 to 2541\n",
      "Data columns (total 3 columns):\n",
      " #   Column     Non-Null Count  Dtype         \n",
      "---  ------     --------------  -----         \n",
      " 0   source_id  2542 non-null   int64         \n",
      " 1   dt         2542 non-null   datetime64[ns]\n",
      " 2   costs      2542 non-null   float64       \n",
      "dtypes: datetime64[ns](1), float64(1), int64(1)\n",
      "memory usage: 59.7 KB\n"
     ]
    }
   ],
   "source": [
    "costs.info()"
   ]
  },
  {
   "cell_type": "code",
   "execution_count": 13,
   "metadata": {},
   "outputs": [
    {
     "name": "stdout",
     "output_type": "stream",
     "text": [
      "Duplicates found -  0  records\n"
     ]
    },
    {
     "data": {
      "text/html": [
       "<div>\n",
       "<style scoped>\n",
       "    .dataframe tbody tr th:only-of-type {\n",
       "        vertical-align: middle;\n",
       "    }\n",
       "\n",
       "    .dataframe tbody tr th {\n",
       "        vertical-align: top;\n",
       "    }\n",
       "\n",
       "    .dataframe thead th {\n",
       "        text-align: right;\n",
       "    }\n",
       "</style>\n",
       "<table border=\"1\" class=\"dataframe\">\n",
       "  <thead>\n",
       "    <tr style=\"text-align: right;\">\n",
       "      <th></th>\n",
       "      <th>source_id</th>\n",
       "      <th>dt</th>\n",
       "      <th>costs</th>\n",
       "    </tr>\n",
       "  </thead>\n",
       "  <tbody>\n",
       "    <tr>\n",
       "      <th>0</th>\n",
       "      <td>1</td>\n",
       "      <td>2017-06-01</td>\n",
       "      <td>75.20</td>\n",
       "    </tr>\n",
       "    <tr>\n",
       "      <th>1</th>\n",
       "      <td>1</td>\n",
       "      <td>2017-06-02</td>\n",
       "      <td>62.25</td>\n",
       "    </tr>\n",
       "    <tr>\n",
       "      <th>2</th>\n",
       "      <td>1</td>\n",
       "      <td>2017-06-03</td>\n",
       "      <td>36.53</td>\n",
       "    </tr>\n",
       "    <tr>\n",
       "      <th>3</th>\n",
       "      <td>1</td>\n",
       "      <td>2017-06-04</td>\n",
       "      <td>55.00</td>\n",
       "    </tr>\n",
       "    <tr>\n",
       "      <th>4</th>\n",
       "      <td>1</td>\n",
       "      <td>2017-06-05</td>\n",
       "      <td>57.08</td>\n",
       "    </tr>\n",
       "  </tbody>\n",
       "</table>\n",
       "</div>"
      ],
      "text/plain": [
       "   source_id         dt  costs\n",
       "0          1 2017-06-01  75.20\n",
       "1          1 2017-06-02  62.25\n",
       "2          1 2017-06-03  36.53\n",
       "3          1 2017-06-04  55.00\n",
       "4          1 2017-06-05  57.08"
      ]
     },
     "execution_count": 13,
     "metadata": {},
     "output_type": "execute_result"
    }
   ],
   "source": [
    "print('Duplicates found - ',costs.duplicated().sum(),' records')\n",
    "costs[:5]"
   ]
  },
  {
   "cell_type": "markdown",
   "metadata": {},
   "source": [
    "**Conclusion:**<br />\n",
    "No missing data were found.<br />\n",
    "No duplicates were found.<br />\n",
    "There is no need to convert the data type.<br />\n",
    "For convenience, we need to rename the columns. We will remove spaces and make all letters small."
   ]
  },
  {
   "cell_type": "code",
   "execution_count": 14,
   "metadata": {},
   "outputs": [],
   "source": [
    "visits = visits.rename(columns = {'End Ts':'End_Ts','Source Id':'Source_Id','Start Ts':'Start_Ts'})\n",
    "orders = orders.rename(columns= {'Buy Ts':'Buy_Ts'})\n",
    "visits = visits.rename(str.lower, axis='columns')\n",
    "orders = orders.rename(str.lower, axis='columns')"
   ]
  },
  {
   "cell_type": "markdown",
   "metadata": {},
   "source": [
    "<div class=\"alert alert-success\" role=\"alert\">\n",
    "Solid initial analysis and conclusions! =)\n",
    "</div>"
   ]
  },
  {
   "cell_type": "markdown",
   "metadata": {},
   "source": [
    "### Step 2.  Make reports and calculate metrics<a name=\"step_2\"></a>"
   ]
  },
  {
   "cell_type": "markdown",
   "metadata": {},
   "source": [
    "#### 2.1 Product<a name=\"product\"></a>"
   ]
  },
  {
   "cell_type": "markdown",
   "metadata": {},
   "source": [
    "##### 2.1.1 How many people use our service every day, week, and month?<a name=\"dau\"></a>"
   ]
  },
  {
   "cell_type": "code",
   "execution_count": 15,
   "metadata": {},
   "outputs": [
    {
     "name": "stdout",
     "output_type": "stream",
     "text": [
      "907 people use the app every day.\n",
      "5716 people use the app every week.\n",
      "23228 people use the app every month.\n"
     ]
    }
   ],
   "source": [
    "visits['day']    = visits['start_ts'].dt.day\n",
    "visits['week']   = visits['start_ts'].dt.isocalendar().week\n",
    "visits['month']  = visits['start_ts'].dt.month\n",
    "visits['year']   = visits['start_ts'].dt.year\n",
    "\n",
    "dau = visits.groupby(['day','month','year']).agg({'uid':'nunique'}).mean()\n",
    "wau = visits.groupby(['week','year']).agg({'uid':'nunique'}).mean()\n",
    "mau = visits.groupby(['month','year']).agg({'uid':'nunique'}).mean()\n",
    "\n",
    "print('{:} people use the app every day.'.format(int(dau)))\n",
    "print('{:} people use the app every week.'.format(int(wau)))\n",
    "print('{:} people use the app every month.'.format(int(mau)))"
   ]
  },
  {
   "cell_type": "markdown",
   "metadata": {},
   "source": [
    "<div class=\"alert alert-success\" role=\"alert\">\n",
    "The numbers are correct =)\n",
    "</div>"
   ]
  },
  {
   "cell_type": "markdown",
   "metadata": {},
   "source": [
    "Let's build graphs:"
   ]
  },
  {
   "cell_type": "code",
   "execution_count": 16,
   "metadata": {},
   "outputs": [],
   "source": [
    "# Let's prepare the data for building the graph \"Number of users per day\"\n",
    "#DAU\n",
    "dau_graph = visits.groupby(['year','month','day']).agg({'uid':'nunique'})\n",
    "dau_graph = dau_graph.reset_index()\n",
    "\n",
    "dau_graph['day'] = dau_graph['day'].astype('string')\n",
    "dau_graph['month'] = dau_graph['month'].astype('string')\n",
    "dau_graph['year'] = dau_graph['year'].astype('string')\n",
    "\n",
    "dau_graph['xticks'] = dau_graph['month'] + '.' + dau_graph['year']"
   ]
  },
  {
   "cell_type": "code",
   "execution_count": 17,
   "metadata": {},
   "outputs": [
    {
     "data": {
      "image/png": "[encoded data removed]",
      "text/plain": [
       "<Figure size 1080x432 with 1 Axes>"
      ]
     },
     "metadata": {},
     "output_type": "display_data"
    }
   ],
   "source": [
    "fig, ax = plt.subplots(figsize=(15, 6))\n",
    "fig.subplots_adjust(bottom=0.15, left=0.2)\n",
    "ax.plot(dau_graph['uid'])\n",
    "x_pos = np.arange(len(dau_graph['uid']))\n",
    "ax.set_xlabel('Date', fontsize=14)\n",
    "ax.set_ylabel('Number of users', fontsize=14)\n",
    "ax.set_title('Dynamics of changes in the number of active users per day', fontsize=18)\n",
    "fig.patch.set_facecolor('xkcd:mint green')\n",
    "plt.xticks(x_pos,dau_graph['xticks'])\n",
    "loc = ticker.MultipleLocator(base=30) \n",
    "ax.xaxis.set_major_locator(loc)\n",
    "\n",
    "plt.show()"
   ]
  },
  {
   "cell_type": "markdown",
   "metadata": {},
   "source": [
    "Conclusion:<br />\n",
    "We clearly see weekly fluctuations on the graph, which means that the number of users on different days of the week is not the same. As we can see, the number of unique users has been growing since July 2017, but in November it stops and a gradual decline begins."
   ]
  },
  {
   "cell_type": "markdown",
   "metadata": {},
   "source": [
    "<div class=\"alert alert-success\" role=\"alert\">\n",
    "Excellent illustration! And I really the touch with custom background =) \n",
    "</div>"
   ]
  },
  {
   "cell_type": "code",
   "execution_count": 18,
   "metadata": {},
   "outputs": [],
   "source": [
    "#MAU\n",
    "mau_graph = visits.groupby(['year','month']).agg({'uid':'nunique'})\n",
    "mau_graph = mau_graph.reset_index()\n",
    "\n",
    "mau_graph['month'] = mau_graph['month'].astype('string')\n",
    "mau_graph['year'] = mau_graph['year'].astype('string')\n",
    "\n",
    "mau_graph['xticks'] = mau_graph['month'] + '.' + mau_graph['year']"
   ]
  },
  {
   "cell_type": "code",
   "execution_count": 19,
   "metadata": {},
   "outputs": [
    {
     "data": {
      "image/png": "[encoded data removed]",
      "text/plain": [
       "<Figure size 1080x432 with 1 Axes>"
      ]
     },
     "metadata": {},
     "output_type": "display_data"
    }
   ],
   "source": [
    "# Let's build a graph:\n",
    "\n",
    "n = len(mau_graph['xticks'])\n",
    "ind = np.arange(n) \n",
    "\n",
    "fig, ax = plt.subplots(figsize=(15, 6))\n",
    "plt.bar(ind, mau_graph['uid'],\n",
    "        align='center',\n",
    "        alpha=0.8, \n",
    "        color='cornflowerblue')\n",
    "\n",
    "fig.patch.set_facecolor('xkcd:mint green')\n",
    "plt.xlabel('Month', fontsize=14)\n",
    "plt.ylabel('Number of users', fontsize=14)\n",
    "plt.title('Dynamics of changes in the number of active users per month', fontsize=18)\n",
    "plt.xticks(ind, mau_graph['xticks'])\n",
    "for idx,i in enumerate(ax.patches):\n",
    "    ax.text(i.get_x()+.1, \n",
    "            i.get_height()-2000, \n",
    "            int(mau_graph['uid'][idx]), \n",
    "            fontsize=12,color='gold')\n",
    "plt.show()"
   ]
  },
  {
   "cell_type": "markdown",
   "metadata": {},
   "source": [
    "Conclusion:<br /> As the graph shows, the number of users increases in winter. The minimum number of users is observed in August. From August to November, the number of users triples."
   ]
  },
  {
   "cell_type": "markdown",
   "metadata": {},
   "source": [
    "##### 2.1.1.1 Sticky factor<a name=\"sticky_factor\"></a>"
   ]
  },
  {
   "cell_type": "code",
   "execution_count": 20,
   "metadata": {},
   "outputs": [
    {
     "name": "stdout",
     "output_type": "stream",
     "text": [
      "DAU/WAU is 15.88.\n",
      "DAU/MAU is 3.91.\n"
     ]
    }
   ],
   "source": [
    "sticky_factor_w = dau/wau*100\n",
    "sticky_factor_m = dau/mau*100\n",
    "print('DAU/WAU is {:.2f}.'.format(sticky_factor_w[0]))\n",
    "print('DAU/MAU is {:.2f}.'.format(sticky_factor_m[0]))"
   ]
  },
  {
   "cell_type": "markdown",
   "metadata": {},
   "source": [
    "Sticky factors themselves are not very informative.<br />\n",
    "Let's build graphs for analysis."
   ]
  },
  {
   "cell_type": "markdown",
   "metadata": {},
   "source": [
    "<div class=\"alert alert-success\" role=\"alert\">\n",
    "Perfect!\n",
    "</div>"
   ]
  },
  {
   "cell_type": "markdown",
   "metadata": {},
   "source": [
    "##### 2.1.1.2 Graph 1. Sticky factor  (DAU/MAU and DAU)<a name=\"sticky_factor2\"></a>"
   ]
  },
  {
   "cell_type": "code",
   "execution_count": 21,
   "metadata": {},
   "outputs": [],
   "source": [
    "visits['date'] = visits['start_ts'].dt.floor('1D')\n",
    "min_date = visits['date'].min() # date of first visit\n",
    "\n",
    "dau_all_term = visits.groupby(['date']).agg({'uid':'nunique'})\n",
    "dau_all_term = dau_all_term.reset_index()"
   ]
  },
  {
   "cell_type": "code",
   "execution_count": null,
   "metadata": {},
   "outputs": [],
   "source": [
    "def fill_sticky_factor(item):\n",
    "    # skip the first 30 days so that we can calculate the data for the first month\n",
    "    if int( (item-min_date) /np.timedelta64(1, 'D') ) > 29:\n",
    "        dau_day_x = dau_all_term[dau_all_term['date'] == item]['uid'].min()\n",
    "        maintime = item - pd.Timedelta(days=30)\n",
    "        mau_day_x = visits.query('date <= @item and date > @maintime')['uid'].nunique()\n",
    "        return dau_day_x / mau_day_x *100\n",
    "    else:\n",
    "        return 0\n",
    "\n",
    "dau_all_term['sticky_factor'] = (\n",
    "    dau_all_term['date'].apply(fill_sticky_factor)\n",
    ")"
   ]
  },
  {
   "cell_type": "code",
   "execution_count": null,
   "metadata": {},
   "outputs": [],
   "source": [
    "# graph 1. Sticky factor  (DAU/MAU and DAU)\n",
    "fig, ax1 = plt.subplots(figsize=(15, 6))\n",
    "color_ax1 = 'tab:blue'\n",
    "plt.plot(dau_graph['uid'],color = color_ax1)\n",
    "\n",
    "x_pos = np.arange(len(dau_graph['uid']))\n",
    "fig.patch.set_facecolor('xkcd:mint green')\n",
    "plt.xlabel('Month', fontsize=14)\n",
    "plt.ylabel('Number of users', fontsize=14, color=color_ax1)\n",
    "plt.tick_params(axis='y', labelcolor=color_ax1)\n",
    "plt.title('DAU/MAU and DAU', fontsize=24)\n",
    "plt.xticks(x_pos,dau_graph['xticks'])\n",
    "loc = ticker.MultipleLocator(base=30) \n",
    "ax1.xaxis.set_major_locator(loc)\n",
    "\n",
    "#plot graph 2.  Sticky factor \n",
    "ax2 = ax1.twinx()  # instantiate a second axes that shares the same x-axis\n",
    "color_ax2 = 'tab:red'\n",
    "ax2.set_ylabel('Sticky factor  (DAU/MAU)',\n",
    "               color=color_ax2,\n",
    "               fontsize=14)  # we already handled the x-label with ax1\n",
    "ax2.plot(dau_all_term.query('sticky_factor > 0')['sticky_factor'], \n",
    "         color = color_ax2)\n",
    "ax2.tick_params(axis='y', labelcolor = color_ax2)\n",
    "fig.tight_layout()  # otherwise the right y-label is slightly clipped\n",
    "plt.show()"
   ]
  },
  {
   "cell_type": "markdown",
   "metadata": {},
   "source": [
    "Conclusion: <br />\n",
    "As we can see, from August 2017 our charts began to converge, which means that users began to use our service less often. Since October, the charts have had the same dynamics, which means that the decline in interest in our service has stopped. In March 2018, sticky factor began to grow more sharply than DAU, which means that users began to use our service more often, which is good news."
   ]
  },
  {
   "cell_type": "markdown",
   "metadata": {},
   "source": [
    "<div class=\"alert alert-success\" role=\"alert\">\n",
    "Very interesting insight and cool illustration! =)\n",
    "</div>"
   ]
  },
  {
   "cell_type": "markdown",
   "metadata": {},
   "source": [
    "##### 2.1.1.3 Graph 2. Sticky factor  (DAU/MAU and MAU)<a name=\"sticky_factor3\"></a>"
   ]
  },
  {
   "cell_type": "code",
   "execution_count": null,
   "metadata": {},
   "outputs": [],
   "source": [
    "dau_all_term['month']  = dau_all_term['date'].dt.month\n",
    "dau_all_term['year']   = dau_all_term['date'].dt.year\n",
    "dau_all_term['month']  = dau_all_term['month'].astype('string')\n",
    "dau_all_term['year']   = dau_all_term['year'].astype('string')\n",
    "\n",
    "dau_all_term['xticks'] = dau_all_term['month'] + '.' + dau_all_term['year']\n",
    "dau_month = dau_all_term.groupby('xticks').agg({'sticky_factor':'mean'})\n",
    "dau_month = dau_month.reset_index()\n",
    "mau_graph = mau_graph.merge(dau_month, on = 'xticks')\n",
    "pattern = mau_graph "
   ]
  },
  {
   "cell_type": "code",
   "execution_count": null,
   "metadata": {},
   "outputs": [],
   "source": [
    "# Let's build a graph:\n",
    "t = np.arange(0.01, 10.0, 0.01)\n",
    "data1 = np.exp(t)\n",
    "data2 = np.sin(2 * np.pi * t)\n",
    "n = len(mau_graph['xticks'])\n",
    "ind = np.arange(n) \n",
    "\n",
    "fig, ax1 = plt.subplots(figsize=(15, 6))\n",
    "plt.bar(ind, mau_graph['uid'],\n",
    "        align='center',\n",
    "        alpha=0.8, \n",
    "        color='cornflowerblue')\n",
    "\n",
    "fig.patch.set_facecolor('xkcd:mint green')\n",
    "plt.xlabel('Month', fontsize=14)\n",
    "plt.ylabel('Number of users', fontsize=14)\n",
    "plt.title('DAU/MAU and MAU', fontsize=24)\n",
    "plt.xticks(ind, mau_graph['xticks'])\n",
    "ax1.set_ylim([0, 40000])\n",
    "\n",
    "  \n",
    "ax2 = ax1.twinx()  # instantiate a second axes that shares the same x-axis\n",
    "color = 'tab:red'\n",
    "ax2.set_ylabel('Sticky factor  (DAU/MAU)', color=color, fontsize=14)  # we already handled the x-label with ax1\n",
    "ax2.plot(mau_graph.query('sticky_factor > 0')['sticky_factor'], color=color, linewidth=7.0)\n",
    "ax2.tick_params(axis='y', labelcolor=color)\n",
    "ax2.set_ylim([0, 6])\n",
    "fig.tight_layout()  # otherwise the right y-label is slightly clipped\n",
    "plt.show()"
   ]
  },
  {
   "cell_type": "markdown",
   "metadata": {},
   "source": [
    "Conclusion:<br />\n",
    "The graph shows that the sticky factor for the first 4 months had the same dynamics as MAU. However, then it began to decline, while the MAU was quite stable from 10.2017 to 3.2018. This means that the number of unique users per month was stable, and the number of unique users per day began to decrease, which means that users began to use our service less often. However, in January 2018, the decline stopped and we see that the sticky factor has begun to grow, which indicates that users have begun to use our service more often."
   ]
  },
  {
   "cell_type": "markdown",
   "metadata": {},
   "source": [
    "<div class=\"alert alert-warning\" role=\"alert\">\n",
    "Very cool! Though, when you plot something with multiple lines/colors, I would strongly advise to either add a legend of sorts or at least to elaborate in the comments what each line means.\n",
    "</div>"
   ]
  },
  {
   "cell_type": "markdown",
   "metadata": {},
   "source": [
    "##### 2.1.2 The number of sessions per day.<a name=\"session\"></a>"
   ]
  },
  {
   "cell_type": "code",
   "execution_count": null,
   "metadata": {},
   "outputs": [],
   "source": [
    "sessions_per_day   = visits.groupby(['year','month','day']).agg({'uid':'count'})\n",
    "sessions_per_day   = sessions_per_day.rename(columns = {'uid':'count_sessions'})\n",
    "print('Average number of sessions per day - {:}'.format(int(sessions_per_day.mean())))"
   ]
  },
  {
   "cell_type": "markdown",
   "metadata": {},
   "source": [
    "##### 2.1.2.1 Comparison of the dynamics of the total number of sessions per day with the dynamics of DAU.<a name=\"session2\"></a>"
   ]
  },
  {
   "cell_type": "code",
   "execution_count": null,
   "metadata": {},
   "outputs": [],
   "source": [
    "sessions_per_day = sessions_per_day.reset_index().reset_index()\n",
    "dau_graph = dau_graph.reset_index()"
   ]
  },
  {
   "cell_type": "code",
   "execution_count": null,
   "metadata": {},
   "outputs": [],
   "source": [
    "dau_graph = dau_graph.merge(sessions_per_day, on = 'index')\n",
    "dau_graph = dau_graph[['index','xticks','uid','count_sessions']]"
   ]
  },
  {
   "cell_type": "code",
   "execution_count": null,
   "metadata": {},
   "outputs": [],
   "source": [
    "# graph 1. DAU (total sessions and DAU)\n",
    "fig, ax1 = plt.subplots(figsize=(15, 8))\n",
    "color_ax1 = 'tab:blue'\n",
    "color_ax2 = 'tab:red'\n",
    "plt.plot(dau_graph['uid'],color = color_ax1)\n",
    "plt.plot(dau_graph['count_sessions'],color = color_ax2)\n",
    "\n",
    "x_pos = np.arange(len(dau_graph['uid']))\n",
    "fig.patch.set_facecolor('xkcd:mint green')\n",
    "plt.xlabel('Month', fontsize=14)\n",
    "plt.ylabel('Number of users', fontsize=14, color=color_ax1)\n",
    "plt.tick_params(axis='y', labelcolor=color_ax1)\n",
    "plt.title('Dynamics of total sessions per day and DAU', fontsize=24)\n",
    "plt.xticks(x_pos,dau_graph['xticks'])\n",
    "loc = ticker.MultipleLocator(base=30) \n",
    "ax1.xaxis.set_major_locator(loc)\n",
    "ax1.set_ylim([0, 2000])\n",
    "plt.legend([\"Number of users\", \"Number of sessions\"])\n",
    "\n",
    "fig.tight_layout() \n",
    "plt.show()"
   ]
  },
  {
   "cell_type": "markdown",
   "metadata": {},
   "source": [
    "Conslusion:<br />\n",
    "As we can see the \"Number of sessions\" chart is always slightly ahead of the DAU chart. The lead is insignificant, which means that very rarely people use the service several times a day.\n"
   ]
  },
  {
   "cell_type": "markdown",
   "metadata": {},
   "source": [
    "##### 2.1.2.2 The average number of sessions per user.<a name=\"session3\"></a>"
   ]
  },
  {
   "cell_type": "code",
   "execution_count": null,
   "metadata": {},
   "outputs": [],
   "source": [
    "dau_graph['number_sessions_per_user'] = dau_graph['count_sessions']/dau_graph['uid']"
   ]
  },
  {
   "cell_type": "code",
   "execution_count": null,
   "metadata": {},
   "outputs": [],
   "source": [
    "fig, ax = plt.subplots(figsize=(15, 6))\n",
    "fig.subplots_adjust(bottom=0.15, left=0.2)\n",
    "ax.plot(dau_graph['number_sessions_per_user'])\n",
    "x_pos = np.arange(len(dau_graph['number_sessions_per_user']))\n",
    "ax.set_xlabel('Date', fontsize=14)\n",
    "ax.set_ylabel('Number of sessions per user', fontsize=14)\n",
    "ax.set_title('Dynamics of changes in the number of sessions per user', fontsize=18)\n",
    "fig.patch.set_facecolor('xkcd:mint green')\n",
    "plt.xticks(x_pos,dau_graph['xticks'])\n",
    "loc = ticker.MultipleLocator(base=30) \n",
    "ax.xaxis.set_major_locator(loc)\n",
    "\n",
    "plt.show()"
   ]
  },
  {
   "cell_type": "markdown",
   "metadata": {},
   "source": [
    "Conclusion:<br />\n",
    "As we can see, during the entire observation period, the number of sessions per user varies from 1.05 to 1.15. This means that people do not need to use our service several times a day."
   ]
  },
  {
   "cell_type": "markdown",
   "metadata": {},
   "source": [
    "<div class=\"alert alert-success\" role=\"alert\">\n",
    "Excellent!\n",
    "</div>"
   ]
  },
  {
   "cell_type": "markdown",
   "metadata": {},
   "source": [
    "##### 2.1.2.3 Distribution of sessions by device type.<a name=\"session4\"></a>"
   ]
  },
  {
   "cell_type": "code",
   "execution_count": null,
   "metadata": {},
   "outputs": [],
   "source": [
    "sessions_touch = ( \n",
    "    visits[visits['device'] == 'touch'].\n",
    "    groupby(['year','month','day']).\n",
    "    agg({'uid':'count'}).reset_index()\n",
    ")\n",
    "sessions_touch   = sessions_touch.rename(columns = {'uid':'count_sessions'})\n",
    "sessions_desktop = ( \n",
    "    visits[visits['device'] == 'desktop'].\n",
    "    groupby(['year','month','day']).\n",
    "    agg({'uid':'count'}).reset_index()\n",
    ")\n",
    "sessions_desktop  = sessions_desktop.rename(columns = {'uid':'count_sessions'})\n"
   ]
  },
  {
   "cell_type": "code",
   "execution_count": null,
   "metadata": {},
   "outputs": [],
   "source": [
    "def create_column_date(df):\n",
    "    df['day']    = df['day'].astype('string')\n",
    "    df['month']  = df['month'].astype('string')\n",
    "    df['year']   = df['year'].astype('string')\n",
    "    df['xticks'] = df['month'] + '.' + df['year']\n",
    "    df['date']   = df['day'] + '.' + df['month'] + '.' + df['year']    \n",
    "    return df\n",
    "create_column_date(sessions_desktop)\n",
    "create_column_date(sessions_touch)\n",
    "sessions_desktop = sessions_desktop.rename(columns = {'count_sessions':'column_name_desktop'})\n",
    "sessions_touch   = sessions_touch.rename(columns = {'count_sessions':'column_name_touch'})\n",
    "sessions_desktop = sessions_desktop.merge(sessions_touch, on = 'date')\n",
    "sessions_desktop = sessions_desktop[['column_name_desktop','column_name_touch','xticks_x','date']]\n"
   ]
  },
  {
   "cell_type": "code",
   "execution_count": null,
   "metadata": {},
   "outputs": [],
   "source": [
    "fig, ax = plt.subplots(figsize=(15, 6))\n",
    "fig.subplots_adjust(bottom=0.15, left=0.2)\n",
    "ax.plot(sessions_desktop['column_name_desktop'])\n",
    "ax.plot(sessions_desktop['column_name_touch'])\n",
    "x_pos = np.arange(len(sessions_desktop['column_name_touch']))\n",
    "ax.set_xlabel('Date', fontsize=14)\n",
    "ax.set_ylabel('Number of sessions per user', fontsize=14)\n",
    "ax.set_title('Dynamics of changes in the number of sessions per user', fontsize=18)\n",
    "fig.patch.set_facecolor('xkcd:mint green')\n",
    "plt.xticks(x_pos,sessions_desktop['xticks_x'])\n",
    "loc = ticker.MultipleLocator(base=30) \n",
    "ax.xaxis.set_major_locator(loc)\n",
    "ax.set_ylim([0, 3500])\n",
    "plt.legend([\"Desktop\", \"Touch\"])\n",
    "plt.show()\n"
   ]
  },
  {
   "cell_type": "markdown",
   "metadata": {},
   "source": [
    "Conclusion:<br />\n",
    "As we can see in the graph, our service is used about 3 times more often from a personal computer than from a mobile device. The graph also shows that mobile phone users use services more evenly throughout the week, while PC users have significantly reduced sessions on weekends. This is due to the fact that a mobile phone is always with us, while many users use a PC at work."
   ]
  },
  {
   "cell_type": "markdown",
   "metadata": {},
   "source": [
    "##### 2.1.3 The duration of each session.<a name=\"duration\"></a>"
   ]
  },
  {
   "cell_type": "code",
   "execution_count": null,
   "metadata": {},
   "outputs": [],
   "source": [
    "visits['session_duration_sec'] = (visits['end_ts'] - visits['start_ts']).dt.seconds"
   ]
  },
  {
   "cell_type": "markdown",
   "metadata": {},
   "source": [
    "Let's examine the resulting data."
   ]
  },
  {
   "cell_type": "code",
   "execution_count": null,
   "metadata": {},
   "outputs": [],
   "source": [
    "fig, ax = plt.subplots(figsize=(15, 6))\n",
    "fig.patch.set_facecolor('xkcd:mint green')\n",
    "plt.hist(visits['session_duration_sec'], density=False,bins= 100)\n",
    "plt.title('Duration of sessions')\n",
    "plt.ylabel('Amount')\n",
    "plt.xlabel('Length session (sec)')\n",
    "#Data structure\n",
    "visits['session_duration_sec'].describe()"
   ]
  },
  {
   "cell_type": "markdown",
   "metadata": {},
   "source": [
    "<div class=\"alert alert-warning\" role=\"alert\">\n",
    "Your histogram looks a bit \"rare\" -- which isn't very informative. I would recommend to reduce the number of bins slightly -- for most dataframes 100 is usually an overkill. 20-30 should be more appropriate.\n",
    "<br>\n",
    "Also, try to use a logarithmic OY scale and see if it looks any better ;) \n",
    "</div>"
   ]
  },
  {
   "cell_type": "markdown",
   "metadata": {},
   "source": [
    "As you can see, the graph is not informative, it can be assumed that there are outliers.\n",
    "Let's discard the outliers and build a histogram."
   ]
  },
  {
   "cell_type": "code",
   "execution_count": null,
   "metadata": {},
   "outputs": [],
   "source": [
    "#outlier function\n",
    "def outliers_lower_upper(name_df,column):\n",
    "    q1 = name_df[column].quantile(0.25)\n",
    "    q3 = name_df[column].quantile(0.75)\n",
    "    iqr = q3 - q1\n",
    "    if q1 - iqr*1.5 < 0:\n",
    "        return (0, q3 + iqr*1.5)\n",
    "    else:\n",
    "        return (q1 - iqr*1.5, q3 + iqr*1.5)\n",
    "\n",
    "outliers_duration_sessions = outliers_lower_upper(visits,'session_duration_sec')\n",
    "print('Outliers \"Duration sessions\" is ',outliers_duration_sessions)\n"
   ]
  },
  {
   "cell_type": "code",
   "execution_count": null,
   "metadata": {},
   "outputs": [],
   "source": [
    "visits_without_outliers = (\n",
    "    visits[visits['session_duration_sec'] < outliers_duration_sessions[1]]\n",
    ")"
   ]
  },
  {
   "cell_type": "code",
   "execution_count": null,
   "metadata": {},
   "outputs": [],
   "source": [
    "fig, ax = plt.subplots(figsize=(15, 6))\n",
    "fig.patch.set_facecolor('xkcd:mint green')\n",
    "plt.hist(visits_without_outliers['session_duration_sec'],\n",
    "         density=False,\n",
    "         bins= 100,\n",
    "         range=(0,1920))\n",
    "plt.title('Duration of sessions')\n",
    "plt.ylabel('Amount')\n",
    "plt.xlabel('Length session (sec)')\n",
    "plt.show()"
   ]
  },
  {
   "cell_type": "markdown",
   "metadata": {},
   "source": [
    "<div class=\"alert alert-warning\" role=\"alert\">\n",
    "Same comment here about bins and logscale =)\n",
    "</div>"
   ]
  },
  {
   "cell_type": "markdown",
   "metadata": {},
   "source": [
    "Conclusion:<br />\n",
    "The distribution is normal and we can take the **median** to find out the average session length."
   ]
  },
  {
   "cell_type": "code",
   "execution_count": null,
   "metadata": {},
   "outputs": [],
   "source": [
    "visit_avg_lenght = visits_without_outliers['session_duration_sec'].mean()\n",
    "print('The average session duration is {:.0f} seconds.'.format(visit_avg_lenght))\n",
    "asl = visits['session_duration_sec'].mode()\n",
    "duration_zerro = len(visits_without_outliers.query('session_duration_sec == 0'))\n",
    "print('Most often the session lasted ',asl[0],' seconds.')\n",
    "print(duration_zerro, ' sessions of 0 seconds.')"
   ]
  },
  {
   "cell_type": "markdown",
   "metadata": {},
   "source": [
    "Conclusion:<br />\n",
    "Average session duration of **7 minutes** (438 seconds). Most often, sessions lasted **1 minute** (60 seconds).<br />\n",
    "There are **35794** sessions with a duration of 0 seconds, which means that a connection error occurred and the user was unable to use the service. This error could occur on the user's side (for example, the Internet did not work well) or on our side (for example, the server did not work)."
   ]
  },
  {
   "cell_type": "markdown",
   "metadata": {},
   "source": [
    "##### 2.1.3.1 Dynamics of changes in the length of the session.<a name=\"duration1\"></a>"
   ]
  },
  {
   "cell_type": "code",
   "execution_count": null,
   "metadata": {},
   "outputs": [],
   "source": [
    "duration = ( \n",
    "    visits_without_outliers.\n",
    "    groupby(['year','month','day']).\n",
    "    agg({'session_duration_sec':'mean'}).reset_index()\n",
    ")\n",
    "duration['month']  = duration['month'].astype('string')\n",
    "duration['year']   = duration['year'].astype('string')\n",
    "duration['xticks'] = duration['month'] + '.' + duration['year']"
   ]
  },
  {
   "cell_type": "code",
   "execution_count": null,
   "metadata": {},
   "outputs": [],
   "source": [
    "fig, ax = plt.subplots(figsize=(15, 8))\n",
    "fig.subplots_adjust(bottom=0.15, left=0.2)\n",
    "ax.plot(duration['session_duration_sec'])\n",
    "x_pos = np.arange(len(duration['session_duration_sec']))\n",
    "ax.set_xlabel('Date', fontsize=14)\n",
    "ax.set_ylabel('Length of session, (sec)', fontsize=14)\n",
    "ax.set_title('Dynamics of changes in the length of session', fontsize=18)\n",
    "fig.patch.set_facecolor('xkcd:mint green')\n",
    "plt.xticks(x_pos,duration['xticks'])\n",
    "loc = ticker.MultipleLocator(base=30) \n",
    "ax.xaxis.set_major_locator(loc)\n",
    "ax.set_ylim([325, 525])\n",
    "\n",
    "# plot average line\n",
    "def moving_average(x, w):\n",
    "    return np.convolve(x, np.ones(w), 'valid') / w\n",
    "\n",
    "NAvg = 30\n",
    "XAvg = np.array(x_pos[NAvg - 1:])\n",
    "YAvg = moving_average(duration['session_duration_sec'], NAvg)\n",
    "ax.plot(XAvg,YAvg, color=color, linewidth=3.0)\n",
    "\n",
    "plt.show()"
   ]
  },
  {
   "cell_type": "markdown",
   "metadata": {},
   "source": [
    "Conclusion:<br />\n",
    "As we can see in the graph, from August to December the session duration gradually increased, perhaps there were more offers and the user needed more time to choose what exactly he wants to order. Since December, there has been a gradual decrease in the duration of the session.\n"
   ]
  },
  {
   "cell_type": "markdown",
   "metadata": {},
   "source": [
    "<div class=\"alert alert-warning\" role=\"alert\">\n",
    "Ok, again -- these two lines, blue is the values, and red is moving average -- REALLY cool style, very informative, love it! But, please, don't forget the legend. Otherwise I can't tell what that means without checking your code directly.\n",
    "</div>"
   ]
  },
  {
   "cell_type": "markdown",
   "metadata": {},
   "source": [
    "##### 2.1.4 How often do users come back?<a name=\"come_back\"></a>"
   ]
  },
  {
   "cell_type": "code",
   "execution_count": null,
   "metadata": {},
   "outputs": [],
   "source": [
    "visits_retention  = visits\n",
    "def find_first_session(df, name_column, activity_type = 'first_session'):\n",
    "    #Finding the date of the user's first visit\n",
    "    visits_first = df.groupby(['uid']).agg({name_column:'min'})\n",
    "    visits_first = visits_first.rename(columns = {name_column:activity_type})\n",
    "    df = df.merge(visits_first, on = 'uid')   \n",
    "    df[activity_type] = df[activity_type].dt.floor('1D')\n",
    "    return df\n"
   ]
  },
  {
   "cell_type": "code",
   "execution_count": null,
   "metadata": {},
   "outputs": [],
   "source": [
    "def find_beginning_of_month_session(df):\n",
    "    #Finding the date of the user's first visit\n",
    "    df = find_first_session(df,'date')\n",
    "    #We find the first day of the month in which the first contact took place\n",
    "    df['first_session'] = (\n",
    "        pd.to_datetime(df['first_session'], unit='d') \n",
    "        -\n",
    "        pd.to_timedelta(df['first_session'].dt.day - 1, unit='d') \n",
    "    )\n",
    "    # We find the first day of the month in which the current contact took place\n",
    "    df['active_session'] = (\n",
    "        pd.to_datetime(df['date'], unit='d') \n",
    "        -\n",
    "        pd.to_timedelta(df['date'].dt.day - 1, unit='d') \n",
    "    )\n",
    "    return df\n",
    "\n",
    "visits_retention = find_beginning_of_month_session(visits_retention)\n"
   ]
  },
  {
   "cell_type": "code",
   "execution_count": null,
   "metadata": {},
   "outputs": [],
   "source": [
    "def calculate_cohort_lifetime(df):\n",
    "    # We calculate how many months have passed between the current and the first contact\n",
    "    df['cohort_lifetime'] = (\n",
    "        round(((df['active_session'] - df['first_session']) / \n",
    "               np.timedelta64(1,'M'))).astype(int)\n",
    "    )\n",
    "\n",
    "    # counting the number of unique users in each cohort every month\n",
    "    cohorts = (\n",
    "        df.groupby(['first_session','cohort_lifetime']).\n",
    "        agg({'uid':'nunique'}).\n",
    "        reset_index()\n",
    "    )\n",
    "    unique_users_first_month = cohorts[cohorts['cohort_lifetime'] == 0]\n",
    "    unique_users_first_month = ( \n",
    "        unique_users_first_month.\n",
    "        rename(columns = {'uid':'cohort_0',\n",
    "                          'cohort_lifetime':'cl2'})\n",
    "    )\n",
    "    cohorts = cohorts.merge(unique_users_first_month, on = 'first_session')\n",
    "    \n",
    "    # counting the retention rate\n",
    "    cohorts['retention'] = cohorts['uid']/cohorts['cohort_0']\n",
    "    cohorts['first_month_str']= cohorts['first_session'].dt.strftime('%Y.%m')\n",
    "\n",
    "    # Let's group the data for display in hotmap\n",
    "    cohorts_pivot_table = (\n",
    "        cohorts.\n",
    "        pivot_table(index='first_month_str',\n",
    "                    columns='cohort_lifetime',\n",
    "                    values='retention',\n",
    "                    aggfunc='sum')\n",
    "    )\n",
    "    return cohorts_pivot_table\n",
    "\n",
    "cohorts_pivot_table = calculate_cohort_lifetime(visits_retention)"
   ]
  },
  {
   "cell_type": "code",
   "execution_count": null,
   "metadata": {},
   "outputs": [],
   "source": [
    "#Let's build a hotmap:\n",
    "fig, ax = plt.subplots(figsize=(15, 8))\n",
    "fig.patch.set_facecolor('xkcd:mint green')\n",
    "plt.title('Montly users by lifetime', fontsize=24)\n",
    "    \n",
    "sns.heatmap(cohorts_pivot_table, \n",
    "            annot= True,\n",
    "            fmt = '.1%',\n",
    "            linewidths = 1,\n",
    "            linecolor = 'grey',\n",
    "            vmin = 0,\n",
    "            vmax = 0.1,\n",
    "            cmap = 'Blues' \n",
    "           )\n",
    "ax.set_ylabel('Cohorts', fontsize=14)    \n",
    "ax.set_xlabel('Lifetime', fontsize=14)\n",
    "    "
   ]
  },
  {
   "cell_type": "markdown",
   "metadata": {},
   "source": [
    "Conclusion:<br />\n",
    "As we can see, no more than 9% of users simultaneously re-access our service from the next months. And every month the number of users decreases. That is, we spend money on attracting clients, but after the first experience of cooperation, most clients do not contact us again. We need to figure out the reasons why users were unhappy and fix them. It is much cheaper to retain a customer than to attract a new one. Next, we will calculate how many users have contacted us for more than 1 time"
   ]
  },
  {
   "cell_type": "markdown",
   "metadata": {},
   "source": [
    "<div class=\"alert alert-success\" role=\"alert\">\n",
    "Ok, the numbers look just about right, good job! =)\n",
    "</div>"
   ]
  },
  {
   "cell_type": "markdown",
   "metadata": {},
   "source": [
    "##### Let's see if lifetime differs from device type."
   ]
  },
  {
   "cell_type": "code",
   "execution_count": null,
   "metadata": {},
   "outputs": [],
   "source": [
    "visits_retention_touch    = visits[visits['device'] == 'touch']\n",
    "visits_retention_desktop  = visits[visits['device'] == 'desktop']\n",
    "\n",
    "#Data preparation\n",
    "#touch\n",
    "visits_retention_touch      = find_beginning_of_month_session(visits_retention_touch)\n",
    "cohorts_pivot_table_touch   = calculate_cohort_lifetime(visits_retention_touch)\n",
    "\n",
    "#desktop\n",
    "visits_retention_desktop    = find_beginning_of_month_session(visits_retention_desktop)\n",
    "cohorts_pivot_table_desktop = calculate_cohort_lifetime(visits_retention_desktop)"
   ]
  },
  {
   "cell_type": "code",
   "execution_count": null,
   "metadata": {
    "scrolled": true
   },
   "outputs": [],
   "source": [
    "fig, ax = plt.subplots(figsize=(15, 6))\n",
    "fig.patch.set_facecolor('xkcd:mint green')\n",
    "ax1 = plt.subplot(121)\n",
    "res = sns.heatmap(cohorts_pivot_table_desktop, \n",
    "                  annot= True,\n",
    "                  fmt = '.1%',\n",
    "                  linewidths = 1,\n",
    "                  linecolor = 'grey',\n",
    "                  vmin = 0,\n",
    "                  vmax = 0.1,\n",
    "                  cmap = 'Blues',\n",
    "                  cbar = False\n",
    "                 )\n",
    "ax1.set_ylabel('Cohorts', fontsize=14)       \n",
    "ax1.set_xlabel('Lifetime', fontsize=14)\n",
    "ax1.set_title('Desktop', fontsize=18)\n",
    "    \n",
    "ax2 = plt.subplot(122)\n",
    "res = sns.heatmap(cohorts_pivot_table_touch, \n",
    "                  annot= True,\n",
    "                  fmt = '.1%',\n",
    "                  linewidths = 1,\n",
    "                  linecolor = 'grey',\n",
    "                  vmin = 0,\n",
    "                  vmax = 0.1, \n",
    "                  cmap = 'Blues',\n",
    "                  yticklabels = False, \n",
    "                  xticklabels = True,\n",
    "                  cbar = False\n",
    "                 )\n",
    "\n",
    "ax2.set_ylabel('')  \n",
    "ax2.set_xlabel('Lifetime', fontsize=14)\n",
    "ax2.set_title('Touch', fontsize=18)\n",
    "plt.show()"
   ]
  },
  {
   "cell_type": "markdown",
   "metadata": {},
   "source": [
    "Conclusion: <br />\n",
    "As you can see from the graphs, users who use Desktop are more likely to reuse the service. Perhaps the mobile version has flaws that need to be improved."
   ]
  },
  {
   "cell_type": "markdown",
   "metadata": {},
   "source": [
    "<div class=\"alert alert-success\" role=\"alert\">\n",
    "Wow, nice style!\n",
    "</div>"
   ]
  },
  {
   "cell_type": "markdown",
   "metadata": {},
   "source": [
    "##### Let's calculate what% of users have used the service more than once."
   ]
  },
  {
   "cell_type": "code",
   "execution_count": null,
   "metadata": {},
   "outputs": [],
   "source": [
    "uniq_user = len(visits.groupby('uid').agg({'uid':'nunique'}))\n",
    "\n",
    "count_user = visits.groupby('uid').agg({'uid':'count'})\n",
    "only_ones_visit = len(count_user[count_user['uid'] == 1])\n",
    "print('Total {:} unique users.'.format(uniq_user))\n",
    "print('{:} ({:.1%}) clients have used more than once.'.format(uniq_user - only_ones_visit,\n",
    "                                                        (uniq_user - only_ones_visit)/uniq_user))"
   ]
  },
  {
   "cell_type": "markdown",
   "metadata": {},
   "source": [
    "#### 2.2 Sales<a name=\"sales\"></a>"
   ]
  },
  {
   "cell_type": "markdown",
   "metadata": {},
   "source": [
    "#### 2.2.1 How long does it take between the first visit and the first purchase?<a name=\"conversion\"></a>"
   ]
  },
  {
   "cell_type": "code",
   "execution_count": null,
   "metadata": {},
   "outputs": [],
   "source": [
    "# # Let's add the date of the first order in the Orders table\n",
    "# orders = find_first_session(orders,'buy_ts','first_order')"
   ]
  },
  {
   "cell_type": "code",
   "execution_count": null,
   "metadata": {},
   "outputs": [],
   "source": [
    "# Let's find the date of the first order in the Orders table\n",
    "orders_first = orders.groupby('uid').agg({'buy_ts':'min'})\n",
    "orders_first = orders_first.rename(columns = {'buy_ts':'first_order'})\n",
    "orders_first['first_order'] = orders_first['first_order'].dt.floor('1D')"
   ]
  },
  {
   "cell_type": "code",
   "execution_count": null,
   "metadata": {},
   "outputs": [],
   "source": [
    "# Let's group the data about the first sessions\n",
    "visits_conversion = visits[['device','uid','date','source_id']]\n",
    "visits_conversion = visits_conversion.sort_values(by = 'date')\n",
    "\n",
    "visits_conversion  =  (\n",
    "    visits_conversion.\n",
    "    groupby('uid').\n",
    "    agg({'date':'min','device':'first','source_id':'first'}) \n",
    ")\n",
    "visits_conversion = visits_conversion.rename(columns = {'date':'first_session'})"
   ]
  },
  {
   "cell_type": "code",
   "execution_count": null,
   "metadata": {},
   "outputs": [],
   "source": [
    "#Let's combine the Orders_First and Visits_First tables\n",
    "conversion_first = orders_first.merge(visits_conversion, on= 'uid', how = 'left')"
   ]
  },
  {
   "cell_type": "code",
   "execution_count": null,
   "metadata": {},
   "outputs": [],
   "source": [
    "# Let's calculate the conversion time\n",
    "conversion_first['term'] = (\n",
    "    ((conversion_first['first_order'] - conversion_first['first_session']) \n",
    "    / np.timedelta64(1,'D')).astype('int')\n",
    ")"
   ]
  },
  {
   "cell_type": "markdown",
   "metadata": {},
   "source": [
    "##### 2.2.1.1 Average conversion<a name=\"conversion1\"></a>"
   ]
  },
  {
   "cell_type": "code",
   "execution_count": null,
   "metadata": {},
   "outputs": [],
   "source": [
    "#1\n",
    "avg_conversion = conversion_first['term'].mean()\n",
    "print('Average conversion is {:.1f} days.'.format(avg_conversion))"
   ]
  },
  {
   "cell_type": "markdown",
   "metadata": {},
   "source": [
    "##### 2.2.1.2 Distribution of conversions by source<a name=\"conversion2\"></a>"
   ]
  },
  {
   "cell_type": "code",
   "execution_count": null,
   "metadata": {},
   "outputs": [],
   "source": [
    "conversion_by_source = conversion_first.groupby('source_id').agg({'term':['mean','count']}).reset_index()\n",
    "conversion_by_source.columns = ['source_id','mean','count']\n",
    "conversion_by_source['ratio_count'] = ( \n",
    "    conversion_by_source['count'] / conversion_by_source['count'].sum()*100    \n",
    ")\n",
    "def create_label(item):\n",
    "    text = 'Source ' + str(int(item['source_id']))\n",
    "    return text\n",
    "conversion_by_source['label'] = conversion_by_source.apply(create_label,axis=1)\n"
   ]
  },
  {
   "cell_type": "code",
   "execution_count": null,
   "metadata": {},
   "outputs": [],
   "source": [
    "conversion_by_source = conversion_by_source[conversion_by_source['mean'] != 0].reset_index()"
   ]
  },
  {
   "cell_type": "code",
   "execution_count": null,
   "metadata": {},
   "outputs": [],
   "source": [
    "fig, ax1 = plt.subplots(figsize=(15, 6))\n",
    "fig.patch.set_facecolor('xkcd:mint green')\n",
    "ax1 = plt.subplot(121)\n",
    "\n",
    "n = len(conversion_by_source['label'])\n",
    "ind = np.arange(n) \n",
    "\n",
    "res = plt.bar(ind, conversion_by_source['mean'],\n",
    "        align='center',\n",
    "        alpha=0.8, \n",
    "        color='cornflowerblue')\n",
    "\n",
    "plt.xlabel('Source', fontsize=14)\n",
    "plt.ylabel('Days', fontsize=14)\n",
    "plt.title('Average Conversion time by source', fontsize=22)\n",
    "plt.xticks(ind, conversion_by_source['label'])\n",
    "for idx,i in enumerate(ax1.patches):\n",
    "    ax1.text(i.get_x() + .2, \n",
    "             i.get_height() - 3, \n",
    "             int(conversion_by_source['mean'][idx]), \n",
    "             fontsize=14,color='gold')\n",
    "   \n",
    "ax2 = plt.subplot(122)\n",
    "res = ax2.pie(conversion_by_source['ratio_count'],\n",
    "#         explode = explode ,\n",
    "        labels  = conversion_by_source['label'],\n",
    "        autopct = '%1.1f%%',\n",
    "        shadow  = True,\n",
    "        startangle = 60)\n",
    "ax2.axis('equal')  # Equal aspect ratio ensures that pie is drawn as a circle.\n",
    "ax2.set_title('Distribution of the number of orders', fontsize=22)\n",
    "\n",
    "plt.show()\n"
   ]
  },
  {
   "cell_type": "markdown",
   "metadata": {},
   "source": [
    "Conclusion:<br />\n",
    "As we can see, there are no orders from sources 6,7,8. A very long conversion period at source 9. Perhaps because of such a long period, only 2.9% of orders come from source 9. The most popular sources are 3 and 4, and their conversion time is 18 and 16 days, respectively. Best conversion time from 1 source."
   ]
  },
  {
   "cell_type": "markdown",
   "metadata": {},
   "source": [
    "<div class=\"alert alert-success\" role=\"alert\">\n",
    "Majestic! =)\n",
    "</div>"
   ]
  },
  {
   "cell_type": "markdown",
   "metadata": {},
   "source": [
    "##### 2.2.1.3 Distribution of conversions by term<a name=\"conversion3\"></a>"
   ]
  },
  {
   "cell_type": "code",
   "execution_count": null,
   "metadata": {},
   "outputs": [],
   "source": [
    "# determining the type of conversion\n",
    "def type_conversion(term):\n",
    "    if term == 0:\n",
    "        return 'Conversion 0d'\n",
    "    if term <=7:\n",
    "        return 'Conversion 7d'\n",
    "    if term <=14:\n",
    "        return 'Conversion 14d'\n",
    "    if term <=30:\n",
    "        return 'Conversion 30d'\n",
    "    else:\n",
    "        return 'Conversion >30d'"
   ]
  },
  {
   "cell_type": "code",
   "execution_count": null,
   "metadata": {},
   "outputs": [],
   "source": [
    "# Let's calculate the shares of each type of conversion\n",
    "conversion_first['type_conversion'] = conversion_first['term'].apply(type_conversion)\n",
    "conversion_shares = conversion_first.groupby('type_conversion').agg({'type_conversion':'count'})\n",
    "conversion_shares = conversion_shares.rename(columns = {'type_conversion':'count'})\n",
    "conversion_shares = conversion_shares.reset_index()\n",
    "conversion_shares['ratio'] = conversion_shares['count']/conversion_shares['count'].sum()*100\n"
   ]
  },
  {
   "cell_type": "code",
   "execution_count": null,
   "metadata": {},
   "outputs": [],
   "source": [
    "fig, ax1 = plt.subplots(figsize=(15, 6))\n",
    "fig.patch.set_facecolor('xkcd:mint green')\n",
    "explode = (0.1, 0, 0, 0, 0)\n",
    "ax1.pie(conversion_shares['ratio'],\n",
    "        explode = explode ,\n",
    "        labels  = conversion_shares['type_conversion'],\n",
    "        autopct = '%1.1f%%',\n",
    "        shadow  = True,\n",
    "        startangle = 60)\n",
    "ax1.axis('equal')  # Equal aspect ratio ensures that pie is drawn as a circle.\n",
    "ax1.set_title('Distribution of conversion', fontsize=24)\n",
    "plt.show()"
   ]
  },
  {
   "cell_type": "markdown",
   "metadata": {},
   "source": [
    "Conclusion:<br />\n",
    "As we can see from the pie chart, **68%** of orders are made on the day of the first visit to the site. **11.8%** of users make the order within a week after the first visit. More than **13%** make their first order no earlier than a month after the first visit."
   ]
  },
  {
   "cell_type": "markdown",
   "metadata": {},
   "source": [
    "<div class=\"alert alert-success\" role=\"alert\">\n",
    "Very nice!\n",
    "</div>"
   ]
  },
  {
   "cell_type": "markdown",
   "metadata": {},
   "source": [
    "##### 2.2.1.4 Distribution of conversion by devices<a name=\"conversion4\"></a>"
   ]
  },
  {
   "cell_type": "code",
   "execution_count": null,
   "metadata": {},
   "outputs": [],
   "source": [
    "conversion_by_device = conversion_first.groupby('device').agg({'term':['mean','count']}).reset_index()\n",
    "conversion_by_device.columns = ['device','mean','count']\n",
    "conversion_by_device['ratio_count'] = ( \n",
    "    conversion_by_device['count'] / conversion_by_device['count'].sum()*100    \n",
    ")\n",
    "conversion_by_device"
   ]
  },
  {
   "cell_type": "code",
   "execution_count": null,
   "metadata": {},
   "outputs": [],
   "source": [
    "fig, ax1 = plt.subplots(figsize=(15, 6))\n",
    "fig.patch.set_facecolor('xkcd:mint green')\n",
    "ax1 = plt.subplot(121)\n",
    "\n",
    "n = len(conversion_by_device['device'])\n",
    "ind = np.arange(n) \n",
    "bar_width = 0.6\n",
    "res = plt.bar(ind, conversion_by_device['mean'],bar_width,\n",
    "        align='center',\n",
    "        alpha=0.8, \n",
    "        color='cornflowerblue')\n",
    "\n",
    "plt.xlabel('Source', fontsize=14)\n",
    "plt.ylabel('Days', fontsize=14)\n",
    "plt.title('Average Conversion time by source', fontsize=22)\n",
    "plt.xticks(ind, conversion_by_device['device'], fontsize=14)\n",
    "for idx,i in enumerate(ax1.patches):\n",
    "    ax1.text(i.get_x() + .25, \n",
    "             i.get_height() - 2, \n",
    "             int(conversion_by_device['mean'][idx]), \n",
    "             fontsize=18,color='gold')\n",
    "   \n",
    "ax2 = plt.subplot(122)\n",
    "res = ax2.pie(conversion_by_device['ratio_count'],\n",
    "        labels  = conversion_by_device['device'],\n",
    "        autopct = '%1.1f%%',\n",
    "        shadow  = True,\n",
    "        startangle = 36)\n",
    "ax2.axis('equal')  # Equal aspect ratio ensures that pie is drawn as a circle.\n",
    "ax2.set_title('Distribution of the number of orders', fontsize=22)\n",
    "\n",
    "plt.show()"
   ]
  },
  {
   "cell_type": "markdown",
   "metadata": {},
   "source": [
    "Conclusion:<br />\n",
    "As you can see from the pie chart, more than 80% of orders come from Desktop. The average order conversion time for **Desktop** is **15 days** and for **Touch 20 days**. The pie chart shows the distribution of orders between devices in the first order. Further, the share of orders between devices among all orders will also be calculated."
   ]
  },
  {
   "cell_type": "markdown",
   "metadata": {},
   "source": [
    "<div class=\"alert alert-success\" role=\"alert\">\n",
    "Cool!\n",
    "</div>"
   ]
  },
  {
   "cell_type": "markdown",
   "metadata": {},
   "source": [
    "#### 2.2.2. The number of orders for each time period.<a name=\"orders\"></a>"
   ]
  },
  {
   "cell_type": "markdown",
   "metadata": {},
   "source": [
    "##### 2.2.2.1 Daily distribution of orders by source.<a name=\"orders1\"></a>"
   ]
  },
  {
   "cell_type": "code",
   "execution_count": null,
   "metadata": {},
   "outputs": [],
   "source": [
    "orders_all = orders.merge(visits_conversion, on= 'uid', how = 'left')\n",
    "orders_all['actual_date'] = orders_all['buy_ts'].dt.floor('1D')\n",
    "# Counting the number of orders every day for each source\n",
    "orders_per_day = ( \n",
    "    orders_all.\n",
    "    groupby(['actual_date','source_id'],\n",
    "            as_index=False).\n",
    "    agg({'device':'count'})\n",
    ")\n",
    "orders_per_day = orders_per_day.rename(columns = {'device':'count_orders'})\n",
    "orders_per_day['label'] = orders_per_day.apply(create_label,axis=1)\n",
    "source_dict  = orders_per_day.sort_values(by='source_id')['label'].unique().tolist()\n"
   ]
  },
  {
   "cell_type": "code",
   "execution_count": null,
   "metadata": {},
   "outputs": [],
   "source": [
    "# function to create a table \n",
    "def create_df_for_plot(type_source):\n",
    "    df_source = (\n",
    "        orders_per_day.query('label == @type_source')\n",
    "        .pivot_table(index = 'actual_date',\n",
    "                     values ='count_orders',\n",
    "                     aggfunc ='sum')\n",
    "    )\n",
    "    return df_source"
   ]
  },
  {
   "cell_type": "code",
   "execution_count": null,
   "metadata": {},
   "outputs": [],
   "source": [
    "# Let's build graphs\n",
    "fig, ax = plt.subplots(figsize=(15, 8))\n",
    "fig.subplots_adjust(bottom=0.15, left=0.2)\n",
    "for item in source_dict:\n",
    "     ax.plot(create_df_for_plot(item))\n",
    "\n",
    "ax.set_xlabel('Date')\n",
    "ax.set_ylabel('Number of orders')\n",
    "plt.legend(source_dict)\n",
    "ax.set_title('The number of orders from different sources by days.')\n",
    "ax.set_ylim([0, 100])\n",
    "fig.patch.set_facecolor('xkcd:mint green')\n",
    "\n",
    "plt.show()"
   ]
  },
  {
   "cell_type": "markdown",
   "metadata": {},
   "source": [
    "<div class=\"alert alert-warning\" role=\"alert\">\n",
    "Eh.. probably not the best of choices for illustration. Don't know about you, but personally I can't tell the difference between the lines (mostly because they are too noisy). Perhaps your trick with moving average could help  to smooth things up a little bit? =)\n",
    "</div>"
   ]
  },
  {
   "cell_type": "markdown",
   "metadata": {},
   "source": [
    "Conclusion:<br />\n",
    "As we can see, the graph is very detailed and not informative. It is very difficult to perceive information from it. Let's build a schedule based on the number of orders per week."
   ]
  },
  {
   "cell_type": "markdown",
   "metadata": {},
   "source": [
    "##### 2.2.2.2 Weekly distribution of orders by source..<a name=\"orders2\"></a>"
   ]
  },
  {
   "cell_type": "code",
   "execution_count": null,
   "metadata": {},
   "outputs": [],
   "source": [
    "#Finding the first day of the week\n",
    "orders_all['first_day_of_week'] = (\n",
    "    pd.to_datetime(orders_all['actual_date'], unit='d') \n",
    "    -\n",
    "    pd.to_timedelta(orders_all['actual_date'].dt.dayofweek, unit='d') \n",
    ")\n",
    "# Calculating the number of orders for this week\n",
    "orders_per_week = ( \n",
    "    orders_all.\n",
    "    groupby(['first_day_of_week','source_id'],\n",
    "            as_index=False).\n",
    "    agg({'device':'count'})\n",
    ")\n",
    "orders_per_week['label'] = orders_per_week.apply(create_label,axis=1)\n",
    "orders_per_week = orders_per_week.rename(columns = {'device':'count_orders'})\n"
   ]
  },
  {
   "cell_type": "code",
   "execution_count": null,
   "metadata": {},
   "outputs": [],
   "source": [
    "# Let's build graphs\n",
    "fig, ax = plt.subplots(figsize=(15, 8))\n",
    "fig.subplots_adjust(bottom=0.15, left=0.2)\n",
    "for type_source in source_dict:\n",
    "     ax.plot(orders_per_week.query('label == @type_source')\n",
    "             .pivot_table(index = 'first_day_of_week',\n",
    "                          values ='count_orders',\n",
    "                          aggfunc ='sum'))\n",
    "ax.set_xlabel('Date')\n",
    "ax.set_ylabel('Number of orders')\n",
    "plt.legend(source_dict)\n",
    "ax.set_title('The number of orders from different sources by weeks')\n",
    "fig.patch.set_facecolor('xkcd:mint green')\n",
    "\n",
    "plt.show()"
   ]
  },
  {
   "cell_type": "markdown",
   "metadata": {},
   "source": [
    "<div class=\"alert alert-warning\" role=\"alert\">\n",
    "Well, this looks better than daily, but still can be improved a bit, I think =) \n",
    "</div>"
   ]
  },
  {
   "cell_type": "markdown",
   "metadata": {},
   "source": [
    "Conclusion:<br />\n",
    "As we can see, in August 2017, orders from all sources were approximately at the same level, but then the number of orders from sources 3,4,5,2, and 1 began to grow. Orders from sources 3 and 4 have grown most of all. And from sources 9 and 10, a consistently low number of orders."
   ]
  },
  {
   "cell_type": "markdown",
   "metadata": {},
   "source": [
    "##### 2.2.2.3 Distribution of the number of orders by cohorts<a name=\"orders3\"></a>"
   ]
  },
  {
   "cell_type": "code",
   "execution_count": null,
   "metadata": {},
   "outputs": [],
   "source": [
    "# Finding the first day of the month\n",
    "orders_all['first_day_of_month_first_session'] = (\n",
    "    pd.to_datetime(orders_all['first_session'], unit='d') \n",
    "    -\n",
    "    pd.to_timedelta(orders_all['first_session'].dt.day-1, unit='d') \n",
    ")\n",
    "# Calculating the number of orders for this month\n",
    "orders_per_cohort = ( \n",
    "    orders_all.\n",
    "    groupby(['first_day_of_month_first_session','source_id'],\n",
    "            as_index=False).\n",
    "    agg({'device':'count'})\n",
    ")\n",
    "orders_per_cohort['label'] = orders_per_cohort.apply(create_label,axis=1)\n",
    "orders_per_cohort = orders_per_cohort.rename(columns = {'device':'count_orders'})\n"
   ]
  },
  {
   "cell_type": "code",
   "execution_count": null,
   "metadata": {},
   "outputs": [],
   "source": [
    "# We will find the share of orders from each source in each cohort.\n",
    "orders_cohort_all = orders_per_cohort.groupby('first_day_of_month_first_session').agg({'count_orders':'sum'})\n",
    "orders_cohort_all = orders_cohort_all.rename(columns = {'count_orders':'count_orders_all'})\n",
    "orders_per_cohort = orders_per_cohort.merge(orders_cohort_all, \n",
    "                                            on = 'first_day_of_month_first_session')\n",
    "orders_per_cohort['ratio'] = ( \n",
    "    orders_per_cohort['count_orders']/orders_per_cohort['count_orders_all']\n",
    ")\n"
   ]
  },
  {
   "cell_type": "code",
   "execution_count": null,
   "metadata": {},
   "outputs": [],
   "source": [
    "# removing anomalies\n",
    "orders_per_cohort = ( \n",
    "    orders_per_cohort[(orders_per_cohort['label'] != 'Source 7') \n",
    "    &\n",
    "    (orders_per_cohort['first_day_of_month_first_session'] != '2018-06-01')]\n",
    ")\n",
    "\n",
    "orders_per_cohort['first_day_of_month_first_session'] = ( \n",
    "    orders_per_cohort['first_day_of_month_first_session'].dt.strftime('%Y.%m')\n",
    ")\n",
    "\n",
    "orders_per_cohort_pivot_table = orders_per_cohort.pivot_table(index = 'first_day_of_month_first_session', \n",
    "                                                              columns = 'label', \n",
    "                                                              values = 'ratio', \n",
    "                                                              aggfunc = 'max')"
   ]
  },
  {
   "cell_type": "code",
   "execution_count": null,
   "metadata": {},
   "outputs": [],
   "source": [
    "fig, ax = plt.subplots(figsize=(15, 8))\n",
    "fig.patch.set_facecolor('xkcd:mint green')\n",
    "plt.title('Shares of the number of orders by source in each cohort', fontsize=18)\n",
    "    \n",
    "sns.heatmap(orders_per_cohort_pivot_table, \n",
    "            annot= True,\n",
    "            fmt = '.1%',\n",
    "            linewidths = 1,\n",
    "            linecolor = 'grey',\n",
    "            vmin = 0,\n",
    "            vmax = 0.3,\n",
    "            cmap = 'Blues',\n",
    "            yticklabels = True,\n",
    "           )\n",
    "ax.set_ylabel('Cohorts', fontsize=14)   \n",
    "ax.set_xlabel('Source', fontsize=14)\n"
   ]
  },
  {
   "cell_type": "markdown",
   "metadata": {},
   "source": [
    "Conclusion:<br />\n",
    "We see that the shares of Sources in different cohorts are approximately the same. However, there are exceptions. The share of source No. 1 in the first cohort is 2 times higher than in other cohorts, and the share of source No. 5 in the third cohort is noticeably higher than in others. It can be concluded that the shares change, but not much."
   ]
  },
  {
   "cell_type": "markdown",
   "metadata": {},
   "source": [
    "#### 2.2.3 The average purchase size.<a name=\"avg_orders\"></a>"
   ]
  },
  {
   "cell_type": "markdown",
   "metadata": {},
   "source": [
    "##### 2.2.3.1 The average size of percause by days.<a name=\"avg_orders1\"></a>"
   ]
  },
  {
   "cell_type": "code",
   "execution_count": null,
   "metadata": {},
   "outputs": [],
   "source": [
    "revenue_per_day = ( \n",
    "    orders_all.\n",
    "    groupby(['actual_date']).\n",
    "    agg({'revenue':'mean'})\n",
    ")"
   ]
  },
  {
   "cell_type": "code",
   "execution_count": null,
   "metadata": {},
   "outputs": [],
   "source": [
    "# Let's build graphs\n",
    "fig, ax = plt.subplots(figsize=(15, 8))\n",
    "fig.subplots_adjust(bottom=0.15, left=0.2)\n",
    "x_pos = np.arange(len(revenue_per_day))\n",
    "XAvg = np.array(x_pos)\n",
    "ax.plot(XAvg,revenue_per_day['revenue'])\n",
    "ax.set_xlabel('Date')\n",
    "ax.set_ylabel('The average size of purchase')\n",
    "ax.set_title('The average size of purchase by days')\n",
    "ax.set_ylim([0, 15])\n",
    "fig.patch.set_facecolor('xkcd:mint green')\n",
    "\n",
    "plt.xticks(x_pos,duration['xticks'])\n",
    "loc = ticker.MultipleLocator(base=30) \n",
    "ax.xaxis.set_major_locator(loc)\n",
    "# plot average line\n",
    "NAvg = 10\n",
    "XAvg = np.array(x_pos[NAvg - 1:])\n",
    "YAvg = moving_average(revenue_per_day['revenue'], NAvg)\n",
    "ax.plot(XAvg,YAvg, color=color, linewidth=3.0)\n",
    "\n",
    "plt.show()"
   ]
  },
  {
   "cell_type": "markdown",
   "metadata": {},
   "source": [
    "<div class=\"alert alert-success\" role=\"alert\">\n",
    "Pretty cool, yeah =)\n",
    "</div>"
   ]
  },
  {
   "cell_type": "markdown",
   "metadata": {},
   "source": [
    "Conclusions:<br />\n",
    "The average purchase price ranges from 4-6, with a sharp rise in December 2017 to 9."
   ]
  },
  {
   "cell_type": "markdown",
   "metadata": {},
   "source": [
    "##### 2.2.3.2 The average size of purchase by source<a name=\"avg_orders2\"></a>"
   ]
  },
  {
   "cell_type": "code",
   "execution_count": null,
   "metadata": {},
   "outputs": [],
   "source": [
    "revenue_source = ( \n",
    "    orders_all.\n",
    "    groupby(['source_id'],as_index=False).\n",
    "    agg({'revenue':'mean'})\n",
    ")\n",
    "revenue_source['label'] = revenue_source.apply(create_label,axis=1)"
   ]
  },
  {
   "cell_type": "code",
   "execution_count": null,
   "metadata": {},
   "outputs": [],
   "source": [
    "# create a plot\n",
    "\n",
    "n = len(revenue_source['label'])\n",
    "ind = np.arange(n) \n",
    "\n",
    "fig, ax = plt.subplots(figsize=(15, 6))\n",
    "plt.bar(ind, revenue_source['revenue'],\n",
    "        align='center',\n",
    "        alpha=0.8, \n",
    "        color='cornflowerblue')\n",
    "\n",
    "fig.patch.set_facecolor('xkcd:mint green')\n",
    "plt.xlabel('Source', fontsize=14)\n",
    "plt.ylabel('The average size of purchase', fontsize=14)\n",
    "plt.title('The average size of purchase by source', fontsize=18)\n",
    "plt.xticks(ind, revenue_source['label'])\n",
    "for idx,i in enumerate(ax.patches):\n",
    "    ax.text(i.get_x()+.2, \n",
    "            i.get_height()-0.6, \n",
    "            float(int(revenue_source['revenue'][idx]*100)/100), \n",
    "            fontsize=18,color='gold')\n",
    "plt.show()"
   ]
  },
  {
   "cell_type": "markdown",
   "metadata": {},
   "source": [
    "Conclusion: <br />\n",
    "As we can see, the largest average revenue from resources 2, 1, and 5. From the most popular resources (3 and 4), the average revenue is not so high."
   ]
  },
  {
   "cell_type": "markdown",
   "metadata": {},
   "source": [
    "##### 2.2.3.3 The average size of purchase by cohort<a name=\"avg_orders3\"></a>"
   ]
  },
  {
   "cell_type": "code",
   "execution_count": null,
   "metadata": {},
   "outputs": [],
   "source": [
    "orders_all['first_day_of_month_str'] = ( \n",
    "    orders_all['first_day_of_month_first_session'].dt.strftime('%Y.%m')\n",
    ")\n",
    "\n",
    "revenue_cohort = ( \n",
    "    orders_all.query('first_day_of_month_str != \"2018.06\"').\n",
    "    groupby(['first_day_of_month_str']).\n",
    "    agg({'revenue':'mean'})\n",
    ")"
   ]
  },
  {
   "cell_type": "code",
   "execution_count": null,
   "metadata": {},
   "outputs": [],
   "source": [
    "n = len(revenue_cohort['revenue'])\n",
    "ind = np.arange(n) \n",
    "\n",
    "fig, ax = plt.subplots(figsize=(15, 6))\n",
    "plt.bar(ind, revenue_cohort['revenue'],\n",
    "        align='center',\n",
    "        alpha=0.8, \n",
    "        color='cornflowerblue')\n",
    "\n",
    "fig.patch.set_facecolor('xkcd:mint green')\n",
    "plt.xlabel('Cohort', fontsize=14)\n",
    "plt.ylabel('The average size of purchase', fontsize=14)\n",
    "plt.title('The average size of purchase by cohort', fontsize=18)\n",
    "plt.xticks(ind, revenue_cohort.index.values)\n",
    "for idx,i in enumerate(ax.patches):\n",
    "    ax.text(i.get_x()+.16, \n",
    "            i.get_height()-0.4, \n",
    "            float(int(revenue_cohort['revenue'][idx]*100)/100), \n",
    "            fontsize=14,color='gold')\n",
    "plt.show()"
   ]
  },
  {
   "cell_type": "markdown",
   "metadata": {},
   "source": [
    "Conclusion:<br />\n",
    "As we can see, the average buy size ranges from 4.06 to 5.85. December 2017 has the most orders and the highest average purchase price."
   ]
  },
  {
   "cell_type": "markdown",
   "metadata": {},
   "source": [
    "#### 2.2.4 How much profit does one client bring?<a name=\"profit\"></a>"
   ]
  },
  {
   "cell_type": "markdown",
   "metadata": {},
   "source": [
    "##### 2.2.4.1  Average profit per client.<a name=\"profit1\"></a>"
   ]
  },
  {
   "cell_type": "code",
   "execution_count": null,
   "metadata": {},
   "outputs": [],
   "source": [
    "ltv = orders_all.groupby('uid').agg({'revenue':'sum'}) #36523 records\n",
    "ltv_avg = ltv.sum()[0] / len(ltv) \n",
    "print('Average profit per client ${:.1f}.'.format(ltv_avg))\n"
   ]
  },
  {
   "cell_type": "markdown",
   "metadata": {},
   "source": [
    "##### 2.2.4.2 Average profit per client by source.<a name=\"profit2\"></a>"
   ]
  },
  {
   "cell_type": "code",
   "execution_count": null,
   "metadata": {},
   "outputs": [],
   "source": [
    "# Determining from which source the first visit was\n",
    "orders_all = orders_all.sort_values(by = 'buy_ts') #50415 records\n",
    "source_first = orders_all.groupby('uid').agg({'source_id':'first'})\n",
    "source_first = source_first.rename(columns = {'source_id':'source_id_first'}) #36523 records\n",
    "orders_all = orders_all.merge(source_first, on = 'uid')"
   ]
  },
  {
   "cell_type": "code",
   "execution_count": null,
   "metadata": {},
   "outputs": [],
   "source": [
    "# LTV calculation from each source\n",
    "ltv_source_all = orders_all.groupby(['uid','source_id_first']).agg({'revenue':'sum'}) #36523 records\n",
    "ltv_source = ( \n",
    "    ltv_source_all.\n",
    "    groupby('source_id_first').\n",
    "    agg({'revenue':['sum','count']})\n",
    "    .reset_index()\n",
    ")\n",
    "ltv_source.columns = ['source_id','sum','count']\n",
    "ltv_source['ltv_customer'] = ltv_source['sum'] / ltv_source['count']\n",
    "ltv_source['label'] = ltv_source.apply(create_label,axis=1) #create label for graph\n",
    "ltv_source = ltv_source[ltv_source['label'] != 'Source 7'].reset_index() # reject anomaly"
   ]
  },
  {
   "cell_type": "code",
   "execution_count": null,
   "metadata": {},
   "outputs": [],
   "source": [
    "n = len(ltv_source['ltv_customer'])\n",
    "ind = np.arange(n) \n",
    "\n",
    "fig, ax = plt.subplots(figsize=(15, 6))\n",
    "plt.bar(ind, ltv_source['ltv_customer'],\n",
    "        align='center',\n",
    "        alpha=0.8, \n",
    "        color='cornflowerblue')\n",
    "\n",
    "fig.patch.set_facecolor('xkcd:mint green')\n",
    "plt.xlabel('Source', fontsize=14)\n",
    "plt.ylabel('The average LTV per client', fontsize=14)\n",
    "plt.title('The average LTV per client by source', fontsize=18)\n",
    "plt.xticks(ind, ltv_source['label'])\n",
    "for idx,i in enumerate(ax.patches):\n",
    "    ax.text(i.get_x()+.21, \n",
    "            i.get_height()-0.9, \n",
    "            float(int(ltv_source['ltv_customer'][idx]*100)/100), \n",
    "            fontsize=18,color='gold')\n",
    "plt.show()"
   ]
  },
  {
   "cell_type": "markdown",
   "metadata": {},
   "source": [
    "Conclusion:<br />\n",
    "As we can see, the largest LTVs are from sources 1 and 2. If the costs of attracting customers from these sources are profitable (as we will learn in the next section), then it is necessary to increase the number of orders from these sources. As we learned earlier, these sources account for approximately 10% of orders."
   ]
  },
  {
   "cell_type": "markdown",
   "metadata": {},
   "source": [
    "##### 2.2.4.3 Average profit per client by cohort<a name=\"profit3\"></a>"
   ]
  },
  {
   "cell_type": "code",
   "execution_count": null,
   "metadata": {},
   "outputs": [],
   "source": [
    "# We find the first day of the month in which the current contact took place\n",
    "orders_all['first_day_of_month_actual_order'] = (\n",
    "    pd.to_datetime(orders_all['actual_date'], unit='d') \n",
    "    -\n",
    "    pd.to_timedelta(orders_all['actual_date'].dt.day - 1, unit='d') \n",
    ")"
   ]
  },
  {
   "cell_type": "code",
   "execution_count": null,
   "metadata": {},
   "outputs": [],
   "source": [
    "# Ley's Find out how many months have passed between the current order and the first contacts\n",
    "orders_all['cohort_lifetime'] = (\n",
    "    round(((orders_all['first_day_of_month_actual_order'] \n",
    "            -\n",
    "            orders_all['first_day_of_month_first_session']) / \n",
    "           np.timedelta64(1,'M'))).astype(int)\n",
    ")\n",
    "# orders_all['cohort_lifetime'].value_counts()"
   ]
  },
  {
   "cell_type": "code",
   "execution_count": null,
   "metadata": {},
   "outputs": [],
   "source": [
    "# calculating the number of unique users in each cohort every month\n",
    "cohorts_ltv = (\n",
    "    orders_all.query('actual_date != \"2018-06-01\"').\n",
    "    groupby(['first_day_of_month_first_session','cohort_lifetime']).\n",
    "    agg({'revenue':['sum','count']}).\n",
    "    reset_index().reset_index()\n",
    ")\n",
    "cohorts_ltv.columns = ['index',\n",
    "                       'first_day_of_month_first_session',\n",
    "                       'cohort_lifetime',\n",
    "                       'revenue',\n",
    "                       'count_orders']\n",
    "# counting the number of clients in each cohort\n",
    "cohorts_ltv_0 = (\n",
    "    orders_all.\n",
    "    groupby('first_day_of_month_first_session').\n",
    "    agg({'uid':'nunique'}).reset_index()\n",
    ")\n",
    "cohorts_ltv_0 = cohorts_ltv_0.rename(columns = {'uid':'count_orders_all'})\n",
    "cohorts_ltv = cohorts_ltv.merge(cohorts_ltv_0, on = 'first_day_of_month_first_session')\n",
    "# cohorts_ltv # 79 records"
   ]
  },
  {
   "cell_type": "code",
   "execution_count": null,
   "metadata": {},
   "outputs": [],
   "source": [
    "# Let's calculate the total amount of purchases in each cohort\n",
    "cohorts_cumsum = ( \n",
    "    cohorts_ltv.\n",
    "    groupby('first_day_of_month_first_session').\n",
    "    agg({'revenue':'cumsum'}).\n",
    "    reset_index()\n",
    ")\n",
    "cohorts_cumsum = cohorts_cumsum.rename(columns = {'revenue':'revenue_all'})\n",
    "cohorts_ltv = cohorts_ltv.merge(cohorts_cumsum, on = 'index')\n",
    "cohorts_ltv['revenue_per_user'] = cohorts_ltv['revenue_all']/cohorts_ltv['count_orders_all']\n",
    "cohorts_ltv = cohorts_ltv[cohorts_ltv['first_day_of_month_first_session'] != '2018-06-01']\n",
    "cohorts_ltv['first_day_of_month_first_session_str'] = ( \n",
    "    cohorts_ltv['first_day_of_month_first_session'].dt.strftime('%Y.%m')\n",
    ")\n",
    "# cohorts_ltv"
   ]
  },
  {
   "cell_type": "code",
   "execution_count": null,
   "metadata": {},
   "outputs": [],
   "source": [
    "# Let's create a pivot table with LTV information for each cohort\n",
    "cohorts_ltv_pivot_table = cohorts_ltv.pivot_table(index = 'first_day_of_month_first_session_str',\n",
    "                                              columns = 'cohort_lifetime',\n",
    "                                              values = 'revenue_per_user',\n",
    "                                              aggfunc = 'sum')\n",
    "# cohorts_ltv_pivot_table"
   ]
  },
  {
   "cell_type": "code",
   "execution_count": null,
   "metadata": {},
   "outputs": [],
   "source": [
    "fig, ax = plt.subplots(figsize=(15, 8))\n",
    "fig.patch.set_facecolor('xkcd:mint green')\n",
    "plt.title('Cohorts LTV ($)', fontsize=24)\n",
    "    \n",
    "sns.heatmap(cohorts_ltv_pivot_table, \n",
    "            annot= True,\n",
    "            fmt = '.1f',\n",
    "            linewidths = 1,\n",
    "            linecolor = 'grey',\n",
    "            vmin = 0,\n",
    "            vmax = 11,\n",
    "            cmap = 'Blues' \n",
    "           )\n",
    "ax.set_ylabel('First Session Month', fontsize=14)    \n",
    "ax.set_xlabel('Cohort Lifetime', fontsize=14)\n",
    "    "
   ]
  },
  {
   "cell_type": "markdown",
   "metadata": {},
   "source": [
    "Conclusion: <br />\n",
    "On average, each customer from the first cohort brought **13.7 dollars** in revenue over their eleven-month lifetime. As we can see, not all cohorts bring the same profit per client. The most profitable were the first 4 cohorts. There is also an unexpectedly sharp rise in LTV in the fourth cohort in the fourth month from 5.9 to 9.4."
   ]
  },
  {
   "cell_type": "markdown",
   "metadata": {},
   "source": [
    "<div class=\"alert alert-success\" role=\"alert\">\n",
    "Numbers seem to be correct, good job! =)\n",
    "</div>"
   ]
  },
  {
   "cell_type": "markdown",
   "metadata": {},
   "source": [
    "#### 2.3 Marketing<a name=\"marketing\"></a>"
   ]
  },
  {
   "cell_type": "markdown",
   "metadata": {},
   "source": [
    "##### 2.3.1 How much money was spent?<a name=\"costs\"></a>"
   ]
  },
  {
   "cell_type": "markdown",
   "metadata": {},
   "source": [
    "##### 2.3.1.1 Daily costs.<a name=\"costs1\"></a>"
   ]
  },
  {
   "cell_type": "code",
   "execution_count": null,
   "metadata": {},
   "outputs": [],
   "source": [
    "costs #2542 records\n",
    "costs_daily = costs.groupby('dt').agg({'costs':'sum'})"
   ]
  },
  {
   "cell_type": "code",
   "execution_count": null,
   "metadata": {},
   "outputs": [],
   "source": [
    "fig, ax = plt.subplots(figsize=(15, 6))\n",
    "fig.subplots_adjust(bottom=0.15, left=0.2)\n",
    "ax.plot(costs_daily, )\n",
    "ax.set_xlabel('Date', fontsize=14)\n",
    "ax.set_ylabel('Costs', fontsize=14)\n",
    "ax.set_title('Dynamics of changes costs per day', fontsize=18)\n",
    "fig.patch.set_facecolor('xkcd:mint green')\n",
    "# ax.set_xlim(17480, 17500) # 24.11.2017\n",
    "\n",
    "plt.show()"
   ]
  },
  {
   "cell_type": "markdown",
   "metadata": {},
   "source": [
    "Conclusion: <br />\n",
    "This graph is very similar to the number of visits per day. This is not surprising, because visits directly depend on the funds spent. Since August we have seen an increase in costs. From October to March, the costs are approximately at the same level, and from March, the cost of attracting customers has been decreasing.<br />\n",
    "We also see a daily sharp increase in costs on November 24, 2017, from 1,200 to 3,500. This explains why in the previous parts we saw an abnormal number of orders, visits, income over the same period."
   ]
  },
  {
   "cell_type": "markdown",
   "metadata": {},
   "source": [
    "##### 2.3.1.2 How much was spent on each source?<a name=\"costs2\"></a>"
   ]
  },
  {
   "cell_type": "code",
   "execution_count": null,
   "metadata": {},
   "outputs": [],
   "source": [
    "costs_source = costs.groupby('source_id').agg({'costs':'sum'}).reset_index()\n",
    "costs_source['label'] = costs_source.apply(create_label,axis=1) #create label for graph"
   ]
  },
  {
   "cell_type": "code",
   "execution_count": null,
   "metadata": {},
   "outputs": [],
   "source": [
    "# create a plot\n",
    "n = len(costs_source['costs'])\n",
    "ind = np.arange(n) \n",
    "\n",
    "fig, ax = plt.subplots(figsize=(15, 6))\n",
    "plt.bar(ind, costs_source['costs'],\n",
    "        align='center',\n",
    "        alpha=0.8, \n",
    "        color='cornflowerblue')\n",
    "\n",
    "fig.patch.set_facecolor('xkcd:mint green')\n",
    "plt.xlabel('Source', fontsize=14)\n",
    "plt.ylabel('Costs', fontsize=14)\n",
    "plt.title('Costs by source', fontsize=18)\n",
    "plt.xticks(ind, costs_source['label'] )\n",
    "ax.set_ylim([0, 160000])\n",
    "for idx,i in enumerate(ax.patches):\n",
    "    ax.text(i.get_x()+.2, \n",
    "            i.get_height() + 6000, \n",
    "            int(costs_source['costs'][idx]), \n",
    "            fontsize=14,color='black')\n",
    "plt.show()"
   ]
  },
  {
   "cell_type": "markdown",
   "metadata": {},
   "source": [
    "Conclusion:<br />\n",
    "As we can see, the largest costs for **Source 3** are more than **2.5** times more than for **Source 4**, however, as we determined earlier, Sources 3 and 4 give approximately the same number of orders. Obviously, the advertising budget should be reallocated between Sources 3 and 4."
   ]
  },
  {
   "cell_type": "markdown",
   "metadata": {},
   "source": [
    "<div class=\"alert alert-success\" role=\"alert\">\n",
    "Very nice! =)\n",
    "</div>"
   ]
  },
  {
   "cell_type": "markdown",
   "metadata": {},
   "source": [
    "#### 2.3.2 The cost of attracting customers.<a name=\"cac\"></a>"
   ]
  },
  {
   "cell_type": "markdown",
   "metadata": {},
   "source": [
    "##### 2.3.2.1  The cost of attracting customers by source.<a name=\"cac1\"></a>"
   ]
  },
  {
   "cell_type": "code",
   "execution_count": null,
   "metadata": {},
   "outputs": [],
   "source": [
    "# Let's count the number of clients from each source\n",
    "source_number_buyers = orders_all.query('source_id != 7').groupby('source_id',as_index = False).agg({'uid':'nunique'})\n",
    "costs_source = costs_source.merge(source_number_buyers, on = 'source_id')\n",
    "costs_source = costs_source.rename(columns = {'uid':'count_buyers'})"
   ]
  },
  {
   "cell_type": "code",
   "execution_count": null,
   "metadata": {},
   "outputs": [],
   "source": [
    "#Let's count CAC by source\n",
    "costs_source['cac'] = costs_source['costs'] / costs_source['count_buyers']"
   ]
  },
  {
   "cell_type": "code",
   "execution_count": null,
   "metadata": {},
   "outputs": [],
   "source": [
    "n = len(costs_source['cac'])\n",
    "ind = np.arange(n) \n",
    "\n",
    "fig, ax = plt.subplots(figsize=(15, 6))\n",
    "plt.bar(ind, costs_source['cac'],\n",
    "        align='center',\n",
    "        alpha=0.8, \n",
    "        color='cornflowerblue')\n",
    "\n",
    "fig.patch.set_facecolor('xkcd:mint green')\n",
    "plt.xlabel('Source', fontsize=14)\n",
    "plt.ylabel('CAC ($)', fontsize=14)\n",
    "plt.title('CAC by source ($)', fontsize=18)\n",
    "plt.xticks(ind, costs_source['label'] )\n",
    "for idx,i in enumerate(ax.patches):\n",
    "    ax.text(i.get_x()+.22, \n",
    "            i.get_height() - 1 , \n",
    "            float(int(costs_source['cac'][idx]*100)/100), \n",
    "            fontsize=14,color='gold')\n",
    "plt.show()"
   ]
  },
  {
   "cell_type": "markdown",
   "metadata": {},
   "source": [
    "Conclusion:<br /> As we can see, Sources 2 and 3 have the highest costs per customer acquisition. And if for Source 2 this is somehow justified by the fact that LTV is large enough, then for Source 3 and LTV is very small and the cost of attracting a new client is very high."
   ]
  },
  {
   "cell_type": "markdown",
   "metadata": {},
   "source": [
    "##### 2.3.2.2  The cost of attracting customers by cohort.<a name=\"cac2\"></a>"
   ]
  },
  {
   "cell_type": "code",
   "execution_count": null,
   "metadata": {},
   "outputs": [],
   "source": [
    "# Finding the first day of the month\n",
    "costs['first_day_of_month_first_session'] = (\n",
    "    pd.to_datetime(costs['dt'], unit='d') \n",
    "    -\n",
    "    pd.to_timedelta(costs['dt'].dt.day - 1, unit='d') \n",
    ")\n",
    "costs_month = ( \n",
    "    costs.\n",
    "    groupby('first_day_of_month_first_session', as_index = False).\n",
    "    agg({'costs':'sum'})\n",
    ")"
   ]
  },
  {
   "cell_type": "code",
   "execution_count": null,
   "metadata": {},
   "outputs": [],
   "source": [
    "costs_month = costs_month.merge(cohorts_ltv_0, on = 'first_day_of_month_first_session')\n",
    "#Let's calculate CAC by cohorts\n",
    "costs_month['cac'] = costs_month['costs'] / costs_month['count_orders_all'] \n",
    "costs_month['first_month_str']= ( \n",
    "    costs_month['first_day_of_month_first_session'].dt.strftime('%m.%Y')\n",
    ")"
   ]
  },
  {
   "cell_type": "code",
   "execution_count": null,
   "metadata": {},
   "outputs": [],
   "source": [
    "n = len(costs_month['cac'])\n",
    "ind = np.arange(n) \n",
    "\n",
    "fig, ax = plt.subplots(figsize=(15, 6))\n",
    "plt.bar(ind, costs_month['cac'],\n",
    "        align='center',\n",
    "        alpha=0.8, \n",
    "        color='cornflowerblue')\n",
    "\n",
    "fig.patch.set_facecolor('xkcd:mint green')\n",
    "plt.xlabel('Cohort', fontsize=14)\n",
    "plt.ylabel('CAC ($)', fontsize=14)\n",
    "plt.title('CAC by cohorts ($)', fontsize=18)\n",
    "plt.xticks(ind, costs_month['first_month_str'])\n",
    "for idx,i in enumerate(ax.patches):\n",
    "    ax.text(i.get_x()+.16, \n",
    "            i.get_height()-0.6, \n",
    "            float(int(costs_month['cac'][idx]*100)/100), \n",
    "            fontsize=14,color='gold')\n",
    "plt.show()"
   ]
  },
  {
   "cell_type": "markdown",
   "metadata": {},
   "source": [
    "Conclusion:<br />\n",
    "As we can see, the costs grow with each cohort. We know that some customers make their first purchase more than 30 days after their first visit. Thus, costs in cohorts 04.2018 and 05.2018 will decrease."
   ]
  },
  {
   "cell_type": "markdown",
   "metadata": {},
   "source": [
    "#### 2.3.3 Assessment of return on investment in customer acquisition. (ROI)<a name=\"romi\"></a>"
   ]
  },
  {
   "cell_type": "code",
   "execution_count": null,
   "metadata": {},
   "outputs": [],
   "source": [
    "# Revenue from customers from each cohort.\n",
    "cohorts_revenue = ( \n",
    "    orders_all.\n",
    "    groupby('first_day_of_month_first_session', as_index = False).\n",
    "    agg({'revenue':'sum'})\n",
    ")"
   ]
  },
  {
   "cell_type": "code",
   "execution_count": null,
   "metadata": {},
   "outputs": [],
   "source": [
    "# one chart with two columns per cohorts / revenue + cost\n",
    "all_cohorts_dict = list(costs_month['first_month_str'].tolist()) \n",
    "n_groups = len(all_cohorts_dict)\n",
    "\n",
    "# create plot\n",
    "fig, ax = plt.subplots(figsize=(15, 6))\n",
    "fig.patch.set_facecolor('xkcd:mint green')\n",
    "index = np.arange(n_groups)\n",
    "bar_width = 0.45\n",
    "opacity = 0.8\n",
    "rects1 = plt.bar(index, cohorts_revenue['revenue'], bar_width,\n",
    "                 alpha=opacity,\n",
    "                 color='orange',\n",
    "                 label='Revenue')\n",
    "\n",
    "rects2 = plt.bar(index + bar_width, costs_month['costs'], bar_width,\n",
    "                 alpha=opacity,\n",
    "                 color='cornflowerblue',\n",
    "                 label='Cost')\n",
    "\n",
    "plt.xlabel('Cohort', fontsize=14)\n",
    "plt.ylabel('Number', fontsize=14)\n",
    "plt.title('Revenue and cost of each cohorts', fontsize=24)\n",
    "\n",
    "plt.xticks(index + bar_width-0.2, all_cohorts_dict)\n",
    "plt.legend()\n",
    "\n",
    "plt.tight_layout()\n",
    "plt.show()"
   ]
  },
  {
   "cell_type": "markdown",
   "metadata": {},
   "source": [
    "Conclusion:<br />\n",
    "As we can see in the histogram, in only 2 cohorts, revenue is greater than costs. This says that you need to look for problem areas and make adjustments."
   ]
  },
  {
   "cell_type": "markdown",
   "metadata": {},
   "source": [
    "<div class=\"alert alert-success\" role=\"alert\">\n",
    "Correct!\n",
    "</div>"
   ]
  },
  {
   "cell_type": "markdown",
   "metadata": {},
   "source": [
    "##### 2.3.3.1 ROMI by cohort<a name=\"romi1\"></a>"
   ]
  },
  {
   "cell_type": "code",
   "execution_count": null,
   "metadata": {},
   "outputs": [],
   "source": []
  },
  {
   "cell_type": "code",
   "execution_count": null,
   "metadata": {},
   "outputs": [],
   "source": [
    "cohorts_romi = (\n",
    "    cohorts_ltv.\n",
    "    merge(costs_month[['first_day_of_month_first_session','costs']],\n",
    "          on = 'first_day_of_month_first_session')\n",
    ")\n",
    "cohorts_romi['romi'] = cohorts_romi['revenue_all'] / cohorts_romi['costs']"
   ]
  },
  {
   "cell_type": "code",
   "execution_count": null,
   "metadata": {},
   "outputs": [],
   "source": [
    "# Let's create a pivot table with ROMI information for each cohort\n",
    "cohorts_romi_pivot_table = cohorts_romi.pivot_table(index = 'first_day_of_month_first_session_str',\n",
    "                                                    columns = 'cohort_lifetime',\n",
    "                                                    values = 'romi',\n",
    "                                                    aggfunc = 'sum')"
   ]
  },
  {
   "cell_type": "code",
   "execution_count": null,
   "metadata": {},
   "outputs": [],
   "source": [
    "fig, ax = plt.subplots(figsize=(15, 8))\n",
    "fig.patch.set_facecolor('xkcd:mint green')\n",
    "plt.title('Cohorts ROMI ', fontsize=24)\n",
    "    \n",
    "sns.heatmap(cohorts_romi_pivot_table, \n",
    "            annot= True,\n",
    "            fmt = '.1f',\n",
    "            linewidths = 1,\n",
    "            linecolor = 'grey',\n",
    "            vmin = 0,\n",
    "            vmax = 1.5,\n",
    "            cmap = 'Blues' \n",
    "           )\n",
    "ax.set_ylabel('First Session Month', fontsize=14)    \n",
    "ax.set_xlabel('Cohort Lifetime', fontsize=14)"
   ]
  },
  {
   "cell_type": "markdown",
   "metadata": {},
   "source": [
    "Conclusion:<br />\n",
    "As you can see from the graph, the profitability situation is very bad. The investment made in the promotion does not pay off. Only in three cohorts (1, 2, and 4), revenue exceeded costs. It can be assumed that if the costs pay off over time, then the current business model cannot be called successful. We urgently need to make adjustments. Also, we cannot assume for what month the cohort will return the funds invested in attracting a client since only 3 cohorts returned their investments, and 2 of them have clearly abnormal dynamics. It is difficult to make an accurate forecast based on the available data."
   ]
  },
  {
   "cell_type": "markdown",
   "metadata": {},
   "source": [
    "<div class=\"alert alert-success\" role=\"alert\">\n",
    "Numbers look perfect, good job! =)\n",
    "</div>"
   ]
  },
  {
   "cell_type": "markdown",
   "metadata": {},
   "source": [
    "##### 2.3.3.2 ROMI by source<a name=\"romi2\"></a>"
   ]
  },
  {
   "cell_type": "code",
   "execution_count": null,
   "metadata": {},
   "outputs": [],
   "source": [
    "source_romi = orders_all[['revenue',\n",
    "                          'first_session',\n",
    "                          'source_id',\n",
    "                          'actual_date',\n",
    "                          'first_day_of_month_first_session',\n",
    "                          'first_day_of_month_actual_order']]"
   ]
  },
  {
   "cell_type": "code",
   "execution_count": null,
   "metadata": {},
   "outputs": [],
   "source": [
    "# # Ley's find out how many months have passed between the current order and the first contacts\n",
    "source_romi['cohort_lifetime'] = (\n",
    "    round(\n",
    "        (((orders_all['first_day_of_month_actual_order'] \n",
    "           -\n",
    "           orders_all['first_day_of_month_first_session']) / \n",
    "          np.timedelta64(1,'M')))).astype(int)\n",
    ")"
   ]
  },
  {
   "cell_type": "code",
   "execution_count": null,
   "metadata": {},
   "outputs": [],
   "source": []
  },
  {
   "cell_type": "code",
   "execution_count": null,
   "metadata": {},
   "outputs": [],
   "source": [
    "source_lifetime = (\n",
    "    source_romi.\n",
    "    groupby(['source_id','cohort_lifetime'],as_index = False).\n",
    "    agg({'revenue':'sum'}).reset_index()\n",
    ")"
   ]
  },
  {
   "cell_type": "code",
   "execution_count": null,
   "metadata": {},
   "outputs": [],
   "source": [
    "source_cumsum = ( \n",
    "    source_lifetime.\n",
    "    groupby('source_id').\n",
    "    agg({'revenue':'cumsum'}).reset_index()\n",
    ")\n",
    "source_cumsum = source_cumsum.rename(columns = {'revenue':'revenue_source'})"
   ]
  },
  {
   "cell_type": "code",
   "execution_count": null,
   "metadata": {},
   "outputs": [],
   "source": [
    "source_lifetime = source_lifetime.merge(source_cumsum, on = 'index')"
   ]
  },
  {
   "cell_type": "code",
   "execution_count": null,
   "metadata": {},
   "outputs": [],
   "source": [
    "source_cost = costs.groupby('source_id',as_index = False).agg({'costs':'sum'})"
   ]
  },
  {
   "cell_type": "code",
   "execution_count": null,
   "metadata": {},
   "outputs": [],
   "source": [
    "source_lifetime = source_lifetime.merge(source_cost, on = 'source_id')"
   ]
  },
  {
   "cell_type": "code",
   "execution_count": null,
   "metadata": {},
   "outputs": [],
   "source": [
    "source_lifetime['romi'] = source_lifetime['revenue_source'] / source_lifetime['costs']\n",
    "source_lifetime['label'] = source_lifetime.apply(create_label,axis=1)\n"
   ]
  },
  {
   "cell_type": "code",
   "execution_count": null,
   "metadata": {},
   "outputs": [],
   "source": [
    "source_lifetime_pivot_table = source_lifetime.pivot_table(index = 'label',\n",
    "                                                          columns = 'cohort_lifetime',\n",
    "                                                          values = 'romi',\n",
    "                                                          aggfunc = 'sum')\n"
   ]
  },
  {
   "cell_type": "code",
   "execution_count": null,
   "metadata": {},
   "outputs": [],
   "source": [
    "fig, ax = plt.subplots(figsize=(15, 8))\n",
    "fig.patch.set_facecolor('xkcd:mint green')\n",
    "plt.title('Source ROMI ', fontsize=24)\n",
    "    \n",
    "sns.heatmap(source_lifetime_pivot_table, \n",
    "            annot= True,\n",
    "            fmt = '.1f',\n",
    "            linewidths = 1,\n",
    "            linecolor = 'grey',\n",
    "            vmin = 0,\n",
    "            vmax = 1,\n",
    "            cmap = 'Blues' \n",
    "           )\n",
    "ax.set_ylabel('First Session Month', fontsize=14)    \n",
    "ax.set_xlabel('Cohort Lifetime', fontsize=14)"
   ]
  },
  {
   "cell_type": "markdown",
   "metadata": {},
   "source": [
    "Conslusion: <br />\n",
    "In the previous part, we found out that almost all cohorts do not return on investment in attracting customers. In this part, we learned that investments in Sources 10, 3, and 4 must be urgently stopped since the cost of attracting is more than the profit coming from clients. Source 9 is on the verge of recoupment, and if we do not figure out how to increase LTV or reduce CAC, then this source should also be abandoned. The most attractive is Source 1 and if there is an opportunity to increase the number of clients from it, then you need to do it."
   ]
  },
  {
   "cell_type": "markdown",
   "metadata": {},
   "source": [
    "Source 3 spends the most money on attracting clients, but these investments do not bring profit. The overall picture does not appear to be financially successful and most cohorts are unprofitable. However, if not for the huge investment in Source 3, then most of the cohorts would be profitable. We simulate the situation without Source 3."
   ]
  },
  {
   "cell_type": "markdown",
   "metadata": {},
   "source": [
    "<div class=\"alert alert-success\" role=\"alert\">\n",
    "Numbers a correct and the style is majestic =) \n",
    "</div>"
   ]
  },
  {
   "cell_type": "markdown",
   "metadata": {},
   "source": [
    "##### 2.3.3.3 Forecast<a name=\"forecast\"></a>"
   ]
  },
  {
   "cell_type": "code",
   "execution_count": null,
   "metadata": {},
   "outputs": [],
   "source": [
    "# calculating the number of unique users in each cohort every month\n",
    "cohorts_ltv_forecast = (\n",
    "    orders_all.\n",
    "    query('source_id != 3 & actual_date != \"2018-06-01\"').\n",
    "    groupby(['first_day_of_month_first_session','cohort_lifetime']).\n",
    "    agg({'revenue':['sum','count']}).\n",
    "    reset_index().reset_index()\n",
    ")\n",
    "cohorts_ltv_forecast.columns = ['index',\n",
    "                                'first_day_of_month_first_session',\n",
    "                                'cohort_lifetime',\n",
    "                                'revenue',\n",
    "                                'count_orders']\n",
    "# counting the number of clients in each cohort\n",
    "cohorts_ltv_0_forecast = (\n",
    "    orders_all.\n",
    "    query('source_id != 3').\n",
    "    groupby('first_day_of_month_first_session').\n",
    "    agg({'uid':'nunique'}).reset_index()\n",
    ")\n",
    "cohorts_ltv_0_forecast = cohorts_ltv_0_forecast.rename(columns = {'uid':'count_orders_all'})\n",
    "cohorts_ltv_forecast = ( \n",
    "    cohorts_ltv_forecast.\n",
    "    merge(cohorts_ltv_0_forecast, on = 'first_day_of_month_first_session')\n",
    ")"
   ]
  },
  {
   "cell_type": "code",
   "execution_count": null,
   "metadata": {},
   "outputs": [],
   "source": [
    "# Let's calculate the total amount of purchases in each cohort\n",
    "cohorts_cumsum_forecast = ( \n",
    "    cohorts_ltv_forecast.\n",
    "    groupby('first_day_of_month_first_session').\n",
    "    agg({'revenue':'cumsum'}).\n",
    "    reset_index()\n",
    ")\n",
    "cohorts_cumsum_forecast = cohorts_cumsum_forecast.rename(columns = {'revenue':'revenue_all'})\n",
    "cohorts_ltv_forecast = cohorts_ltv_forecast.merge(cohorts_cumsum_forecast, on = 'index')\n",
    "cohorts_ltv_forecast['revenue_per_user'] = ( \n",
    "    cohorts_ltv_forecast['revenue_all']\n",
    "    /\n",
    "    cohorts_ltv_forecast['count_orders_all']\n",
    ")\n",
    "cohorts_ltv_forecast = cohorts_ltv_forecast[cohorts_ltv_forecast['first_day_of_month_first_session'] != '2018-06-01']\n",
    "cohorts_ltv_forecast['first_day_of_month_first_session_str'] = ( \n",
    "    cohorts_ltv_forecast['first_day_of_month_first_session'].dt.strftime('%Y.%m')\n",
    ")\n"
   ]
  },
  {
   "cell_type": "code",
   "execution_count": null,
   "metadata": {},
   "outputs": [],
   "source": [
    "costs_month_forecast = (\n",
    "    costs.\n",
    "    query('source_id != 3').\n",
    "    groupby('first_day_of_month_first_session').\n",
    "    agg({'costs':'sum'}).reset_index()\n",
    ")"
   ]
  },
  {
   "cell_type": "code",
   "execution_count": null,
   "metadata": {},
   "outputs": [],
   "source": [
    "cohorts_romi_forecast = (\n",
    "    cohorts_ltv_forecast.\n",
    "    merge(costs_month_forecast[['first_day_of_month_first_session','costs']],\n",
    "          on = 'first_day_of_month_first_session')\n",
    ")\n",
    "cohorts_romi_forecast['romi'] = cohorts_romi_forecast['revenue_all'] / cohorts_romi_forecast['costs']"
   ]
  },
  {
   "cell_type": "code",
   "execution_count": null,
   "metadata": {},
   "outputs": [],
   "source": [
    "# Let's create a pivot table with ROMI information for each cohort\n",
    "cohorts_romi_pivot_table_forecast = ( \n",
    "    cohorts_romi_forecast.\n",
    "    pivot_table(index = 'first_day_of_month_first_session_str',\n",
    "                columns = 'cohort_lifetime',\n",
    "                values = 'romi',\n",
    "                aggfunc = 'sum')\n",
    ")"
   ]
  },
  {
   "cell_type": "code",
   "execution_count": null,
   "metadata": {},
   "outputs": [],
   "source": [
    "fig, ax = plt.subplots(figsize=(15, 8))\n",
    "fig.patch.set_facecolor('xkcd:mint green')\n",
    "plt.title('Cohorts ROMI. Forecast ', fontsize=24)\n",
    "    \n",
    "sns.heatmap(cohorts_romi_pivot_table_forecast, \n",
    "            annot= True,\n",
    "            fmt = '.1f',\n",
    "            linewidths = 1,\n",
    "            linecolor = 'grey',\n",
    "            vmin = 0,\n",
    "            vmax = 1.5,\n",
    "            cmap = 'Blues' \n",
    "           )\n",
    "ax.set_ylabel('First Session Month', fontsize=14)    \n",
    "ax.set_xlabel('Cohort Lifetime', fontsize=14)"
   ]
  },
  {
   "cell_type": "markdown",
   "metadata": {},
   "source": [
    "Conclusion: <br />\n",
    "As we can see, without the costs and sales with **Source 3**, the business model looks quite attractive. In 4-5 months, all cohorts recoup the investment and start making a profit."
   ]
  },
  {
   "cell_type": "markdown",
   "metadata": {},
   "source": [
    "<div class=\"alert alert-success\" role=\"alert\">\n",
    "Oh wow... I don't think I've seen anything like that from other students. I'm impressed! \n",
    "</div>"
   ]
  },
  {
   "cell_type": "code",
   "execution_count": null,
   "metadata": {},
   "outputs": [],
   "source": [
    "romi_monthly_forecast = cohorts_romi_pivot_table_forecast.mean(axis=0).reset_index() \n",
    "romi_monthly_forecast"
   ]
  },
  {
   "cell_type": "markdown",
   "metadata": {},
   "source": [
    "### Step 3. Overall conclusion <a name=\"overall_conclusion\"></a>"
   ]
  },
  {
   "cell_type": "markdown",
   "metadata": {},
   "source": [
    "<h4>Pivot Table:</h4>\n",
    "\n",
    "<table style=\"width:95%\">\n",
    "  <tr>\n",
    "      <th>Source</th>\n",
    "      <th>ROMI</th> \n",
    "      <th>LTV, USD</th>\n",
    "      <th>CAC, USD</th>\n",
    "      <th>Orders,%</th>\n",
    "      <th>Costs,%</th>\n",
    "      <th>Revenue,%</th>\n",
    "      <th width=10%>Conversion, days</th>\n",
    "      <th width=30%>Conclusion</th>      \n",
    "  </tr>\n",
    "  <tr>\n",
    "      <td>№ 1</td>\n",
    "      <td><b><font color=\"green\">1.7</font></b></td>\n",
    "      <td>10.34</td>\n",
    "      <td>6.19</td>\n",
    "      <td>11.52</td>\n",
    "      <td>6.33</td>\n",
    "      <td>13.81</td>\n",
    "      <td>9</td>\n",
    "      <td>The most promising channel with excellent ROMI and Conversion. We need to work on increasing the number of clients from this resource.</td>\n",
    "  </tr>\n",
    "  <tr>\n",
    "      <td>№ 2</td>\n",
    "      <td><b><font color=\"green\">1.1</font></b></td>\n",
    "      <td>12.74</td>\n",
    "      <td>12.03</td>\n",
    "      <td>12.51</td>\n",
    "      <td>13.01</td>\n",
    "      <td>17.99</td>\n",
    "      <td>20</td>\n",
    "      <td>A good channel with good indicators. We need to work on increasing LTV and reducing CAC. </td>\n",
    "  </tr>\n",
    "  <tr>  \n",
    "      <td>№ 3</td>\n",
    "      <td><b><font color=\"red\">0.4</font></b></td>\n",
    "      <td>5.12</td>\n",
    "      <td>13.94</td>\n",
    "      <td>25.42</td>\n",
    "      <td><b><font color=\"red\">42.94</font></b></td>\n",
    "      <td>20.61</td>\n",
    "      <td>18</td>\n",
    "      <td>The resource with the worst indicators. We need to urgently stop investment in this Source. And to figure out what is the reason for such high costs and such small sales.</td>\n",
    "  </tr>\n",
    "  <tr>\n",
    "      <td>№ 4</td>\n",
    "      <td><b><font color=\"red\">0.9</font></b></td>\n",
    "      <td>5.53</td>\n",
    "      <td>6.1</td>\n",
    "      <td>24.82</td>\n",
    "      <td>18.56</td>\n",
    "      <td>21.97</td>\n",
    "      <td>16</td>\n",
    "      <td>The resource is unprofitable. We need to increase LTV and lower CAC. If this fails, we need to stop investing in this source.</td>\n",
    "  </tr>\n",
    "  <tr>\n",
    "      <td>№ 5</td>\n",
    "      <td><b><font color=\"green\">1.1</font></b></td>\n",
    "      <td>7.65</td>\n",
    "      <td>7.28</td>\n",
    "      <td>19.48</td>\n",
    "      <td>15.73</td>\n",
    "      <td>21.60</td>\n",
    "      <td>13</td>\n",
    "      <td>A good channel with good indicators. We need to work on increasing LTV and lowering CAC.</td>\n",
    "  </tr>\n",
    "  <tr>\n",
    "      <td>№ 9</td>\n",
    "      <td>1.0</td>\n",
    "      <td>5.25</td>\n",
    "      <td>5.23</td>\n",
    "      <td>3.15</td>\n",
    "      <td>1.68</td>\n",
    "      <td>2.20</td>\n",
    "      <td>45</td>\n",
    "      <td>The resource is balancing on the brink of payback. His share of orders is small. We need to increase LTV and lower CAC to make it more attractive to our business.</td>\n",
    "  </tr>\n",
    "    <tr>\n",
    "      <td>№ 10</td>\n",
    "      <td><b><font color=\"red\">0.8</font></b></td>\n",
    "      <td>3.53</td>\n",
    "      <td>4.47</td>\n",
    "      <td>3.09</td>\n",
    "      <td>1.77</td>\n",
    "      <td>1.82</td>\n",
    "      <td>12</td>\n",
    "      <td>The resource is unprofitable. The share of orders from it is small. We need to increase LTV and lower CAC. If that fails, we need to stop investing in this source.</td>\n",
    "  </tr>\n",
    "\n",
    "</table>\n",
    "\n",
    "</body>\n",
    "</html>"
   ]
  },
  {
   "cell_type": "markdown",
   "metadata": {},
   "source": [
    "<div class=\"alert alert-success\" role=\"alert\">\n",
    "Bravo!\n",
    "</div>"
   ]
  },
  {
   "cell_type": "markdown",
   "metadata": {},
   "source": [
    "Conclusion:<br /><br />\n",
    "The current business model generates new losses for us every day, we urgently need to make adjustments. The most important adjustment is the rejection of Sources 3, 4, 10. Source 3 is hopelessly unprofitable. If we come up with a mechanism to improve LVT and reduce CAC for sources 4 and 10, we can try to work with them again. You need to be prepared for a drop in revenue because Sources 3 and 4 account for 50% of sales in total.<br /><br />\n",
    "When the calculation of profitability was made, excluding data from Source 3, and it turned out that all cohorts will return investments in 4-5 months. This is a good result.<br /><br />\n",
    "The most attractive are investments in Source 1. If possible, you need to increase the flow of clients from this Source.<br /><br />\n",
    "\n",
    "More than 80% of customers use a PC. 68% make their first order on the same day as their first visit to our site. More than 13% of customers make their first order later than 30 days after the first visit. 22% of customers place more than one order. This is a fairly low customer retention rate, it means that customers after the first interaction experience further choose other companies."
   ]
  }
 ],
 "metadata": {
  "kernelspec": {
   "display_name": "Python 3",
   "language": "python",
   "name": "python3"
  },
  "language_info": {
   "codemirror_mode": {
    "name": "ipython",
    "version": 3
   },
   "file_extension": ".py",
   "mimetype": "text/x-python",
   "name": "python",
   "nbconvert_exporter": "python",
   "pygments_lexer": "ipython3",
   "version": "3.7.9"
  }
 },
 "nbformat": 4,
 "nbformat_minor": 4
}
