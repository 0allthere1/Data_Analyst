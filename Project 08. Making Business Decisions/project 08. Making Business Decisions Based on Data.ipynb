{
 "cells": [
  {
   "cell_type": "markdown",
   "metadata": {},
   "source": [
    "Hi Anton. I'm Svetlana and will review your project. I've added all my comments to new cells with different coloring. Please don't delete my comments.\n",
    "\n",
    "\n",
    "The first time I see a mistake, I'll just point it out and let you find it and fix it yourself. In a real job, your boss will do the same, and I'm trying to prepare you to work as an Data Analyst. But if you can't handle this task yet, I'll give you a more accurate hint at the next check.\n",
    "\n",
    "<div class=\"alert alert-success\" role=\"alert\">\n",
    "Reviewer's comment v. 1:\n",
    "    \n",
    "If you did something great I'm using green color for my comment\n",
    "</div>\n",
    "\n",
    "<div class=\"alert alert-warning\" role=\"alert\">\n",
    "Reviewer's comment v. 1:\n",
    "    \n",
    "If I want to give you advice or think that something can be improved, then I'll use yellow. This is an optional recommendation.\n",
    "</div>\n",
    "\n",
    "<div class=\"alert alert-danger\" role=\"alert\">\n",
    "Reviewer's comment v. 1:\n",
    "    \n",
    "If the topic requires some extra work so I can accept it then the color will be red\n",
    "</div>\n",
    "\n",
    "## Review v. 1\n",
    "\n",
    "hank you for submitting your project. I can see that you've worked really hard on it! Unfortunately, your project is not quite ready for review. This is because the code doesn’t run because of errors. You've already done a lot, I am sure you'll take care of it! \n",
    "\n",
    "## Review v. 2\n",
    "\n",
    "All your hard work has paid off, and now your project is perfect! I'm glad to say that your project has been accepted. Good luck on the next sprint!"
   ]
  },
  {
   "cell_type": "markdown",
   "metadata": {},
   "source": [
    "<div class=\"alert alert-info\">\n",
    "    Hi Svetlana, I've added all my comments to new cells with this coloring.\n",
    "</div>"
   ]
  },
  {
   "cell_type": "markdown",
   "metadata": {},
   "source": [
    "### Making Business Decisions Based on Data."
   ]
  },
  {
   "cell_type": "markdown",
   "metadata": {},
   "source": [
    "This is work of Anton Rubenchik anton.rubenchik@gmail.com"
   ]
  },
  {
   "cell_type": "markdown",
   "metadata": {},
   "source": [
    "##### Table of contents\n",
    "0. [Introduction](#introduction)\n",
    "1. [Download the data and prepare it for analysis.](#prepare)<br />\n",
    "1.1 [Loading data in an optimized form.](#loading_data)<br />\n",
    "1.2 [Data preprocessing](#data_preprocessing)<br />\n",
    "2. [Prioritizing Hypotheses](#prioritizing)<br />\n",
    "2.1 [ICE](#ice)<br />\n",
    "2.2 [RICE](#rice)<br />\n",
    "3. [A/B Test Analysis](#a_b_test)<br />\n",
    "3.1 [Graph cumulative revenue by group.](#cumulative_revenue)<br />\n",
    "3.2 [Graph cumulative average order size by group.](#cumulative_average_order_size)<br />\n",
    "3.3 [Graph the relative difference in cumulative average order size for group B compared with group A.](#relative_average_order_size)<br />\n",
    "3.4 [Calculate each group's conversion rate as the ratio of orders to the number of visits for each day.](#conversion_rate)<br />\n",
    "3.5 [Plot a scatter chart of the number of orders per user.](#scatter_number_orders)<br />\n",
    "3.6 [Calculate the 95th and 99th percentiles for the number of orders per user.](#percentiles_number_orders)<br />\n",
    "3.7 [Plot a scatter chart of order prices.](#scatter_order_prices)<br />\n",
    "3.8 [Calculate the 95th and 99th percentiles of order prices.](#percentiles_order_prices)<br />\n",
    "3.9 [Find the statistical significance of the difference in conversion between the groups using the raw data.](#statistical_significance_conversion)<br />\n",
    "3.10 [Find the statistical significance of the difference in average order size between the groups using the raw data.](#statistical_significance_average_order)<br />\n",
    "3.11 [Find the statistical significance of the difference in conversion between the groups using the filtered data.](#statistical_significance_conversion)<br />\n",
    "3.12 [Find the statistical significance of the difference in average order size between the groups using the filtered data.](#statistical_significance_average_order_filtered)<br />\n",
    "3.13 [Make a decision based on the test results.](#make_decision)\n"
   ]
  },
  {
   "cell_type": "markdown",
   "metadata": {},
   "source": [
    "#### 0. Introduction<a name=\"introduction\"></a><br />\n",
    "I am an analyst at a large online store. Together with the marketing department, we have compiled a list of hypotheses that can help increase revenue.<br />\n",
    "\n",
    "I need to prioritize these hypotheses, run an A / B test, and analyze the results."
   ]
  },
  {
   "cell_type": "markdown",
   "metadata": {},
   "source": [
    "<div class=\"alert alert-success\" role=\"alert\">\n",
    "Reviewer's comment v. 1:\n",
    "    \n",
    "It’s great that you added a table of contents with links and a goal of the project. \n",
    "</div>"
   ]
  },
  {
   "cell_type": "markdown",
   "metadata": {},
   "source": [
    "#### Description of the data <br />\n",
    "\n",
    "Dataset \"hypotheses_us.csv\"\n",
    "- Hypotheses — brief descriptions of the hypotheses\n",
    "- Reach — user reach, on a scale of one to ten\n",
    "- Impact — impact on users, on a scale of one to ten\n",
    "- Confidence — confidence in the hypothesis, on a scale of one to ten\n",
    "- Effort — the resources required to test a hypothesis, on a scale of one to ten. The higher the Effort value, the more resource-intensive the test.\n",
    "\n",
    "Dataset \"orders_us.csv\"\n",
    "- transactionId — order identifier\n",
    "- visitorId — identifier of the user who placed the order\n",
    "- date — of the order\n",
    "- revenue — from the order\n",
    "- group — the A/B test group that the user belongs to\n",
    "\n",
    "Dataset \"visits_us.csv\"\n",
    "- date — date\n",
    "- group — A/B test group\n",
    "- visits — the number of visits on the date specified in the A/B test group specified"
   ]
  },
  {
   "cell_type": "markdown",
   "metadata": {},
   "source": [
    "<div class=\"alert alert-success\" role=\"alert\">\n",
    "Reviewer's comment v. 1:\n",
    "    \n",
    "Well done that you described data. \n",
    "</div>"
   ]
  },
  {
   "cell_type": "markdown",
   "metadata": {},
   "source": [
    "#### 1. Download the data and prepare it for analysis.<a name=\"prepare\"></a>"
   ]
  },
  {
   "cell_type": "code",
   "execution_count": 1,
   "metadata": {},
   "outputs": [],
   "source": [
    "import pandas   as pd\n",
    "from scipy import stats as st\n",
    "import numpy as np\n",
    "import math\n",
    "import matplotlib.pyplot as plt\n",
    "import matplotlib.ticker as ticker\n",
    "import seaborn as sns\n",
    "from pandas.plotting import register_matplotlib_converters\n",
    "\n",
    "register_matplotlib_converters()\n",
    "pd.options.display.float_format = \"{:.2f}\".format\n",
    "pd.set_option('display.max_colwidth', 400)"
   ]
  },
  {
   "cell_type": "markdown",
   "metadata": {},
   "source": [
    "##### Preliminary analysis of the data structure."
   ]
  },
  {
   "cell_type": "code",
   "execution_count": 2,
   "metadata": {},
   "outputs": [],
   "source": [
    "hypotheses_path  = 'hypotheses_us.csv'\n",
    "visits_path      = 'visits_us.csv'\n",
    "orders_path      = 'orders_us.csv'\n",
    "platform_path    = 'https://code.s3.yandex.net/datasets/'\n",
    "\n",
    "try:\n",
    "    hypotheses = pd.read_csv(hypotheses_path, sep=';', nrows=500)\n",
    "    visits     = pd.read_csv(visits_path, nrows=500)\n",
    "    orders     = pd.read_csv(orders_path, nrows=500)\n",
    "except:\n",
    "    hypotheses = pd.read_csv(platform_path+hypotheses_path, sep=';', nrows=500)\n",
    "    visits     = pd.read_csv(platform_path+visits_path, nrows=500)\n",
    "    orders     = pd.read_csv(platform_path+orders_path, nrows=500)"
   ]
  },
  {
   "cell_type": "code",
   "execution_count": 3,
   "metadata": {},
   "outputs": [
    {
     "name": "stdout",
     "output_type": "stream",
     "text": [
      "Hypotheses: \n",
      "\n",
      "<class 'pandas.core.frame.DataFrame'>\n",
      "RangeIndex: 9 entries, 0 to 8\n",
      "Data columns (total 5 columns):\n",
      " #   Column      Non-Null Count  Dtype \n",
      "---  ------      --------------  ----- \n",
      " 0   Hypothesis  9 non-null      object\n",
      " 1   Reach       9 non-null      int64 \n",
      " 2   Impact      9 non-null      int64 \n",
      " 3   Confidence  9 non-null      int64 \n",
      " 4   Effort      9 non-null      int64 \n",
      "dtypes: int64(4), object(1)\n",
      "memory usage: 488.0+ bytes\n",
      "None\n"
     ]
    }
   ],
   "source": [
    "print('Hypotheses: \\n')\n",
    "print(hypotheses.info())"
   ]
  },
  {
   "cell_type": "code",
   "execution_count": 4,
   "metadata": {},
   "outputs": [
    {
     "name": "stdout",
     "output_type": "stream",
     "text": [
      "Visits: \n",
      "\n",
      "<class 'pandas.core.frame.DataFrame'>\n",
      "RangeIndex: 62 entries, 0 to 61\n",
      "Data columns (total 3 columns):\n",
      " #   Column  Non-Null Count  Dtype \n",
      "---  ------  --------------  ----- \n",
      " 0   date    62 non-null     object\n",
      " 1   group   62 non-null     object\n",
      " 2   visits  62 non-null     int64 \n",
      "dtypes: int64(1), object(2)\n",
      "memory usage: 1.6+ KB\n",
      "None \n",
      "\n",
      "B    31\n",
      "A    31\n",
      "Name: group, dtype: int64\n"
     ]
    }
   ],
   "source": [
    "print('Visits: \\n')\n",
    "print(visits.info(),'\\n')\n",
    "print(visits['group'].value_counts())\n"
   ]
  },
  {
   "cell_type": "markdown",
   "metadata": {},
   "source": [
    "We need to convert the \"Group\" field to the category type, and the \"Date\" field to the DateTime type."
   ]
  },
  {
   "cell_type": "markdown",
   "metadata": {},
   "source": [
    "<div class=\"alert alert-success\" role=\"alert\">\n",
    "Reviewer's comment v. 1:\n",
    "    \n",
    "It's great that you have checked the data types.\n",
    "</div>"
   ]
  },
  {
   "cell_type": "code",
   "execution_count": 5,
   "metadata": {},
   "outputs": [
    {
     "name": "stdout",
     "output_type": "stream",
     "text": [
      "Orders: \n",
      "\n",
      "<class 'pandas.core.frame.DataFrame'>\n",
      "RangeIndex: 500 entries, 0 to 499\n",
      "Data columns (total 5 columns):\n",
      " #   Column         Non-Null Count  Dtype  \n",
      "---  ------         --------------  -----  \n",
      " 0   transactionId  500 non-null    int64  \n",
      " 1   visitorId      500 non-null    int64  \n",
      " 2   date           500 non-null    object \n",
      " 3   revenue        500 non-null    float64\n",
      " 4   group          500 non-null    object \n",
      "dtypes: float64(1), int64(2), object(2)\n",
      "memory usage: 19.7+ KB\n",
      "None \n",
      "\n",
      "B    266\n",
      "A    234\n",
      "Name: group, dtype: int64\n"
     ]
    }
   ],
   "source": [
    "print('Orders: \\n')\n",
    "print(orders.info(),'\\n')\n",
    "print(orders['group'].value_counts())"
   ]
  },
  {
   "cell_type": "markdown",
   "metadata": {},
   "source": [
    "We need to convert the \"Group\" field to the category type, and the \"Date\" field to the DateTime type."
   ]
  },
  {
   "cell_type": "markdown",
   "metadata": {},
   "source": [
    "##### 1.1 Loading data in an optimized form.<a name=\"loading_data\"></a>"
   ]
  },
  {
   "cell_type": "markdown",
   "metadata": {},
   "source": [
    "<div class=\"alert alert-danger\" role=\"alert\">\n",
    "Reviewer's comment v. 1:\n",
    "    \n",
    "Please fix the error below (code doesn't run). \n",
    "</div>"
   ]
  },
  {
   "cell_type": "markdown",
   "metadata": {},
   "source": [
    "<div class=\"alert alert-info\">\n",
    "    I fixed it.\n",
    "</div>"
   ]
  },
  {
   "cell_type": "markdown",
   "metadata": {},
   "source": [
    "<div class=\"alert alert-success\" role=\"alert\">\n",
    "Reviewer's comment v. 2:\n",
    "    \n",
    "Ok, now it works :)\n",
    "</div>"
   ]
  },
  {
   "cell_type": "code",
   "execution_count": 6,
   "metadata": {},
   "outputs": [],
   "source": [
    "try:\n",
    "    hypotheses = pd.read_csv(hypotheses_path, sep=';')\n",
    "    visits     = pd.read_csv(visits_path,  \n",
    "                             dtype={'group': 'category'},\n",
    "                             parse_dates=['date'])\n",
    "    orders     = pd.read_csv(orders_path,  \n",
    "                             dtype={'group': 'category'},\n",
    "                             parse_dates=['date'])\n",
    "except:\n",
    "    hypotheses = pd.read_csv(platform_path+hypotheses_path, sep=';') \n",
    "    visits     = pd.read_csv(platform_path+visits_path,  \n",
    "                             dtype={'group': 'category'},\n",
    "                             parse_dates=['date'])\n",
    "    orders     = pd.read_csv(platform_path+orders_path,  \n",
    "                             dtype={'group': 'category'},\n",
    "                             parse_dates=['date'])"
   ]
  },
  {
   "cell_type": "markdown",
   "metadata": {},
   "source": [
    "#### 1.2. Data preprocessing<a name=\"data_preprocessing\"></a>"
   ]
  },
  {
   "cell_type": "code",
   "execution_count": 7,
   "metadata": {},
   "outputs": [
    {
     "name": "stdout",
     "output_type": "stream",
     "text": [
      "<class 'pandas.core.frame.DataFrame'>\n",
      "RangeIndex: 9 entries, 0 to 8\n",
      "Data columns (total 5 columns):\n",
      " #   Column      Non-Null Count  Dtype \n",
      "---  ------      --------------  ----- \n",
      " 0   Hypothesis  9 non-null      object\n",
      " 1   Reach       9 non-null      int64 \n",
      " 2   Impact      9 non-null      int64 \n",
      " 3   Confidence  9 non-null      int64 \n",
      " 4   Effort      9 non-null      int64 \n",
      "dtypes: int64(4), object(1)\n",
      "memory usage: 488.0+ bytes\n"
     ]
    }
   ],
   "source": [
    "hypotheses.info()"
   ]
  },
  {
   "cell_type": "code",
   "execution_count": 8,
   "metadata": {},
   "outputs": [
    {
     "name": "stdout",
     "output_type": "stream",
     "text": [
      "Duplicates found -  0  records\n"
     ]
    },
    {
     "data": {
      "text/html": [
       "<div>\n",
       "<style scoped>\n",
       "    .dataframe tbody tr th:only-of-type {\n",
       "        vertical-align: middle;\n",
       "    }\n",
       "\n",
       "    .dataframe tbody tr th {\n",
       "        vertical-align: top;\n",
       "    }\n",
       "\n",
       "    .dataframe thead th {\n",
       "        text-align: right;\n",
       "    }\n",
       "</style>\n",
       "<table border=\"1\" class=\"dataframe\">\n",
       "  <thead>\n",
       "    <tr style=\"text-align: right;\">\n",
       "      <th></th>\n",
       "      <th>Hypothesis</th>\n",
       "      <th>Reach</th>\n",
       "      <th>Impact</th>\n",
       "      <th>Confidence</th>\n",
       "      <th>Effort</th>\n",
       "    </tr>\n",
       "  </thead>\n",
       "  <tbody>\n",
       "    <tr>\n",
       "      <th>0</th>\n",
       "      <td>Add two new channels for attracting traffic. This will bring 30% more users</td>\n",
       "      <td>3</td>\n",
       "      <td>10</td>\n",
       "      <td>8</td>\n",
       "      <td>6</td>\n",
       "    </tr>\n",
       "    <tr>\n",
       "      <th>1</th>\n",
       "      <td>Launch your own delivery service. This will shorten delivery time</td>\n",
       "      <td>2</td>\n",
       "      <td>5</td>\n",
       "      <td>4</td>\n",
       "      <td>10</td>\n",
       "    </tr>\n",
       "    <tr>\n",
       "      <th>2</th>\n",
       "      <td>Add product recommendation blocks to the store's site. This will increase conversion and average purchase size</td>\n",
       "      <td>8</td>\n",
       "      <td>3</td>\n",
       "      <td>7</td>\n",
       "      <td>3</td>\n",
       "    </tr>\n",
       "    <tr>\n",
       "      <th>3</th>\n",
       "      <td>Change the category structure. This will increase conversion since users will find the products they want more quickly</td>\n",
       "      <td>8</td>\n",
       "      <td>3</td>\n",
       "      <td>3</td>\n",
       "      <td>8</td>\n",
       "    </tr>\n",
       "    <tr>\n",
       "      <th>4</th>\n",
       "      <td>Change the background color on the main page. This will increase user engagement</td>\n",
       "      <td>3</td>\n",
       "      <td>1</td>\n",
       "      <td>1</td>\n",
       "      <td>1</td>\n",
       "    </tr>\n",
       "    <tr>\n",
       "      <th>5</th>\n",
       "      <td>Add a customer review page. This will increase the number of orders</td>\n",
       "      <td>3</td>\n",
       "      <td>2</td>\n",
       "      <td>2</td>\n",
       "      <td>3</td>\n",
       "    </tr>\n",
       "    <tr>\n",
       "      <th>6</th>\n",
       "      <td>Show banners with current offers and sales on the main page. This will boost conversion</td>\n",
       "      <td>5</td>\n",
       "      <td>3</td>\n",
       "      <td>8</td>\n",
       "      <td>3</td>\n",
       "    </tr>\n",
       "    <tr>\n",
       "      <th>7</th>\n",
       "      <td>Add a subscription form to all the main pages. This will help you compile a mailing list</td>\n",
       "      <td>10</td>\n",
       "      <td>7</td>\n",
       "      <td>8</td>\n",
       "      <td>5</td>\n",
       "    </tr>\n",
       "    <tr>\n",
       "      <th>8</th>\n",
       "      <td>Launch a promotion that gives users discounts on their birthdays</td>\n",
       "      <td>1</td>\n",
       "      <td>9</td>\n",
       "      <td>9</td>\n",
       "      <td>5</td>\n",
       "    </tr>\n",
       "  </tbody>\n",
       "</table>\n",
       "</div>"
      ],
      "text/plain": [
       "                                                                                                               Hypothesis  \\\n",
       "0                                             Add two new channels for attracting traffic. This will bring 30% more users   \n",
       "1                                                       Launch your own delivery service. This will shorten delivery time   \n",
       "2          Add product recommendation blocks to the store's site. This will increase conversion and average purchase size   \n",
       "3  Change the category structure. This will increase conversion since users will find the products they want more quickly   \n",
       "4                                        Change the background color on the main page. This will increase user engagement   \n",
       "5                                                     Add a customer review page. This will increase the number of orders   \n",
       "6                                 Show banners with current offers and sales on the main page. This will boost conversion   \n",
       "7                                Add a subscription form to all the main pages. This will help you compile a mailing list   \n",
       "8                                                        Launch a promotion that gives users discounts on their birthdays   \n",
       "\n",
       "   Reach  Impact  Confidence  Effort  \n",
       "0      3      10           8       6  \n",
       "1      2       5           4      10  \n",
       "2      8       3           7       3  \n",
       "3      8       3           3       8  \n",
       "4      3       1           1       1  \n",
       "5      3       2           2       3  \n",
       "6      5       3           8       3  \n",
       "7     10       7           8       5  \n",
       "8      1       9           9       5  "
      ]
     },
     "execution_count": 8,
     "metadata": {},
     "output_type": "execute_result"
    }
   ],
   "source": [
    "print('Duplicates found - ',hypotheses['Hypothesis'].duplicated().sum(),' records')\n",
    "hypotheses"
   ]
  },
  {
   "cell_type": "code",
   "execution_count": 9,
   "metadata": {},
   "outputs": [
    {
     "name": "stdout",
     "output_type": "stream",
     "text": [
      "<class 'pandas.core.frame.DataFrame'>\n",
      "RangeIndex: 62 entries, 0 to 61\n",
      "Data columns (total 3 columns):\n",
      " #   Column  Non-Null Count  Dtype         \n",
      "---  ------  --------------  -----         \n",
      " 0   date    62 non-null     datetime64[ns]\n",
      " 1   group   62 non-null     category      \n",
      " 2   visits  62 non-null     int64         \n",
      "dtypes: category(1), datetime64[ns](1), int64(1)\n",
      "memory usage: 1.2 KB\n"
     ]
    }
   ],
   "source": [
    "visits.info()"
   ]
  },
  {
   "cell_type": "code",
   "execution_count": 10,
   "metadata": {},
   "outputs": [
    {
     "name": "stdout",
     "output_type": "stream",
     "text": [
      "Duplicates found -  0  records\n"
     ]
    },
    {
     "data": {
      "text/html": [
       "<div>\n",
       "<style scoped>\n",
       "    .dataframe tbody tr th:only-of-type {\n",
       "        vertical-align: middle;\n",
       "    }\n",
       "\n",
       "    .dataframe tbody tr th {\n",
       "        vertical-align: top;\n",
       "    }\n",
       "\n",
       "    .dataframe thead th {\n",
       "        text-align: right;\n",
       "    }\n",
       "</style>\n",
       "<table border=\"1\" class=\"dataframe\">\n",
       "  <thead>\n",
       "    <tr style=\"text-align: right;\">\n",
       "      <th></th>\n",
       "      <th>date</th>\n",
       "      <th>group</th>\n",
       "      <th>visits</th>\n",
       "    </tr>\n",
       "  </thead>\n",
       "  <tbody>\n",
       "    <tr>\n",
       "      <th>0</th>\n",
       "      <td>2019-08-01</td>\n",
       "      <td>A</td>\n",
       "      <td>719</td>\n",
       "    </tr>\n",
       "    <tr>\n",
       "      <th>1</th>\n",
       "      <td>2019-08-02</td>\n",
       "      <td>A</td>\n",
       "      <td>619</td>\n",
       "    </tr>\n",
       "    <tr>\n",
       "      <th>2</th>\n",
       "      <td>2019-08-03</td>\n",
       "      <td>A</td>\n",
       "      <td>507</td>\n",
       "    </tr>\n",
       "    <tr>\n",
       "      <th>3</th>\n",
       "      <td>2019-08-04</td>\n",
       "      <td>A</td>\n",
       "      <td>717</td>\n",
       "    </tr>\n",
       "    <tr>\n",
       "      <th>4</th>\n",
       "      <td>2019-08-05</td>\n",
       "      <td>A</td>\n",
       "      <td>756</td>\n",
       "    </tr>\n",
       "  </tbody>\n",
       "</table>\n",
       "</div>"
      ],
      "text/plain": [
       "        date group  visits\n",
       "0 2019-08-01     A     719\n",
       "1 2019-08-02     A     619\n",
       "2 2019-08-03     A     507\n",
       "3 2019-08-04     A     717\n",
       "4 2019-08-05     A     756"
      ]
     },
     "execution_count": 10,
     "metadata": {},
     "output_type": "execute_result"
    }
   ],
   "source": [
    "print('Duplicates found - ',visits[['date','group']].duplicated().sum(),' records')\n",
    "visits[:5]"
   ]
  },
  {
   "cell_type": "code",
   "execution_count": 11,
   "metadata": {},
   "outputs": [
    {
     "name": "stdout",
     "output_type": "stream",
     "text": [
      "<class 'pandas.core.frame.DataFrame'>\n",
      "RangeIndex: 1197 entries, 0 to 1196\n",
      "Data columns (total 5 columns):\n",
      " #   Column         Non-Null Count  Dtype         \n",
      "---  ------         --------------  -----         \n",
      " 0   transactionId  1197 non-null   int64         \n",
      " 1   visitorId      1197 non-null   int64         \n",
      " 2   date           1197 non-null   datetime64[ns]\n",
      " 3   revenue        1197 non-null   float64       \n",
      " 4   group          1197 non-null   category      \n",
      "dtypes: category(1), datetime64[ns](1), float64(1), int64(2)\n",
      "memory usage: 38.8 KB\n"
     ]
    }
   ],
   "source": [
    "orders.info()"
   ]
  },
  {
   "cell_type": "code",
   "execution_count": 12,
   "metadata": {},
   "outputs": [
    {
     "name": "stdout",
     "output_type": "stream",
     "text": [
      "Duplicates found -  0  records\n"
     ]
    },
    {
     "data": {
      "text/html": [
       "<div>\n",
       "<style scoped>\n",
       "    .dataframe tbody tr th:only-of-type {\n",
       "        vertical-align: middle;\n",
       "    }\n",
       "\n",
       "    .dataframe tbody tr th {\n",
       "        vertical-align: top;\n",
       "    }\n",
       "\n",
       "    .dataframe thead th {\n",
       "        text-align: right;\n",
       "    }\n",
       "</style>\n",
       "<table border=\"1\" class=\"dataframe\">\n",
       "  <thead>\n",
       "    <tr style=\"text-align: right;\">\n",
       "      <th></th>\n",
       "      <th>transactionId</th>\n",
       "      <th>visitorId</th>\n",
       "      <th>date</th>\n",
       "      <th>revenue</th>\n",
       "      <th>group</th>\n",
       "    </tr>\n",
       "  </thead>\n",
       "  <tbody>\n",
       "    <tr>\n",
       "      <th>0</th>\n",
       "      <td>3667963787</td>\n",
       "      <td>3312258926</td>\n",
       "      <td>2019-08-15</td>\n",
       "      <td>30.40</td>\n",
       "      <td>B</td>\n",
       "    </tr>\n",
       "    <tr>\n",
       "      <th>1</th>\n",
       "      <td>2804400009</td>\n",
       "      <td>3642806036</td>\n",
       "      <td>2019-08-15</td>\n",
       "      <td>15.20</td>\n",
       "      <td>B</td>\n",
       "    </tr>\n",
       "    <tr>\n",
       "      <th>2</th>\n",
       "      <td>2961555356</td>\n",
       "      <td>4069496402</td>\n",
       "      <td>2019-08-15</td>\n",
       "      <td>10.20</td>\n",
       "      <td>A</td>\n",
       "    </tr>\n",
       "    <tr>\n",
       "      <th>3</th>\n",
       "      <td>3797467345</td>\n",
       "      <td>1196621759</td>\n",
       "      <td>2019-08-15</td>\n",
       "      <td>155.10</td>\n",
       "      <td>B</td>\n",
       "    </tr>\n",
       "    <tr>\n",
       "      <th>4</th>\n",
       "      <td>2282983706</td>\n",
       "      <td>2322279887</td>\n",
       "      <td>2019-08-15</td>\n",
       "      <td>40.50</td>\n",
       "      <td>B</td>\n",
       "    </tr>\n",
       "  </tbody>\n",
       "</table>\n",
       "</div>"
      ],
      "text/plain": [
       "   transactionId   visitorId       date  revenue group\n",
       "0     3667963787  3312258926 2019-08-15    30.40     B\n",
       "1     2804400009  3642806036 2019-08-15    15.20     B\n",
       "2     2961555356  4069496402 2019-08-15    10.20     A\n",
       "3     3797467345  1196621759 2019-08-15   155.10     B\n",
       "4     2282983706  2322279887 2019-08-15    40.50     B"
      ]
     },
     "execution_count": 12,
     "metadata": {},
     "output_type": "execute_result"
    }
   ],
   "source": [
    "print('Duplicates found - ',orders.duplicated().sum(),' records')\n",
    "orders[:5]"
   ]
  },
  {
   "cell_type": "code",
   "execution_count": 13,
   "metadata": {},
   "outputs": [
    {
     "name": "stdout",
     "output_type": "stream",
     "text": [
      "There are 58 clients who participated in both groups.\n"
     ]
    }
   ],
   "source": [
    "group_nunique = orders.groupby('visitorId', as_index = False).agg({'group':'nunique'})\n",
    "incorrect_data = group_nunique[group_nunique['group'] == 2]\n",
    "print('There are {:} clients who participated in both groups.'.format(len(incorrect_data)))"
   ]
  },
  {
   "cell_type": "markdown",
   "metadata": {},
   "source": [
    "##### Conclusion:<br>\n",
    "No missing data were found.<br>\n",
    "No duplicates were found.<br>\n",
    "There is no need to convert the data type.<br>\n",
    "For convenience, we need to rename the columns. We will make all letters small.\n",
    "\n",
    "However, it turned out that there are 58 buyers who are present in both groups. This will ruin the test result. We need to remove the data about these customers from the **Orders** and **Visits** tables."
   ]
  },
  {
   "cell_type": "markdown",
   "metadata": {},
   "source": [
    "<div class=\"alert alert-success\" role=\"alert\">\n",
    "Reviewer's comment v. 1:\n",
    "    \n",
    "It’s great that you have checked data for duplicates and a missing values.\n",
    "</div>"
   ]
  },
  {
   "cell_type": "code",
   "execution_count": 14,
   "metadata": {},
   "outputs": [],
   "source": [
    "hypotheses = hypotheses.rename(str.lower, axis='columns')"
   ]
  },
  {
   "cell_type": "code",
   "execution_count": 15,
   "metadata": {},
   "outputs": [],
   "source": [
    "# Let's make a list of clients who participate in two groups at the same time\n",
    "customer_exclude = orders.groupby('visitorId', as_index = False).agg({'group':'nunique'})\n",
    "customer_exclude = list(customer_exclude.query('group == 2')['visitorId'])"
   ]
  },
  {
   "cell_type": "code",
   "execution_count": 16,
   "metadata": {},
   "outputs": [],
   "source": [
    "# Let's remove customer data from Orders table, which include in\"customer_exclude\" list.\n",
    "orders_filtred = orders.query('visitorId not in @customer_exclude')"
   ]
  },
  {
   "cell_type": "code",
   "execution_count": 17,
   "metadata": {},
   "outputs": [],
   "source": [
    "#Let's remove customer data from Visits table, which include in  \"customer_exclude\" list.\n",
    "orders_temp = orders.query('visitorId in @customer_exclude').reset_index(drop = True)\n",
    "# add column \"Correct\" with \"-1\" visit\n",
    "orders_temp.loc[:,'corr'] = -1\n",
    "orders_correcting_info = orders_temp.groupby(['date','group']).agg({'corr':'sum'}).fillna(0).reset_index(drop=False)\n",
    "orders_correcting_info['corr'] = orders_correcting_info['corr'].astype(int)\n",
    "\n",
    "visits_filtred = visits.merge(orders_correcting_info,\n",
    "                              left_on=['date', 'group'],\n",
    "                              right_on=['date', 'group'])\n",
    "\n",
    "visits_filtred['visits'] = visits_filtred['visits'] + visits_filtred['corr'] \n",
    "visits_filtred = visits_filtred.drop('corr', axis=1)"
   ]
  },
  {
   "cell_type": "code",
   "execution_count": 18,
   "metadata": {},
   "outputs": [
    {
     "data": {
      "text/html": [
       "<div>\n",
       "<style scoped>\n",
       "    .dataframe tbody tr th:only-of-type {\n",
       "        vertical-align: middle;\n",
       "    }\n",
       "\n",
       "    .dataframe tbody tr th {\n",
       "        vertical-align: top;\n",
       "    }\n",
       "\n",
       "    .dataframe thead th {\n",
       "        text-align: right;\n",
       "    }\n",
       "</style>\n",
       "<table border=\"1\" class=\"dataframe\">\n",
       "  <thead>\n",
       "    <tr style=\"text-align: right;\">\n",
       "      <th></th>\n",
       "      <th>date</th>\n",
       "      <th>group</th>\n",
       "      <th>visits</th>\n",
       "    </tr>\n",
       "  </thead>\n",
       "  <tbody>\n",
       "    <tr>\n",
       "      <th>0</th>\n",
       "      <td>2019-08-01</td>\n",
       "      <td>A</td>\n",
       "      <td>719</td>\n",
       "    </tr>\n",
       "    <tr>\n",
       "      <th>1</th>\n",
       "      <td>2019-08-02</td>\n",
       "      <td>A</td>\n",
       "      <td>619</td>\n",
       "    </tr>\n",
       "    <tr>\n",
       "      <th>2</th>\n",
       "      <td>2019-08-03</td>\n",
       "      <td>A</td>\n",
       "      <td>507</td>\n",
       "    </tr>\n",
       "    <tr>\n",
       "      <th>3</th>\n",
       "      <td>2019-08-04</td>\n",
       "      <td>A</td>\n",
       "      <td>717</td>\n",
       "    </tr>\n",
       "    <tr>\n",
       "      <th>4</th>\n",
       "      <td>2019-08-05</td>\n",
       "      <td>A</td>\n",
       "      <td>756</td>\n",
       "    </tr>\n",
       "    <tr>\n",
       "      <th>5</th>\n",
       "      <td>2019-08-06</td>\n",
       "      <td>A</td>\n",
       "      <td>667</td>\n",
       "    </tr>\n",
       "  </tbody>\n",
       "</table>\n",
       "</div>"
      ],
      "text/plain": [
       "        date group  visits\n",
       "0 2019-08-01     A     719\n",
       "1 2019-08-02     A     619\n",
       "2 2019-08-03     A     507\n",
       "3 2019-08-04     A     717\n",
       "4 2019-08-05     A     756\n",
       "5 2019-08-06     A     667"
      ]
     },
     "execution_count": 18,
     "metadata": {},
     "output_type": "execute_result"
    }
   ],
   "source": [
    "visits[:6]"
   ]
  },
  {
   "cell_type": "code",
   "execution_count": 19,
   "metadata": {},
   "outputs": [
    {
     "data": {
      "text/html": [
       "<div>\n",
       "<style scoped>\n",
       "    .dataframe tbody tr th:only-of-type {\n",
       "        vertical-align: middle;\n",
       "    }\n",
       "\n",
       "    .dataframe tbody tr th {\n",
       "        vertical-align: top;\n",
       "    }\n",
       "\n",
       "    .dataframe thead th {\n",
       "        text-align: right;\n",
       "    }\n",
       "</style>\n",
       "<table border=\"1\" class=\"dataframe\">\n",
       "  <thead>\n",
       "    <tr style=\"text-align: right;\">\n",
       "      <th></th>\n",
       "      <th>date</th>\n",
       "      <th>group</th>\n",
       "      <th>visits</th>\n",
       "    </tr>\n",
       "  </thead>\n",
       "  <tbody>\n",
       "    <tr>\n",
       "      <th>0</th>\n",
       "      <td>2019-08-01</td>\n",
       "      <td>A</td>\n",
       "      <td>718</td>\n",
       "    </tr>\n",
       "    <tr>\n",
       "      <th>1</th>\n",
       "      <td>2019-08-02</td>\n",
       "      <td>A</td>\n",
       "      <td>618</td>\n",
       "    </tr>\n",
       "    <tr>\n",
       "      <th>2</th>\n",
       "      <td>2019-08-03</td>\n",
       "      <td>A</td>\n",
       "      <td>507</td>\n",
       "    </tr>\n",
       "    <tr>\n",
       "      <th>3</th>\n",
       "      <td>2019-08-04</td>\n",
       "      <td>A</td>\n",
       "      <td>712</td>\n",
       "    </tr>\n",
       "    <tr>\n",
       "      <th>4</th>\n",
       "      <td>2019-08-05</td>\n",
       "      <td>A</td>\n",
       "      <td>753</td>\n",
       "    </tr>\n",
       "    <tr>\n",
       "      <th>5</th>\n",
       "      <td>2019-08-06</td>\n",
       "      <td>A</td>\n",
       "      <td>664</td>\n",
       "    </tr>\n",
       "  </tbody>\n",
       "</table>\n",
       "</div>"
      ],
      "text/plain": [
       "        date group  visits\n",
       "0 2019-08-01     A     718\n",
       "1 2019-08-02     A     618\n",
       "2 2019-08-03     A     507\n",
       "3 2019-08-04     A     712\n",
       "4 2019-08-05     A     753\n",
       "5 2019-08-06     A     664"
      ]
     },
     "execution_count": 19,
     "metadata": {},
     "output_type": "execute_result"
    }
   ],
   "source": [
    "visits_filtred[:6]"
   ]
  },
  {
   "cell_type": "markdown",
   "metadata": {},
   "source": [
    "### 2. Prioritizing Hypotheses<a name=\"prioritizing\"></a>"
   ]
  },
  {
   "cell_type": "markdown",
   "metadata": {},
   "source": [
    "#### 2.1 ICE<a name=\"ice\"></a>"
   ]
  },
  {
   "cell_type": "code",
   "execution_count": 20,
   "metadata": {},
   "outputs": [
    {
     "data": {
      "text/html": [
       "<div>\n",
       "<style scoped>\n",
       "    .dataframe tbody tr th:only-of-type {\n",
       "        vertical-align: middle;\n",
       "    }\n",
       "\n",
       "    .dataframe tbody tr th {\n",
       "        vertical-align: top;\n",
       "    }\n",
       "\n",
       "    .dataframe thead th {\n",
       "        text-align: right;\n",
       "    }\n",
       "</style>\n",
       "<table border=\"1\" class=\"dataframe\">\n",
       "  <thead>\n",
       "    <tr style=\"text-align: right;\">\n",
       "      <th></th>\n",
       "      <th>hypothesis</th>\n",
       "      <th>reach</th>\n",
       "      <th>impact</th>\n",
       "      <th>confidence</th>\n",
       "      <th>effort</th>\n",
       "      <th>ice</th>\n",
       "    </tr>\n",
       "  </thead>\n",
       "  <tbody>\n",
       "    <tr>\n",
       "      <th>0</th>\n",
       "      <td>Launch a promotion that gives users discounts on their birthdays</td>\n",
       "      <td>1</td>\n",
       "      <td>9</td>\n",
       "      <td>9</td>\n",
       "      <td>5</td>\n",
       "      <td>16.20</td>\n",
       "    </tr>\n",
       "    <tr>\n",
       "      <th>1</th>\n",
       "      <td>Add two new channels for attracting traffic. This will bring 30% more users</td>\n",
       "      <td>3</td>\n",
       "      <td>10</td>\n",
       "      <td>8</td>\n",
       "      <td>6</td>\n",
       "      <td>13.33</td>\n",
       "    </tr>\n",
       "    <tr>\n",
       "      <th>2</th>\n",
       "      <td>Add a subscription form to all the main pages. This will help you compile a mailing list</td>\n",
       "      <td>10</td>\n",
       "      <td>7</td>\n",
       "      <td>8</td>\n",
       "      <td>5</td>\n",
       "      <td>11.20</td>\n",
       "    </tr>\n",
       "    <tr>\n",
       "      <th>3</th>\n",
       "      <td>Show banners with current offers and sales on the main page. This will boost conversion</td>\n",
       "      <td>5</td>\n",
       "      <td>3</td>\n",
       "      <td>8</td>\n",
       "      <td>3</td>\n",
       "      <td>8.00</td>\n",
       "    </tr>\n",
       "    <tr>\n",
       "      <th>4</th>\n",
       "      <td>Add product recommendation blocks to the store's site. This will increase conversion and average purchase size</td>\n",
       "      <td>8</td>\n",
       "      <td>3</td>\n",
       "      <td>7</td>\n",
       "      <td>3</td>\n",
       "      <td>7.00</td>\n",
       "    </tr>\n",
       "    <tr>\n",
       "      <th>5</th>\n",
       "      <td>Launch your own delivery service. This will shorten delivery time</td>\n",
       "      <td>2</td>\n",
       "      <td>5</td>\n",
       "      <td>4</td>\n",
       "      <td>10</td>\n",
       "      <td>2.00</td>\n",
       "    </tr>\n",
       "    <tr>\n",
       "      <th>6</th>\n",
       "      <td>Add a customer review page. This will increase the number of orders</td>\n",
       "      <td>3</td>\n",
       "      <td>2</td>\n",
       "      <td>2</td>\n",
       "      <td>3</td>\n",
       "      <td>1.33</td>\n",
       "    </tr>\n",
       "    <tr>\n",
       "      <th>7</th>\n",
       "      <td>Change the category structure. This will increase conversion since users will find the products they want more quickly</td>\n",
       "      <td>8</td>\n",
       "      <td>3</td>\n",
       "      <td>3</td>\n",
       "      <td>8</td>\n",
       "      <td>1.12</td>\n",
       "    </tr>\n",
       "    <tr>\n",
       "      <th>8</th>\n",
       "      <td>Change the background color on the main page. This will increase user engagement</td>\n",
       "      <td>3</td>\n",
       "      <td>1</td>\n",
       "      <td>1</td>\n",
       "      <td>1</td>\n",
       "      <td>1.00</td>\n",
       "    </tr>\n",
       "  </tbody>\n",
       "</table>\n",
       "</div>"
      ],
      "text/plain": [
       "                                                                                                               hypothesis  \\\n",
       "0                                                        Launch a promotion that gives users discounts on their birthdays   \n",
       "1                                             Add two new channels for attracting traffic. This will bring 30% more users   \n",
       "2                                Add a subscription form to all the main pages. This will help you compile a mailing list   \n",
       "3                                 Show banners with current offers and sales on the main page. This will boost conversion   \n",
       "4          Add product recommendation blocks to the store's site. This will increase conversion and average purchase size   \n",
       "5                                                       Launch your own delivery service. This will shorten delivery time   \n",
       "6                                                     Add a customer review page. This will increase the number of orders   \n",
       "7  Change the category structure. This will increase conversion since users will find the products they want more quickly   \n",
       "8                                        Change the background color on the main page. This will increase user engagement   \n",
       "\n",
       "   reach  impact  confidence  effort   ice  \n",
       "0      1       9           9       5 16.20  \n",
       "1      3      10           8       6 13.33  \n",
       "2     10       7           8       5 11.20  \n",
       "3      5       3           8       3  8.00  \n",
       "4      8       3           7       3  7.00  \n",
       "5      2       5           4      10  2.00  \n",
       "6      3       2           2       3  1.33  \n",
       "7      8       3           3       8  1.12  \n",
       "8      3       1           1       1  1.00  "
      ]
     },
     "execution_count": 20,
     "metadata": {},
     "output_type": "execute_result"
    }
   ],
   "source": [
    "# Почитаем рейтинг ICE\n",
    "hypotheses['ice'] = hypotheses.apply(lambda x: \n",
    "                                     x['impact'] * x['confidence'] / x['effort'],\n",
    "                                     axis=1)\n",
    "\n",
    "hypotheses = hypotheses.sort_values(by='ice', ascending = False).reset_index(drop=True)\n",
    "hypotheses"
   ]
  },
  {
   "cell_type": "code",
   "execution_count": 21,
   "metadata": {},
   "outputs": [],
   "source": [
    "# Расставим приоритеты\n",
    "hypotheses['priority_ice'] = (\n",
    "    hypotheses.apply(lambda x: hypotheses[hypotheses['hypothesis'] == x['hypothesis']]\n",
    "                     .index.values[0],\n",
    "                     axis=1))\n",
    "hypotheses[['hypothesis','ice','priority_ice']]\n",
    "hypotheses['priority_ice'] = 9 - hypotheses['priority_ice']\n"
   ]
  },
  {
   "cell_type": "markdown",
   "metadata": {},
   "source": [
    "#### 2.2 RICE<a name=\"rice\"></a>"
   ]
  },
  {
   "cell_type": "code",
   "execution_count": 22,
   "metadata": {},
   "outputs": [],
   "source": [
    "# Почитаем рейтинг RICE\n",
    "hypotheses['rice'] = hypotheses.apply(lambda x: \n",
    "                                      x['impact'] * x['confidence'] * x['reach'] / x['effort'],\n",
    "                                      axis=1)\n",
    "hypotheses = hypotheses.sort_values(by='rice', ascending = False).reset_index(drop=True)"
   ]
  },
  {
   "cell_type": "code",
   "execution_count": 23,
   "metadata": {},
   "outputs": [],
   "source": [
    "# Расставим приоритеты\n",
    "hypotheses['priority_rice'] = (\n",
    "    hypotheses.apply(lambda x: hypotheses[hypotheses['hypothesis'] == x['hypothesis']].\n",
    "                     index.values[0],\n",
    "                     axis=1))\n",
    "hypotheses[['hypothesis','rice','priority_rice']]\n",
    "hypotheses['priority_rice'] = 9 - hypotheses['priority_rice']"
   ]
  },
  {
   "cell_type": "code",
   "execution_count": 24,
   "metadata": {},
   "outputs": [],
   "source": [
    "# Рассчитает на сколько позиций сменился приоритет\n",
    "hypotheses['shift'] = hypotheses.apply(lambda x: x['priority_rice'] - x['priority_ice'], axis=1)"
   ]
  },
  {
   "cell_type": "code",
   "execution_count": 25,
   "metadata": {},
   "outputs": [],
   "source": [
    "def color_negative_red(val):\n",
    "    color = 'red' \n",
    "    if val >= 0:\n",
    "        color = 'green'\n",
    "    return 'color: %s' % color"
   ]
  },
  {
   "cell_type": "code",
   "execution_count": 26,
   "metadata": {},
   "outputs": [
    {
     "data": {
      "text/html": [
       "<style  type=\"text/css\" >\n",
       "#T_b7a94_row0_col3,#T_b7a94_row1_col3,#T_b7a94_row3_col3,#T_b7a94_row5_col3,#T_b7a94_row8_col3{\n",
       "            color:  green;\n",
       "        }#T_b7a94_row2_col3,#T_b7a94_row4_col3,#T_b7a94_row6_col3,#T_b7a94_row7_col3{\n",
       "            color:  red;\n",
       "        }</style><table id=\"T_b7a94_\" ><thead>    <tr>        <th class=\"blank level0\" ></th>        <th class=\"col_heading level0 col0\" >hypothesis</th>        <th class=\"col_heading level0 col1\" >priority_rice</th>        <th class=\"col_heading level0 col2\" >priority_ice</th>        <th class=\"col_heading level0 col3\" >shift</th>    </tr></thead><tbody>\n",
       "                <tr>\n",
       "                        <th id=\"T_b7a94_level0_row0\" class=\"row_heading level0 row0\" >0</th>\n",
       "                        <td id=\"T_b7a94_row0_col0\" class=\"data row0 col0\" >Add a subscription form to all the main pages. This will help you compile a mailing list</td>\n",
       "                        <td id=\"T_b7a94_row0_col1\" class=\"data row0 col1\" >9</td>\n",
       "                        <td id=\"T_b7a94_row0_col2\" class=\"data row0 col2\" >7</td>\n",
       "                        <td id=\"T_b7a94_row0_col3\" class=\"data row0 col3\" >2</td>\n",
       "            </tr>\n",
       "            <tr>\n",
       "                        <th id=\"T_b7a94_level0_row1\" class=\"row_heading level0 row1\" >1</th>\n",
       "                        <td id=\"T_b7a94_row1_col0\" class=\"data row1 col0\" >Add product recommendation blocks to the store's site. This will increase conversion and average purchase size</td>\n",
       "                        <td id=\"T_b7a94_row1_col1\" class=\"data row1 col1\" >8</td>\n",
       "                        <td id=\"T_b7a94_row1_col2\" class=\"data row1 col2\" >5</td>\n",
       "                        <td id=\"T_b7a94_row1_col3\" class=\"data row1 col3\" >3</td>\n",
       "            </tr>\n",
       "            <tr>\n",
       "                        <th id=\"T_b7a94_level0_row2\" class=\"row_heading level0 row2\" >2</th>\n",
       "                        <td id=\"T_b7a94_row2_col0\" class=\"data row2 col0\" >Add two new channels for attracting traffic. This will bring 30% more users</td>\n",
       "                        <td id=\"T_b7a94_row2_col1\" class=\"data row2 col1\" >7</td>\n",
       "                        <td id=\"T_b7a94_row2_col2\" class=\"data row2 col2\" >8</td>\n",
       "                        <td id=\"T_b7a94_row2_col3\" class=\"data row2 col3\" >-1</td>\n",
       "            </tr>\n",
       "            <tr>\n",
       "                        <th id=\"T_b7a94_level0_row3\" class=\"row_heading level0 row3\" >3</th>\n",
       "                        <td id=\"T_b7a94_row3_col0\" class=\"data row3 col0\" >Show banners with current offers and sales on the main page. This will boost conversion</td>\n",
       "                        <td id=\"T_b7a94_row3_col1\" class=\"data row3 col1\" >6</td>\n",
       "                        <td id=\"T_b7a94_row3_col2\" class=\"data row3 col2\" >6</td>\n",
       "                        <td id=\"T_b7a94_row3_col3\" class=\"data row3 col3\" >0</td>\n",
       "            </tr>\n",
       "            <tr>\n",
       "                        <th id=\"T_b7a94_level0_row4\" class=\"row_heading level0 row4\" >4</th>\n",
       "                        <td id=\"T_b7a94_row4_col0\" class=\"data row4 col0\" >Launch a promotion that gives users discounts on their birthdays</td>\n",
       "                        <td id=\"T_b7a94_row4_col1\" class=\"data row4 col1\" >5</td>\n",
       "                        <td id=\"T_b7a94_row4_col2\" class=\"data row4 col2\" >9</td>\n",
       "                        <td id=\"T_b7a94_row4_col3\" class=\"data row4 col3\" >-4</td>\n",
       "            </tr>\n",
       "            <tr>\n",
       "                        <th id=\"T_b7a94_level0_row5\" class=\"row_heading level0 row5\" >5</th>\n",
       "                        <td id=\"T_b7a94_row5_col0\" class=\"data row5 col0\" >Change the category structure. This will increase conversion since users will find the products they want more quickly</td>\n",
       "                        <td id=\"T_b7a94_row5_col1\" class=\"data row5 col1\" >4</td>\n",
       "                        <td id=\"T_b7a94_row5_col2\" class=\"data row5 col2\" >2</td>\n",
       "                        <td id=\"T_b7a94_row5_col3\" class=\"data row5 col3\" >2</td>\n",
       "            </tr>\n",
       "            <tr>\n",
       "                        <th id=\"T_b7a94_level0_row6\" class=\"row_heading level0 row6\" >6</th>\n",
       "                        <td id=\"T_b7a94_row6_col0\" class=\"data row6 col0\" >Launch your own delivery service. This will shorten delivery time</td>\n",
       "                        <td id=\"T_b7a94_row6_col1\" class=\"data row6 col1\" >3</td>\n",
       "                        <td id=\"T_b7a94_row6_col2\" class=\"data row6 col2\" >4</td>\n",
       "                        <td id=\"T_b7a94_row6_col3\" class=\"data row6 col3\" >-1</td>\n",
       "            </tr>\n",
       "            <tr>\n",
       "                        <th id=\"T_b7a94_level0_row7\" class=\"row_heading level0 row7\" >7</th>\n",
       "                        <td id=\"T_b7a94_row7_col0\" class=\"data row7 col0\" >Add a customer review page. This will increase the number of orders</td>\n",
       "                        <td id=\"T_b7a94_row7_col1\" class=\"data row7 col1\" >2</td>\n",
       "                        <td id=\"T_b7a94_row7_col2\" class=\"data row7 col2\" >3</td>\n",
       "                        <td id=\"T_b7a94_row7_col3\" class=\"data row7 col3\" >-1</td>\n",
       "            </tr>\n",
       "            <tr>\n",
       "                        <th id=\"T_b7a94_level0_row8\" class=\"row_heading level0 row8\" >8</th>\n",
       "                        <td id=\"T_b7a94_row8_col0\" class=\"data row8 col0\" >Change the background color on the main page. This will increase user engagement</td>\n",
       "                        <td id=\"T_b7a94_row8_col1\" class=\"data row8 col1\" >1</td>\n",
       "                        <td id=\"T_b7a94_row8_col2\" class=\"data row8 col2\" >1</td>\n",
       "                        <td id=\"T_b7a94_row8_col3\" class=\"data row8 col3\" >0</td>\n",
       "            </tr>\n",
       "    </tbody></table>"
      ],
      "text/plain": [
       "<pandas.io.formats.style.Styler at 0x7fdc3530e9d0>"
      ]
     },
     "execution_count": 26,
     "metadata": {},
     "output_type": "execute_result"
    }
   ],
   "source": [
    "( \n",
    "    hypotheses[['hypothesis','priority_rice','priority_ice','shift']].\n",
    "    style.\n",
    "    applymap(color_negative_red, \n",
    "             subset=['shift'])\n",
    ")  "
   ]
  },
  {
   "cell_type": "markdown",
   "metadata": {},
   "source": [
    "##### Conclusion:<br />\n",
    "As we can see, when assigning a prioritization rating to RICE and ICE, hypotheses have different priorities. The \"shift\" column shows how many positions the priority changed when we prioritized using the RICE method. As we can see, the priority has increased for those hypotheses for which the potential audience reach (REACH) was higher. The more people our innovation affects, the more result we will get."
   ]
  },
  {
   "cell_type": "markdown",
   "metadata": {},
   "source": [
    "<div class=\"alert alert-success\" role=\"alert\">\n",
    "Reviewer's comment v. 2:\n",
    "    \n",
    "You correctly calculated ICE scores and identified the highest priority hypotheses. It will be nice to show RICE and ICE scores on the same plot. This makes it easier to analyze.\n",
    "</div>"
   ]
  },
  {
   "cell_type": "markdown",
   "metadata": {},
   "source": [
    "### 3. A/B Test Analysis<a name=\"a_b_test\"></a>"
   ]
  },
  {
   "cell_type": "markdown",
   "metadata": {},
   "source": [
    "#### 3.1 Graph cumulative revenue by group.<a name=\"cumulative_revenue\"></a>"
   ]
  },
  {
   "cell_type": "code",
   "execution_count": 27,
   "metadata": {},
   "outputs": [
    {
     "data": {
      "text/html": [
       "<div>\n",
       "<style scoped>\n",
       "    .dataframe tbody tr th:only-of-type {\n",
       "        vertical-align: middle;\n",
       "    }\n",
       "\n",
       "    .dataframe tbody tr th {\n",
       "        vertical-align: top;\n",
       "    }\n",
       "\n",
       "    .dataframe thead th {\n",
       "        text-align: right;\n",
       "    }\n",
       "</style>\n",
       "<table border=\"1\" class=\"dataframe\">\n",
       "  <thead>\n",
       "    <tr style=\"text-align: right;\">\n",
       "      <th></th>\n",
       "      <th>transactionId</th>\n",
       "      <th>visitorId</th>\n",
       "      <th>date</th>\n",
       "      <th>revenue</th>\n",
       "      <th>group</th>\n",
       "    </tr>\n",
       "  </thead>\n",
       "  <tbody>\n",
       "    <tr>\n",
       "      <th>0</th>\n",
       "      <td>3667963787</td>\n",
       "      <td>3312258926</td>\n",
       "      <td>2019-08-15</td>\n",
       "      <td>30.40</td>\n",
       "      <td>B</td>\n",
       "    </tr>\n",
       "    <tr>\n",
       "      <th>1</th>\n",
       "      <td>2804400009</td>\n",
       "      <td>3642806036</td>\n",
       "      <td>2019-08-15</td>\n",
       "      <td>15.20</td>\n",
       "      <td>B</td>\n",
       "    </tr>\n",
       "    <tr>\n",
       "      <th>3</th>\n",
       "      <td>3797467345</td>\n",
       "      <td>1196621759</td>\n",
       "      <td>2019-08-15</td>\n",
       "      <td>155.10</td>\n",
       "      <td>B</td>\n",
       "    </tr>\n",
       "    <tr>\n",
       "      <th>4</th>\n",
       "      <td>2282983706</td>\n",
       "      <td>2322279887</td>\n",
       "      <td>2019-08-15</td>\n",
       "      <td>40.50</td>\n",
       "      <td>B</td>\n",
       "    </tr>\n",
       "    <tr>\n",
       "      <th>5</th>\n",
       "      <td>182168103</td>\n",
       "      <td>935554773</td>\n",
       "      <td>2019-08-15</td>\n",
       "      <td>35.00</td>\n",
       "      <td>B</td>\n",
       "    </tr>\n",
       "  </tbody>\n",
       "</table>\n",
       "</div>"
      ],
      "text/plain": [
       "   transactionId   visitorId       date  revenue group\n",
       "0     3667963787  3312258926 2019-08-15    30.40     B\n",
       "1     2804400009  3642806036 2019-08-15    15.20     B\n",
       "3     3797467345  1196621759 2019-08-15   155.10     B\n",
       "4     2282983706  2322279887 2019-08-15    40.50     B\n",
       "5      182168103   935554773 2019-08-15    35.00     B"
      ]
     },
     "execution_count": 27,
     "metadata": {},
     "output_type": "execute_result"
    }
   ],
   "source": [
    "orders_filtred[:5]"
   ]
  },
  {
   "cell_type": "code",
   "execution_count": 28,
   "metadata": {},
   "outputs": [
    {
     "data": {
      "text/html": [
       "<div>\n",
       "<style scoped>\n",
       "    .dataframe tbody tr th:only-of-type {\n",
       "        vertical-align: middle;\n",
       "    }\n",
       "\n",
       "    .dataframe tbody tr th {\n",
       "        vertical-align: top;\n",
       "    }\n",
       "\n",
       "    .dataframe thead th {\n",
       "        text-align: right;\n",
       "    }\n",
       "</style>\n",
       "<table border=\"1\" class=\"dataframe\">\n",
       "  <thead>\n",
       "    <tr style=\"text-align: right;\">\n",
       "      <th></th>\n",
       "      <th>date</th>\n",
       "      <th>group</th>\n",
       "    </tr>\n",
       "  </thead>\n",
       "  <tbody>\n",
       "    <tr>\n",
       "      <th>103</th>\n",
       "      <td>2019-08-01</td>\n",
       "      <td>B</td>\n",
       "    </tr>\n",
       "    <tr>\n",
       "      <th>147</th>\n",
       "      <td>2019-08-01</td>\n",
       "      <td>A</td>\n",
       "    </tr>\n",
       "    <tr>\n",
       "      <th>209</th>\n",
       "      <td>2019-08-02</td>\n",
       "      <td>A</td>\n",
       "    </tr>\n",
       "    <tr>\n",
       "      <th>210</th>\n",
       "      <td>2019-08-02</td>\n",
       "      <td>B</td>\n",
       "    </tr>\n",
       "    <tr>\n",
       "      <th>344</th>\n",
       "      <td>2019-08-03</td>\n",
       "      <td>A</td>\n",
       "    </tr>\n",
       "  </tbody>\n",
       "</table>\n",
       "</div>"
      ],
      "text/plain": [
       "          date group\n",
       "103 2019-08-01     B\n",
       "147 2019-08-01     A\n",
       "209 2019-08-02     A\n",
       "210 2019-08-02     B\n",
       "344 2019-08-03     A"
      ]
     },
     "execution_count": 28,
     "metadata": {},
     "output_type": "execute_result"
    }
   ],
   "source": [
    "dateGroup = orders_filtred[['date','group']].sort_values(by = 'date').drop_duplicates()\n",
    "dateGroup[:5]"
   ]
  },
  {
   "cell_type": "code",
   "execution_count": 29,
   "metadata": {},
   "outputs": [
    {
     "data": {
      "text/html": [
       "<div>\n",
       "<style scoped>\n",
       "    .dataframe tbody tr th:only-of-type {\n",
       "        vertical-align: middle;\n",
       "    }\n",
       "\n",
       "    .dataframe tbody tr th {\n",
       "        vertical-align: top;\n",
       "    }\n",
       "\n",
       "    .dataframe thead th {\n",
       "        text-align: right;\n",
       "    }\n",
       "</style>\n",
       "<table border=\"1\" class=\"dataframe\">\n",
       "  <thead>\n",
       "    <tr style=\"text-align: right;\">\n",
       "      <th></th>\n",
       "      <th>date</th>\n",
       "      <th>group</th>\n",
       "      <th>revenue</th>\n",
       "    </tr>\n",
       "  </thead>\n",
       "  <tbody>\n",
       "    <tr>\n",
       "      <th>103</th>\n",
       "      <td>2019-08-01</td>\n",
       "      <td>B</td>\n",
       "      <td>967.20</td>\n",
       "    </tr>\n",
       "    <tr>\n",
       "      <th>147</th>\n",
       "      <td>2019-08-01</td>\n",
       "      <td>A</td>\n",
       "      <td>2266.60</td>\n",
       "    </tr>\n",
       "    <tr>\n",
       "      <th>209</th>\n",
       "      <td>2019-08-02</td>\n",
       "      <td>A</td>\n",
       "      <td>3734.90</td>\n",
       "    </tr>\n",
       "    <tr>\n",
       "      <th>210</th>\n",
       "      <td>2019-08-02</td>\n",
       "      <td>B</td>\n",
       "      <td>3535.30</td>\n",
       "    </tr>\n",
       "    <tr>\n",
       "      <th>344</th>\n",
       "      <td>2019-08-03</td>\n",
       "      <td>A</td>\n",
       "      <td>5550.10</td>\n",
       "    </tr>\n",
       "    <tr>\n",
       "      <th>442</th>\n",
       "      <td>2019-08-03</td>\n",
       "      <td>B</td>\n",
       "      <td>4606.90</td>\n",
       "    </tr>\n",
       "  </tbody>\n",
       "</table>\n",
       "</div>"
      ],
      "text/plain": [
       "          date group  revenue\n",
       "103 2019-08-01     B   967.20\n",
       "147 2019-08-01     A  2266.60\n",
       "209 2019-08-02     A  3734.90\n",
       "210 2019-08-02     B  3535.30\n",
       "344 2019-08-03     A  5550.10\n",
       "442 2019-08-03     B  4606.90"
      ]
     },
     "execution_count": 29,
     "metadata": {},
     "output_type": "execute_result"
    }
   ],
   "source": [
    "dateGroup['revenue'] = ( \n",
    "    dateGroup.\n",
    "    apply(lambda x: orders_filtred[np.logical_and(orders_filtred['date'] <= x['date'],\n",
    "                                                  orders_filtred['group'] == x['group'])]['revenue'].sum(),\n",
    "          axis = 1)\n",
    ")                            \n",
    "dateGroup[:6] "
   ]
  },
  {
   "cell_type": "code",
   "execution_count": null,
   "metadata": {},
   "outputs": [],
   "source": []
  },
  {
   "cell_type": "code",
   "execution_count": 30,
   "metadata": {},
   "outputs": [
    {
     "data": {
      "image/png": "[encoded data removed]",
      "text/plain": [
       "<Figure size 1080x432 with 1 Axes>"
      ]
     },
     "metadata": {},
     "output_type": "display_data"
    }
   ],
   "source": [
    "cumulativeRevenue_A = dateGroup[dateGroup['group'] == 'A']\n",
    "cumulativeRevenue_B = dateGroup[dateGroup['group'] == 'B']\n",
    "\n",
    "fig, ax = plt.subplots(figsize=(15, 6))\n",
    "plt.plot(cumulativeRevenue_A['date'],cumulativeRevenue_A['revenue'], \n",
    "         label = 'Group A', color = 'royalblue',linewidth=4.0) #darkgreen cornflowerblue\n",
    "plt.plot(cumulativeRevenue_B['date'],cumulativeRevenue_B['revenue'], \n",
    "         label = 'Group B', color = 'darkorange',linewidth=4.0) #orange darkorange\n",
    "ax.set_xlabel('Date', fontsize=14)\n",
    "ax.set_ylabel('Cumulative revenue', fontsize=14)\n",
    "ax.set_title('Cumulative revenue by group', fontsize=24)\n",
    "fig.patch.set_facecolor('xkcd:mint green')\n",
    "plt.legend()\n",
    "\n",
    "plt.show()"
   ]
  },
  {
   "cell_type": "markdown",
   "metadata": {},
   "source": [
    "##### Conclusion:<br />\n",
    "Revenue is rising steadily throughout the whole test. That's a good sign.<br />\n",
    "The cumulative revenue in group B is higher than in group A from the very beginning of testing. The charts have a similar trend, however, in Group B, there was an abnormal jump in revenue on 08/19/2019. In the next part, we will find out whether it is an anomaly or not."
   ]
  },
  {
   "cell_type": "markdown",
   "metadata": {},
   "source": [
    "<div class=\"alert alert-success\" role=\"alert\">\n",
    "Reviewer's comment v. 2:\n",
    "    \n",
    "During 17-18 of August we have increase of cumulative revenue for group B. Could you please explain it? (What is the possible reason of it)?\n",
    "</div>"
   ]
  },
  {
   "cell_type": "markdown",
   "metadata": {},
   "source": [
    "#### 3.2 Graph cumulative average order size by group.<a name=\"cumulative_average_order_size\"></a>"
   ]
  },
  {
   "cell_type": "code",
   "execution_count": 31,
   "metadata": {},
   "outputs": [
    {
     "data": {
      "text/html": [
       "<div>\n",
       "<style scoped>\n",
       "    .dataframe tbody tr th:only-of-type {\n",
       "        vertical-align: middle;\n",
       "    }\n",
       "\n",
       "    .dataframe tbody tr th {\n",
       "        vertical-align: top;\n",
       "    }\n",
       "\n",
       "    .dataframe thead th {\n",
       "        text-align: right;\n",
       "    }\n",
       "</style>\n",
       "<table border=\"1\" class=\"dataframe\">\n",
       "  <thead>\n",
       "    <tr style=\"text-align: right;\">\n",
       "      <th></th>\n",
       "      <th>date</th>\n",
       "      <th>group</th>\n",
       "      <th>revenue</th>\n",
       "      <th>n_orders</th>\n",
       "    </tr>\n",
       "  </thead>\n",
       "  <tbody>\n",
       "    <tr>\n",
       "      <th>103</th>\n",
       "      <td>2019-08-01</td>\n",
       "      <td>B</td>\n",
       "      <td>967.20</td>\n",
       "      <td>17</td>\n",
       "    </tr>\n",
       "    <tr>\n",
       "      <th>147</th>\n",
       "      <td>2019-08-01</td>\n",
       "      <td>A</td>\n",
       "      <td>2266.60</td>\n",
       "      <td>23</td>\n",
       "    </tr>\n",
       "    <tr>\n",
       "      <th>209</th>\n",
       "      <td>2019-08-02</td>\n",
       "      <td>A</td>\n",
       "      <td>3734.90</td>\n",
       "      <td>42</td>\n",
       "    </tr>\n",
       "    <tr>\n",
       "      <th>210</th>\n",
       "      <td>2019-08-02</td>\n",
       "      <td>B</td>\n",
       "      <td>3535.30</td>\n",
       "      <td>40</td>\n",
       "    </tr>\n",
       "    <tr>\n",
       "      <th>344</th>\n",
       "      <td>2019-08-03</td>\n",
       "      <td>A</td>\n",
       "      <td>5550.10</td>\n",
       "      <td>66</td>\n",
       "    </tr>\n",
       "    <tr>\n",
       "      <th>442</th>\n",
       "      <td>2019-08-03</td>\n",
       "      <td>B</td>\n",
       "      <td>4606.90</td>\n",
       "      <td>54</td>\n",
       "    </tr>\n",
       "  </tbody>\n",
       "</table>\n",
       "</div>"
      ],
      "text/plain": [
       "          date group  revenue  n_orders\n",
       "103 2019-08-01     B   967.20        17\n",
       "147 2019-08-01     A  2266.60        23\n",
       "209 2019-08-02     A  3734.90        42\n",
       "210 2019-08-02     B  3535.30        40\n",
       "344 2019-08-03     A  5550.10        66\n",
       "442 2019-08-03     B  4606.90        54"
      ]
     },
     "execution_count": 31,
     "metadata": {},
     "output_type": "execute_result"
    }
   ],
   "source": [
    "#Let's calculate the number of orders per day. (cumulative)\n",
    "dateGroup['n_orders'] = ( \n",
    "    dateGroup.\n",
    "    apply(lambda x: orders_filtred[np.logical_and(orders_filtred['date'] <= x['date'],\n",
    "                                                  orders_filtred['group'] == x['group'])]\n",
    "          ['transactionId'].count(),\n",
    "          axis = 1)\n",
    ")                            \n",
    "dateGroup[:6] "
   ]
  },
  {
   "cell_type": "code",
   "execution_count": 32,
   "metadata": {},
   "outputs": [],
   "source": [
    "dateGroup['avg_order_size'] = (\n",
    "    dateGroup.apply(lambda x: x['revenue'] / x['n_orders'] , axis = 1)\n",
    ")\n",
    "cumulativeAvgOrdersSize_A = dateGroup[dateGroup['group'] == 'A']\n",
    "cumulativeAvgOrdersSize_B = dateGroup[dateGroup['group'] == 'B']"
   ]
  },
  {
   "cell_type": "code",
   "execution_count": 33,
   "metadata": {},
   "outputs": [
    {
     "data": {
      "image/png": "[encoded data removed]",
      "text/plain": [
       "<Figure size 1080x432 with 1 Axes>"
      ]
     },
     "metadata": {},
     "output_type": "display_data"
    }
   ],
   "source": [
    "fig, ax = plt.subplots(figsize=(15, 6))\n",
    "plt.plot(cumulativeAvgOrdersSize_A['date'], cumulativeAvgOrdersSize_A['avg_order_size'], \n",
    "         label = 'Group A', color = 'royalblue', linewidth=4.0) #darkgreen cornflowerblue\n",
    "plt.plot(cumulativeAvgOrdersSize_B['date'], cumulativeAvgOrdersSize_B['avg_order_size'], \n",
    "         label = 'Group B', color = 'darkorange',linewidth=4.0) #orange darkorange\n",
    "ax.set_xlabel('Date', fontsize=14)\n",
    "ax.set_ylabel('Cumulative average order size', fontsize=14)\n",
    "ax.set_title('Cumulative average order size by group', fontsize=24)\n",
    "fig.patch.set_facecolor('xkcd:mint green')\n",
    "plt.legend()\n",
    "\n",
    "plt.show()"
   ]
  },
  {
   "cell_type": "markdown",
   "metadata": {},
   "source": [
    "##### Conclusion:<br />\n",
    "\n",
    "Average purchase size becomes steady by the end of the test, too: it stabilizes for group A and keeps on falling for group B. The surge in group B 18.08.2019 may have been due to the presence of large, expensive orders. We need more data on this group to find the true average purchase size and establish its level.<br /><br />\n",
    "As we can see, the average purchase price in Group B is higher, but the trend is downtrend and it is not clear from the available data whether the average order price in Group B will fall below Group A."
   ]
  },
  {
   "cell_type": "markdown",
   "metadata": {},
   "source": [
    "<div class=\"alert alert-success\" role=\"alert\">\n",
    "Reviewer's comment v. 2:\n",
    "    \n",
    "It's great that you analyzed the graph in details.\n",
    "</div>"
   ]
  },
  {
   "cell_type": "markdown",
   "metadata": {},
   "source": [
    "#### 3.3 Graph the relative difference in cumulative average order size for group B compared with group A.<a name=\"relative_average_order_size\"></a>"
   ]
  },
  {
   "cell_type": "code",
   "execution_count": 34,
   "metadata": {},
   "outputs": [],
   "source": [
    "mergedCumulativeAvgOrdersSize = ( \n",
    "    cumulativeAvgOrdersSize_A[['date','avg_order_size']].\n",
    "    merge(cumulativeAvgOrdersSize_B[['date','avg_order_size']], \n",
    "          on='date',\n",
    "          suffixes=['A', 'B'])\n",
    ")\n",
    "mergedCumulativeAvgOrdersSize['relative_difference_avg_order_size'] = (\n",
    "    mergedCumulativeAvgOrdersSize.\n",
    "    apply(lambda x: (x['avg_order_sizeB'] / x['avg_order_sizeA']) - 1,\n",
    "          axis = 1)\n",
    ")"
   ]
  },
  {
   "cell_type": "code",
   "execution_count": 35,
   "metadata": {},
   "outputs": [
    {
     "data": {
      "image/png": "[encoded data removed]",
      "text/plain": [
       "<Figure size 1080x432 with 1 Axes>"
      ]
     },
     "metadata": {},
     "output_type": "display_data"
    }
   ],
   "source": [
    "# plotting a relative difference graph for the average purchase sizes\n",
    "fig, ax = plt.subplots(figsize=(15, 6))\n",
    "plt.plot(mergedCumulativeAvgOrdersSize['date'], \n",
    "         mergedCumulativeAvgOrdersSize['relative_difference_avg_order_size'], \n",
    "         label = 'Relative difference B/A', color = 'royalblue', linewidth=4.0) #darkgreen cornflowerblue\n",
    "ax.set_xlabel('Date', fontsize=14)\n",
    "ax.set_ylabel('%', fontsize=14)\n",
    "ax.set_title('The relative difference for average purchase sizes (B/A)', fontsize=24)\n",
    "fig.patch.set_facecolor('xkcd:mint green')\n",
    "plt.axhline(y=0, color='darkorange', linestyle='--') \n",
    "plt.legend()\n",
    "\n",
    "plt.show()"
   ]
  },
  {
   "cell_type": "markdown",
   "metadata": {},
   "source": [
    "##### Conclusion: <br />\n",
    "The chart has sharp reversals, which means that there are abnormally large orders in both groups. The trend of the chart is downtrend and we do not have enough data to make an unambiguous conclusion regarding the relative difference between the average order size."
   ]
  },
  {
   "cell_type": "markdown",
   "metadata": {},
   "source": [
    "#### 3.4 Calculate each group's conversion rate as the ratio of orders to the number of visits for each day. <a name=\"conversion_rate\"></a>"
   ]
  },
  {
   "cell_type": "code",
   "execution_count": 36,
   "metadata": {},
   "outputs": [
    {
     "data": {
      "text/html": [
       "<div>\n",
       "<style scoped>\n",
       "    .dataframe tbody tr th:only-of-type {\n",
       "        vertical-align: middle;\n",
       "    }\n",
       "\n",
       "    .dataframe tbody tr th {\n",
       "        vertical-align: top;\n",
       "    }\n",
       "\n",
       "    .dataframe thead th {\n",
       "        text-align: right;\n",
       "    }\n",
       "</style>\n",
       "<table border=\"1\" class=\"dataframe\">\n",
       "  <thead>\n",
       "    <tr style=\"text-align: right;\">\n",
       "      <th></th>\n",
       "      <th>date</th>\n",
       "      <th>group</th>\n",
       "      <th>revenue</th>\n",
       "      <th>n_orders</th>\n",
       "      <th>avg_order_size</th>\n",
       "      <th>n_visiters</th>\n",
       "    </tr>\n",
       "  </thead>\n",
       "  <tbody>\n",
       "    <tr>\n",
       "      <th>103</th>\n",
       "      <td>2019-08-01</td>\n",
       "      <td>B</td>\n",
       "      <td>967.20</td>\n",
       "      <td>17</td>\n",
       "      <td>56.89</td>\n",
       "      <td>709</td>\n",
       "    </tr>\n",
       "    <tr>\n",
       "      <th>147</th>\n",
       "      <td>2019-08-01</td>\n",
       "      <td>A</td>\n",
       "      <td>2266.60</td>\n",
       "      <td>23</td>\n",
       "      <td>98.55</td>\n",
       "      <td>718</td>\n",
       "    </tr>\n",
       "    <tr>\n",
       "      <th>209</th>\n",
       "      <td>2019-08-02</td>\n",
       "      <td>A</td>\n",
       "      <td>3734.90</td>\n",
       "      <td>42</td>\n",
       "      <td>88.93</td>\n",
       "      <td>1336</td>\n",
       "    </tr>\n",
       "    <tr>\n",
       "      <th>210</th>\n",
       "      <td>2019-08-02</td>\n",
       "      <td>B</td>\n",
       "      <td>3535.30</td>\n",
       "      <td>40</td>\n",
       "      <td>88.38</td>\n",
       "      <td>1289</td>\n",
       "    </tr>\n",
       "    <tr>\n",
       "      <th>344</th>\n",
       "      <td>2019-08-03</td>\n",
       "      <td>A</td>\n",
       "      <td>5550.10</td>\n",
       "      <td>66</td>\n",
       "      <td>84.09</td>\n",
       "      <td>1843</td>\n",
       "    </tr>\n",
       "    <tr>\n",
       "      <th>442</th>\n",
       "      <td>2019-08-03</td>\n",
       "      <td>B</td>\n",
       "      <td>4606.90</td>\n",
       "      <td>54</td>\n",
       "      <td>85.31</td>\n",
       "      <td>1796</td>\n",
       "    </tr>\n",
       "  </tbody>\n",
       "</table>\n",
       "</div>"
      ],
      "text/plain": [
       "          date group  revenue  n_orders  avg_order_size  n_visiters\n",
       "103 2019-08-01     B   967.20        17           56.89         709\n",
       "147 2019-08-01     A  2266.60        23           98.55         718\n",
       "209 2019-08-02     A  3734.90        42           88.93        1336\n",
       "210 2019-08-02     B  3535.30        40           88.38        1289\n",
       "344 2019-08-03     A  5550.10        66           84.09        1843\n",
       "442 2019-08-03     B  4606.90        54           85.31        1796"
      ]
     },
     "execution_count": 36,
     "metadata": {},
     "output_type": "execute_result"
    }
   ],
   "source": [
    "#Let's calculate the number of visiters per day. (cumulative)\n",
    "dateGroup['n_visiters'] = ( \n",
    "    dateGroup.\n",
    "    apply(lambda x: visits_filtred[np.logical_and(visits_filtred['date'] <= x['date'],\n",
    "                                                  visits_filtred['group'] == x['group'])]\n",
    "          ['visits'].sum(),\n",
    "          axis = 1)\n",
    ")   \n",
    "dateGroup[:6]"
   ]
  },
  {
   "cell_type": "code",
   "execution_count": 37,
   "metadata": {},
   "outputs": [],
   "source": [
    "dateGroup['conversion_rate'] = (\n",
    "    dateGroup.\n",
    "    apply(lambda x: (x['n_orders'] / x['n_visiters']),\n",
    "          axis = 1)\n",
    ")\n",
    "conversion_rate_A = dateGroup[dateGroup['group'] == 'A']\n",
    "conversion_rate_B = dateGroup[dateGroup['group'] == 'B']"
   ]
  },
  {
   "cell_type": "code",
   "execution_count": 38,
   "metadata": {},
   "outputs": [
    {
     "data": {
      "image/png": "[encoded data removed]",
      "text/plain": [
       "<Figure size 1080x432 with 1 Axes>"
      ]
     },
     "metadata": {},
     "output_type": "display_data"
    }
   ],
   "source": [
    "fig, ax = plt.subplots(figsize=(15, 6))\n",
    "plt.plot(conversion_rate_A['date'], conversion_rate_A['conversion_rate'], \n",
    "         label = 'Group A', color = 'royalblue', linewidth=4.0) #darkgreen cornflowerblue\n",
    "plt.plot(conversion_rate_B['date'], conversion_rate_B['conversion_rate'], \n",
    "         label = 'Group B', color = 'darkorange',linewidth=4.0) #orange darkorange\n",
    "ax.set_xlabel('Date', fontsize=14)\n",
    "ax.set_ylabel('Conversion rate', fontsize=14)\n",
    "ax.set_title('Conversion rate by group', fontsize=24)\n",
    "fig.patch.set_facecolor('xkcd:mint green')\n",
    "plt.legend()\n",
    "\n",
    "plt.show()"
   ]
  },
  {
   "cell_type": "markdown",
   "metadata": {},
   "source": [
    "##### Conclusion: <br />\n",
    "As we can see, the conversion in group B is higher. By the end of the period, the conversion charts have stabilized."
   ]
  },
  {
   "cell_type": "markdown",
   "metadata": {},
   "source": [
    "<div class=\"alert alert-success\" role=\"alert\">\n",
    "Reviewer's comment v. 2:\n",
    "    \n",
    "Yes, the conversion rate is stabilized by the end of the test.\n",
    "</div>"
   ]
  },
  {
   "cell_type": "markdown",
   "metadata": {},
   "source": [
    "#### 3.5 Plot a scatter chart of the number of orders per user.<a name=\"scatter_number_orders\"></a>"
   ]
  },
  {
   "cell_type": "code",
   "execution_count": 39,
   "metadata": {},
   "outputs": [
    {
     "name": "stdout",
     "output_type": "stream",
     "text": [
      "96.30% of customers make only one order\n"
     ]
    }
   ],
   "source": [
    "number_orders_per_buyer = orders_filtred.groupby('visitorId').agg({'transactionId':'nunique'})\n",
    "number_orders_per_buyer = ( \n",
    "    number_orders_per_buyer.rename(columns = {'transactionId':'count_orders'})\n",
    ")\n",
    "# calculate number of customers with one order\n",
    "share_one_order = (\n",
    "    len(number_orders_per_buyer[number_orders_per_buyer['count_orders'] == 1])\n",
    "    /\n",
    "    len(number_orders_per_buyer)\n",
    ")\n",
    "print('{:.2%} of customers make only one order'.format(share_one_order))"
   ]
  },
  {
   "cell_type": "code",
   "execution_count": 40,
   "metadata": {},
   "outputs": [
    {
     "data": {
      "image/png": "[encoded data removed]",
      "text/plain": [
       "<Figure size 1080x432 with 1 Axes>"
      ]
     },
     "metadata": {},
     "output_type": "display_data"
    }
   ],
   "source": [
    "fig, ax = plt.subplots(figsize=(15, 6))\n",
    "plt.hist(number_orders_per_buyer['count_orders'], color = 'royalblue') \n",
    "ax.set_xlabel('Number orders', fontsize=14)\n",
    "ax.set_ylabel('Number users', fontsize=14)\n",
    "ax.set_title('Number of orders per user', fontsize=24)\n",
    "fig.patch.set_facecolor('xkcd:mint green')\n",
    "\n",
    "plt.show()"
   ]
  },
  {
   "cell_type": "code",
   "execution_count": 41,
   "metadata": {},
   "outputs": [
    {
     "data": {
      "image/png": "[encoded data removed]",
      "text/plain": [
       "<Figure size 1080x432 with 1 Axes>"
      ]
     },
     "metadata": {},
     "output_type": "display_data"
    }
   ],
   "source": [
    "x_values = pd.Series(range(0,len(number_orders_per_buyer)))\n",
    "\n",
    "fig, ax = plt.subplots(figsize=(15, 6))\n",
    "plt.scatter(x_values, number_orders_per_buyer['count_orders'], color = 'royalblue') \n",
    "ax.set_xlabel('Users', fontsize=14)\n",
    "ax.set_ylabel('Number orders', fontsize=14)\n",
    "ax.set_title('Number of orders per user', fontsize=24)\n",
    "fig.patch.set_facecolor('xkcd:mint green')\n",
    "\n",
    "plt.show()"
   ]
  },
  {
   "cell_type": "markdown",
   "metadata": {},
   "source": [
    "##### Conclusion: <br />\n",
    "As you can see from both graphs, the majority of customers, **96.3%**, make only one order. It is impossible to say unambiguously whether it is a lot or a little. If our store sells foods, then this is a very low rate, as people buy foods much more often than once a month. If our store sells furniture, then you should not expect that customers are interested in our products very often. For each industry, the number of orders per customer per month will be different."
   ]
  },
  {
   "cell_type": "markdown",
   "metadata": {},
   "source": [
    "<div class=\"alert alert-success\" role=\"alert\">\n",
    "Reviewer's comment v. 2:\n",
    "    \n",
    "Yes, well done that you noted that the number of orders per customer per month will be different for different industry.\n",
    "</div>"
   ]
  },
  {
   "cell_type": "markdown",
   "metadata": {},
   "source": [
    "#### 3.6 Calculate the 95th and 99th percentiles for the number of orders per user.<a name=\"percentiles_number_orders\"></a>"
   ]
  },
  {
   "cell_type": "code",
   "execution_count": 42,
   "metadata": {},
   "outputs": [
    {
     "name": "stdout",
     "output_type": "stream",
     "text": [
      "Not more than 5% of users placed more than 1.0 orders\n",
      "Not more than 1% of users placed more than 2.0 orders\n"
     ]
    }
   ],
   "source": [
    "percentile_dict = [95, 99]\n",
    "percentile = np.percentile(number_orders_per_buyer['count_orders'], percentile_dict)\n",
    "\n",
    "print('Not more than {:}% of users placed more than {:.1f} orders'.\n",
    "      format(100 - percentile_dict[0],percentile[0]))\n",
    "print('Not more than {:}% of users placed more than {:.1f} orders'.\n",
    "      format(100 - percentile_dict[1],percentile[1]))"
   ]
  },
  {
   "cell_type": "markdown",
   "metadata": {},
   "source": [
    "Generally, the most extreme 1-5% of observed values are filtered out.<br />\n",
    "Thus, it would be right to set **one** order per user as the lower limit for the number of orders and to filter anomalies on that basis. "
   ]
  },
  {
   "cell_type": "markdown",
   "metadata": {},
   "source": [
    "<div class=\"alert alert-success\" role=\"alert\">\n",
    "Reviewer's comment v. 1:\n",
    "    \n",
    "Yes, the anomaly point in number of transactions per user is correctly defined.\n",
    "</div>"
   ]
  },
  {
   "cell_type": "markdown",
   "metadata": {},
   "source": [
    "#### 3.7 Plot a scatter chart of order prices.<a name=\"scatter_order_prices\"></a>"
   ]
  },
  {
   "cell_type": "code",
   "execution_count": 43,
   "metadata": {},
   "outputs": [
    {
     "data": {
      "image/png": "[encoded data removed]",
      "text/plain": [
       "<Figure size 1080x432 with 2 Axes>"
      ]
     },
     "metadata": {},
     "output_type": "display_data"
    }
   ],
   "source": [
    "x_values = pd.Series(range(0,len(orders_filtred)))\n",
    "\n",
    "fig, ax = plt.subplots(figsize=(15, 6))\n",
    "fig.patch.set_facecolor('xkcd:mint green')\n",
    "ax1 = plt.subplot(121)\n",
    "res = plt.scatter(x_values, orders_filtred['revenue'], color = 'royalblue') \n",
    "ax1.set_ylabel('Price', fontsize=14)       \n",
    "ax1.set_xlabel('Orders', fontsize=14)\n",
    "ax1.set_title('All orders', fontsize=18)\n",
    "    \n",
    "ax2 = plt.subplot(122)\n",
    "res = plt.scatter(x_values, orders_filtred['revenue'], color = 'royalblue') \n",
    "\n",
    "ax2.set_ylabel('')  \n",
    "ax2.set_xlabel('Orders', fontsize=14)\n",
    "ax2.set_title('Price ∈ [0..2000]', fontsize=18)\n",
    "ax2.set_ylim([0, 2000])\n",
    "plt.show()"
   ]
  },
  {
   "cell_type": "markdown",
   "metadata": {},
   "source": [
    "##### Conclusion: <br />\n",
    "Just as we expected, there are several big orders.<br />\n",
    "The majority of customers place orders up to $ 500. In the next part, we will learn the cutoff threshold.\n"
   ]
  },
  {
   "cell_type": "markdown",
   "metadata": {},
   "source": [
    "#### 3.8 Calculate the 95th and 99th percentiles of order prices. <a name=\"percentiles_order_prices\"></a>"
   ]
  },
  {
   "cell_type": "code",
   "execution_count": 44,
   "metadata": {},
   "outputs": [
    {
     "name": "stdout",
     "output_type": "stream",
     "text": [
      "Not more than 5% of users placed orders over 414.3 dollars\n",
      "Not more than 1% of users placed orders over 830.3 dollars\n"
     ]
    }
   ],
   "source": [
    "percentile = np.percentile(orders_filtred['revenue'], percentile_dict)\n",
    "print('Not more than {:}% of users placed orders over {:.1f} dollars'.format(100 - percentile_dict[0],percentile[0]))\n",
    "print('Not more than {:}% of users placed orders over {:.1f} dollars'.format(100 - percentile_dict[1],percentile[1]))"
   ]
  },
  {
   "cell_type": "markdown",
   "metadata": {},
   "source": [
    "##### Conclusion: <br />\n",
    "Generally, the most extreme 1-5% of observed values are filtered out.<br />\n",
    "Thus, it would be right to set 500 dollars per order as the higher limit and to filter anomalies on that basis."
   ]
  },
  {
   "cell_type": "markdown",
   "metadata": {},
   "source": [
    "#### 3.9 Find the statistical significance of the difference in conversion between the groups using the raw data. <a name=\"statistical_significance_conversion\"></a>"
   ]
  },
  {
   "cell_type": "markdown",
   "metadata": {},
   "source": [
    "<div class=\"alert alert-danger\" role=\"alert\">\n",
    "Reviewer's comment v. 1:\n",
    "    \n",
    "Please formulate the null and alternative hypotheses explicitly. Please note that this applies to all other statistical tests too.\n",
    "</div>"
   ]
  },
  {
   "cell_type": "markdown",
   "metadata": {},
   "source": [
    "<div class=\"alert alert-info\">\n",
    "Hypothesis Null: There's no difference in conversion between the groups.<br />\n",
    "Hypothesis alternative: There's a difference in conversion between the groups.\n",
    "<br /><br />\n",
    "In this case: Hypothesis on the Equality of Two Population Means.\n",
    "\n",
    "Each sample has more than 50 records, which means the samples are large enough to test hypotheses.\n",
    "\n",
    "Set alpha = 0.05, since we are evaluating a hypothesis for a business problem.\n",
    "<br /><br />\n",
    "To test hypotheses, we use the Mann-Whitney method.\n",
    "</div>"
   ]
  },
  {
   "cell_type": "markdown",
   "metadata": {},
   "source": [
    "<div class=\"alert alert-success\" role=\"alert\">\n",
    "Reviewer's comment v. 2:\n",
    "    \n",
    "It's great that you formulated the null and alternative hypotheses explicitly.\n",
    "</div>"
   ]
  },
  {
   "cell_type": "code",
   "execution_count": 45,
   "metadata": {},
   "outputs": [],
   "source": [
    "#orders_filtred - table from which duplicates were removed in the first part of the project\n",
    "# counting the number of buyers and the number of orders\n",
    "ordersByUsers_A = ( \n",
    "    orders_filtred[orders_filtred['group'] == 'A'].\n",
    "    groupby('visitorId').\n",
    "    agg({'transactionId':'nunique'})\n",
    ")\n",
    "\n",
    "ordersByUsers_B = ( \n",
    "    orders_filtred[orders_filtred['group'] == 'B'].\n",
    "    groupby('visitorId').\n",
    "    agg({'transactionId':'nunique'})\n",
    ")\n",
    "\n",
    "ordersByUsers_A = ordersByUsers_A.rename(columns = {'transactionId':'orders'})\n",
    "ordersByUsers_B = ordersByUsers_B.rename(columns = {'transactionId':'orders'})"
   ]
  },
  {
   "cell_type": "code",
   "execution_count": 46,
   "metadata": {},
   "outputs": [],
   "source": [
    "#Creating a table for conversion analysis\n",
    "sampleA = (\n",
    "    pd.concat([ordersByUsers_A['orders'],\n",
    "               pd.Series(0, \n",
    "                         index = np.arange(visits_filtred[visits_filtred['group'] == 'A']\n",
    "                                           ['visits']\n",
    "                                           .sum() \n",
    "                                           -\n",
    "                                           len(ordersByUsers_A['orders'])),\n",
    "                         name = 'orders')],\n",
    "              axis=0)\n",
    ")\n",
    "sampleB = (\n",
    "    pd.concat([ordersByUsers_B['orders'],\n",
    "               pd.Series(0, \n",
    "                         index = np.arange(visits_filtred[visits_filtred['group'] == 'B']\n",
    "                                           ['visits']\n",
    "                                           .sum() \n",
    "                                           -\n",
    "                                           len(ordersByUsers_B['orders'])),\n",
    "                         name = 'orders')],\n",
    "              axis=0)\n",
    ")"
   ]
  },
  {
   "cell_type": "code",
   "execution_count": 47,
   "metadata": {},
   "outputs": [
    {
     "name": "stdout",
     "output_type": "stream",
     "text": [
      "P-value : 0.0055\n",
      "Conversion in group B is better by 16%\n"
     ]
    }
   ],
   "source": [
    "# Let us find out whether we can reject the null hypothesis that there's not\n",
    "# a statistically significant difference in conversion between the groups.\n",
    "print(\"P-value : {0:.4f}\".format(st.mannwhitneyu(sampleA, sampleB)[1]))\n",
    "print(\"Conversion in group B is better by {0:.0f}%\".\n",
    "      format((sampleB.mean()/sampleA.mean()-1)*100))"
   ]
  },
  {
   "cell_type": "markdown",
   "metadata": {},
   "source": [
    "##### Conclusion:<br />\n",
    "Based on the raw data, there is a difference between groups A and B.<br />\n",
    "P-value, 0.006, which is lower than 0.05. So we can reject the null hypothesis that there's not a statistically significant difference in conversion between the groups. The relative win of group B is 16%."
   ]
  },
  {
   "cell_type": "markdown",
   "metadata": {},
   "source": [
    "<div class=\"alert alert-success\" role=\"alert\">\n",
    "Reviewer's comment v. 2:\n",
    "\n",
    "Ye, we have a statistically significant difference in conversion.\n",
    "</div>"
   ]
  },
  {
   "cell_type": "markdown",
   "metadata": {},
   "source": [
    "#### 3.10 Find the statistical significance of the difference in average order size between the groups using the raw data.<a name=\"statistical_significance_average_order\"></a>"
   ]
  },
  {
   "cell_type": "markdown",
   "metadata": {},
   "source": [
    "<div class=\"alert alert-info\">\n",
    "Hypothesis Null: The average order size is the same in both groups.<br />\n",
    "Hypothesis alternative: The average order size is different in both groups.\n",
    "   \n",
    "In this case: Hypothesis on the Equality of Two Population Means.\n",
    "Each sample has more than 50 records, which means the samples are large enough to test hypotheses.\n",
    "\n",
    "Set alpha = 0.05, since we are evaluating a hypothesis for a business problem.\n",
    "<br /><br />\n",
    "To test hypotheses, we use the Mann-Whitney method.\n",
    "</div>"
   ]
  },
  {
   "cell_type": "markdown",
   "metadata": {},
   "source": [
    "<div class=\"alert alert-success\" role=\"alert\">\n",
    "Reviewer's comment v. 2:\n",
    "    \n",
    "Ok, a correct hypotheses formulation :)\n",
    "</div>"
   ]
  },
  {
   "cell_type": "code",
   "execution_count": 48,
   "metadata": {},
   "outputs": [
    {
     "name": "stdout",
     "output_type": "stream",
     "text": [
      "P-value : 0.431\n",
      "Average order size in group B is better by 27.834%\n"
     ]
    }
   ],
   "source": [
    "revenue_A = orders_filtred[orders_filtred['group'] == 'A']['revenue']\n",
    "revenue_B = orders_filtred[orders_filtred['group'] == 'B']['revenue']\n",
    "print(\"P-value : {0:.3f}\".format(st.mannwhitneyu(revenue_A, revenue_B)[1]))\n",
    "print(\"Average order size in group B is better by {0:.3f}%\".format((revenue_B.mean()/revenue_A.mean()-1)*100)) "
   ]
  },
  {
   "cell_type": "markdown",
   "metadata": {},
   "source": [
    "##### Conclusion:<br />\n",
    "The p-value (**0.43**) is considerably higher than 0.05, so there's no reason to reject the null hypothesis and conclude that average order size differs between the groups. The average order size for group B is much bigger than it is for group A (**28%**)."
   ]
  },
  {
   "cell_type": "markdown",
   "metadata": {},
   "source": [
    "#### 3.11 Find the statistical significance of the difference in conversion between the groups using the filtered data. <a name=\"statistical_significance_conversion\"></a>"
   ]
  },
  {
   "cell_type": "markdown",
   "metadata": {},
   "source": [
    "As we determined earlier, orders greater than $ 500 or more than one order per customer would be considered abnormal."
   ]
  },
  {
   "cell_type": "code",
   "execution_count": 49,
   "metadata": {},
   "outputs": [],
   "source": [
    "ordersByUsers_A = ordersByUsers_A.reset_index()\n",
    "ordersByUsers_B = ordersByUsers_B.reset_index()"
   ]
  },
  {
   "cell_type": "code",
   "execution_count": 50,
   "metadata": {},
   "outputs": [
    {
     "name": "stdout",
     "output_type": "stream",
     "text": [
      "We have 72 anomalous users in total.\n"
     ]
    }
   ],
   "source": [
    "# let's generate additional table with uid anomalies\n",
    "usersWithManyOrders = pd.concat(\n",
    "    [ordersByUsers_A[ordersByUsers_A['orders'] > 1]['visitorId'],\n",
    "     ordersByUsers_B[ordersByUsers_B['orders'] > 1]['visitorId']],\n",
    "     axis = 0)\n",
    "\n",
    "usersWithExpensiveOrders = orders_filtred[orders_filtred['revenue'] > 500]['visitorId']\n",
    "abnormalUsers = pd.concat([usersWithManyOrders,usersWithExpensiveOrders],axis = 0)\n",
    "abnormalUsers = abnormalUsers.drop_duplicates().sort_values()\n",
    "print('We have {:} anomalous users in total.'.format(len(abnormalUsers)))\n"
   ]
  },
  {
   "cell_type": "markdown",
   "metadata": {},
   "source": [
    "<div class=\"alert alert-success\" role=\"alert\">\n",
    "Reviewer's comment v. 2:\n",
    "    \n",
    "Yes, these users can be considered as an anomally users.\n",
    "</div>"
   ]
  },
  {
   "cell_type": "markdown",
   "metadata": {},
   "source": [
    "Let's try to find out how anomalous users actions affected the test results. We'll calculate the statistical significance of the differences in conversion between the groups, using filtered data. First we'll prepare samples of the number of orders per user for each test group."
   ]
  },
  {
   "cell_type": "code",
   "execution_count": 51,
   "metadata": {},
   "outputs": [],
   "source": [
    "sampleA_filtered = ( \n",
    "    pd.concat(\n",
    "        [ordersByUsers_A[np.logical_not(ordersByUsers_A['visitorId'].\n",
    "                                        isin(abnormalUsers))]['orders'],\n",
    "         pd.Series(0, \n",
    "                   index = np.arange(visits_filtred[visits_filtred['group']=='A']\n",
    "                                     ['visits'].sum() \n",
    "                                     - \n",
    "                                     len(ordersByUsers_A['orders'])),\n",
    "                   name='orders')],\n",
    "        axis=0)\n",
    ")\n",
    "sampleB_filtered = ( \n",
    "    pd.concat(\n",
    "        [ordersByUsers_B[np.logical_not(ordersByUsers_B['visitorId'].\n",
    "                                        isin(abnormalUsers))]['orders'],\n",
    "         pd.Series(0, \n",
    "                   index = np.arange(visits_filtred[visits_filtred['group']=='B']\n",
    "                                     ['visits'].sum() \n",
    "                                     - \n",
    "                                     len(ordersByUsers_B['orders'])),\n",
    "                   name='orders')],\n",
    "        axis=0)\n",
    ")"
   ]
  },
  {
   "cell_type": "markdown",
   "metadata": {},
   "source": [
    "<div class=\"alert alert-info\">\n",
    "Hypothesis Null: There's no difference in conversion between the groups from which anomalies have been removed.<br />\n",
    "Hypothesis alternative: There's a difference in conversion between the groups from which anomalies have been removed.\n",
    "<br /><br />\n",
    "In this case: Hypothesis on the Equality of Two Population Means.\n",
    "\n",
    "Each sample has more than 50 records, which means the samples are large enough to test hypotheses.\n",
    "\n",
    "Set alpha = 0.05, since we are evaluating a hypothesis for a business problem.\n",
    "<br /><br />\n",
    "To test hypotheses, we use the Mann-Whitney method.\n",
    "</div>"
   ]
  },
  {
   "cell_type": "code",
   "execution_count": 52,
   "metadata": {},
   "outputs": [
    {
     "name": "stdout",
     "output_type": "stream",
     "text": [
      "P-value : 0.0048\n",
      "Conversion in group B is better by 19%\n"
     ]
    }
   ],
   "source": [
    "print(\"P-value : {0:.4f}\".format(st.mannwhitneyu(sampleA_filtered, sampleB_filtered)[1]))\n",
    "print(\"Conversion in group B is better by {0:.0f}%\".\n",
    "      format((sampleB_filtered.mean()/sampleA_filtered.mean()-1)*100))"
   ]
  },
  {
   "cell_type": "markdown",
   "metadata": {},
   "source": [
    "##### Conclusion:<br />\n",
    "P-value, 0.005, which is lower than 0.05. So we can reject the null hypothesis.\n",
    "We found that, according to the \"purified\" data, the conversion by groups also differed statistically significantly. The ratio of the mean values practically did not change.\n",
    "It turns out that \"anomalous\" users had practically no effect on the value of this metric."
   ]
  },
  {
   "cell_type": "markdown",
   "metadata": {},
   "source": [
    "#### 3.12 Find the statistical significance of the difference in average order size between the groups using the filtered data.<a name=\"statistical_significance_average_order_filtered\"></a>"
   ]
  },
  {
   "cell_type": "markdown",
   "metadata": {},
   "source": [
    "<div class=\"alert alert-info\">\n",
    "Hypothesis Null: After removed the anomalies, the average order size in both groups is the same.<br />\n",
    "Hypothesis alternative: After removed the anomalies, the average order size in both groups is different.\n",
    "   \n",
    "In this case: Hypothesis on the Equality of Two Population Means.\n",
    "Each sample has more than 50 records, which means the samples are large enough to test hypotheses.\n",
    "\n",
    "Set alpha = 0.05, since we are evaluating a hypothesis for a business problem.\n",
    "<br /><br />\n",
    "To test hypotheses, we use the Mann-Whitney method.\n",
    "</div>"
   ]
  },
  {
   "cell_type": "code",
   "execution_count": 53,
   "metadata": {},
   "outputs": [],
   "source": [
    "revenue_A_filtered = (\n",
    "    orders_filtred[(np.logical_not(orders_filtred['visitorId'].\n",
    "                                   isin(abnormalUsers)))                \n",
    "                   & (orders_filtred['group'] == 'A')])['revenue']\n",
    "revenue_B_filtered = (\n",
    "    orders_filtred[(np.logical_not(orders_filtred['visitorId'].\n",
    "                                   isin(abnormalUsers)))                \n",
    "                   & (orders_filtred['group'] == 'B')])['revenue']"
   ]
  },
  {
   "cell_type": "code",
   "execution_count": 54,
   "metadata": {},
   "outputs": [
    {
     "name": "stdout",
     "output_type": "stream",
     "text": [
      "P-value : 0.496\n",
      "Average order size in group B is better by 1.6%\n"
     ]
    }
   ],
   "source": [
    "print(\"P-value : {0:.3f}\"\n",
    "      .format(st.mannwhitneyu(revenue_A_filtered, revenue_B_filtered)[1]))\n",
    "print(\"Average order size in group B is better by {0:.1f}%\"\n",
    "      .format((revenue_B_filtered.mean()/revenue_A_filtered.mean()-1)*100))"
   ]
  },
  {
   "cell_type": "markdown",
   "metadata": {},
   "source": [
    "##### Conclusion:<br />\n",
    "The p-value (**0.49**) is considerably higher than 0.05, so there's no reason to reject the null hypothesis and conclude that average order size differs between the groups. <br />\n",
    "On the filtered data, the average order size for group B is the same as for group A. We can conclude that the anomalous values greatly influenced the result obtained earlier. Without abnormal values, the average order value does not change."
   ]
  },
  {
   "cell_type": "markdown",
   "metadata": {},
   "source": [
    "<div class=\"alert alert-success\" role=\"alert\">\n",
    "Reviewer's comment v. 1:\n",
    "    \n",
    "Maybe this link will be interesting for you: https://www.analyticsvidhya.com/blog/2019/09/everything-know-about-p-value-from-scratch-data-science/\n",
    "</div>"
   ]
  },
  {
   "cell_type": "markdown",
   "metadata": {},
   "source": [
    "##### Conclusions on A / B testing:<br />\n",
    "\n",
    "- there are statistically significant differences in conversion between groups A and B (both in raw data and in purified data)<br />\n",
    "- there are no statistically significant differences in the average check between groups A and B (both for raw data and for purified data)."
   ]
  },
  {
   "cell_type": "markdown",
   "metadata": {},
   "source": [
    "<div class=\"alert alert-success\" role=\"alert\">\n",
    "Reviewer's comment v. 2:\n",
    "    \n",
    "Yes, you are right, anomaly users don't have influence on the test results.\n",
    "</div>"
   ]
  },
  {
   "cell_type": "markdown",
   "metadata": {},
   "source": [
    "#### 3.13 Make a decision based on the test results. <a name=\"make_decision\"></a>"
   ]
  },
  {
   "cell_type": "markdown",
   "metadata": {},
   "source": [
    "As a result of the data obtained, I can advise you to stop testing. The test result can be considered positive. We determined that the data in the groups are statistically different, and the result in group B is 19% better. As for the average check, it has not changed between groups A and B. This tells us that our change will improve conversions and keep the average order value at the same level."
   ]
  },
  {
   "cell_type": "markdown",
   "metadata": {},
   "source": [
    "<div class=\"alert alert-danger\" role=\"alert\">\n",
    "Reviewer's comment v. 1:\n",
    "    \n",
    "Please add a general conclusion. It's important part of the project which contains all main findings.\n",
    "</div>"
   ]
  },
  {
   "cell_type": "markdown",
   "metadata": {},
   "source": [
    "### 4. General conclusion"
   ]
  },
  {
   "cell_type": "markdown",
   "metadata": {},
   "source": [
    "<div class=\"alert alert-info\">\n",
    "\n",
    "1. During the execution of this project, it was found that some users participated in two groups at the same time, which violates one of the basic principles of the A / B test - one user sees only one version site throughout the test.<br />Thus, we need to check the correctness of the processing of the method of displaying one or another version of the site to users.<br /><br />\n",
    "\n",
    "2. The priority of hypothesis testing was calculated using the RICE method. The following hypotheses have received the highest priority:<br />\n",
    " - \"Add a subscription form to all the main pages\".<br />\n",
    " - \"Add product recommendation blocks to the store's site\"<br /><br />\n",
    "\n",
    "3. We got the results of A / B testing. The test result can be considered positive. Based on the test results, it was found that the conversion rate will increase when changes are made, and the average price will remain the same.<br />\n",
    "When analyzing the data, it was found that more than 96% of customers place only one order worth up to $ 413. However, there are customers who place 3 or more orders.\n",
    "    \n",
    "</div>"
   ]
  },
  {
   "cell_type": "markdown",
   "metadata": {},
   "source": [
    "<div class=\"alert alert-success\" role=\"alert\">\n",
    "Reviewer's comment v. 2:\n",
    "    \n",
    "An excellent conclusion which highlights all the main results of the project. Well done that you add recommendations about the tests. It's important information for marketing specialists.\n",
    "</div>"
   ]
  },
  {
   "cell_type": "code",
   "execution_count": null,
   "metadata": {},
   "outputs": [],
   "source": []
  }
 ],
 "metadata": {
  "kernelspec": {
   "display_name": "Python 3",
   "language": "python",
   "name": "python3"
  },
  "language_info": {
   "codemirror_mode": {
    "name": "ipython",
    "version": 3
   },
   "file_extension": ".py",
   "mimetype": "text/x-python",
   "name": "python",
   "nbconvert_exporter": "python",
   "pygments_lexer": "ipython3",
   "version": "3.7.9"
  },
  "toc": {
   "base_numbering": 1,
   "nav_menu": {},
   "number_sections": true,
   "sideBar": true,
   "skip_h1_title": true,
   "title_cell": "Table of Contents",
   "title_sidebar": "Contents",
   "toc_cell": false,
   "toc_position": {},
   "toc_section_display": true,
   "toc_window_display": false
  }
 },
 "nbformat": 4,
 "nbformat_minor": 4
}
