{
 "cells": [
  {
   "cell_type": "markdown",
   "metadata": {},
   "source": [
    "Hello, my name is **Lyuman** and I'm going to review your project!\n",
    "\n",
    "You can find my comments in <font color='green'>green</font>, <font color='blue'>blue</font> or <font color='red'>red</font> boxes like this:\n",
    "\n",
    "<div class=\"alert alert-block alert-success\">\n",
    "<b>Success:</b> if everything is done succesfully\n",
    "</div>\n",
    "\n",
    "<div class=\"alert alert-block alert-info\">\n",
    "<b>Recommendation: </b> \"Recommendation\" comments mean that there are tiny corrections that could help you to make your project better.\n",
    "</div>\n",
    "\n",
    "<div class=\"alert alert-block alert-danger\">\n",
    "<b>Needs fixing:</b> if the block requires some corrections. Work can't be accepted with the red comments.\n",
    "</div>\n",
    "\n",
    "### <font color='orange'>General feedback</font>\n",
    "* Thank you for sending your project. You've done a really good job on it! \n",
    "* Nice project! Your hard work and dedication is impressive. I really liked your efforts! \n",
    "* I left some tips, I would like you to pay attention to them.\n",
    "* I'm glad to say that your project has been accepted.\n",
    "* Keep up the good work, and good luck on the next sprint!\n"
   ]
  },
  {
   "cell_type": "markdown",
   "metadata": {},
   "source": [
    "## Analyzing borrowers’ risk of defaulting\n",
    "\n",
    "Your project is to prepare a report for a bank’s loan division. You’ll need to find out if a customer’s marital status and number of children has an impact on whether they will default on a loan. The bank already has some data on customers’ credit worthiness.\n",
    "\n",
    "Your report will be considered when building a **credit scoring** of a potential customer. A ** credit scoring ** is used to evaluate the ability of a potential borrower to repay their loan."
   ]
  },
  {
   "cell_type": "markdown",
   "metadata": {},
   "source": [
    "<div class=\"alert alert-block alert-info\">\n",
    "<b>Recommendation: </b> It would be good to see plan of  actions for project before.\n",
    "</div>"
   ]
  },
  {
   "cell_type": "markdown",
   "metadata": {},
   "source": [
    "### Step 1. Open the data file and have a look at the general information. "
   ]
  },
  {
   "cell_type": "code",
   "execution_count": 1,
   "metadata": {},
   "outputs": [
    {
     "name": "stdout",
     "output_type": "stream",
     "text": [
      "<class 'pandas.core.frame.DataFrame'>\n",
      "RangeIndex: 21525 entries, 0 to 21524\n",
      "Data columns (total 12 columns):\n",
      " #   Column            Non-Null Count  Dtype  \n",
      "---  ------            --------------  -----  \n",
      " 0   children          21525 non-null  int64  \n",
      " 1   days_employed     19351 non-null  float64\n",
      " 2   age               21525 non-null  int64  \n",
      " 3   education         21525 non-null  object \n",
      " 4   education_id      21525 non-null  int64  \n",
      " 5   family_status     21525 non-null  object \n",
      " 6   family_status_id  21525 non-null  int64  \n",
      " 7   gender            21525 non-null  object \n",
      " 8   income_type       21525 non-null  object \n",
      " 9   debt              21525 non-null  int64  \n",
      " 10  total_income      19351 non-null  float64\n",
      " 11  purpose           21525 non-null  object \n",
      "dtypes: float64(2), int64(5), object(5)\n",
      "memory usage: 2.0+ MB\n"
     ]
    }
   ],
   "source": [
    "import pandas as df\n",
    "customers = df.read_csv('https://code.s3.yandex.net/datasets/credit_scoring_eng.csv')\n",
    "customers = customers.rename(columns={'dob_years': 'age'})\n",
    "customers.info()"
   ]
  },
  {
   "cell_type": "markdown",
   "metadata": {},
   "source": [
    "<div class=\"alert alert-block alert-info\">\n",
    "<b>Recommendation: </b> It would be better if all imports were in the first separate cell. <br>People often run the entire project, and it is better for them to get an error about an uninstalled package, in the first step, and they fix it than in the middle of execution.\n",
    "</div>"
   ]
  },
  {
   "cell_type": "markdown",
   "metadata": {},
   "source": [
    "### Conclusion"
   ]
  },
  {
   "cell_type": "markdown",
   "metadata": {},
   "source": [
    "The information about the table was analyzed, we see that it consists of 12 columns, there is not enough data in two columns **[‘days_employed’, ’total_income’]**, the column name **‘dob_years’** is better to replace with **‘age’**.At first glance, we only need to convert the data type in column **\"days_employed\"**."
   ]
  },
  {
   "cell_type": "markdown",
   "metadata": {},
   "source": [
    "<div class=\"alert alert-block alert-success\">\n",
    "<b>Success:</b>Good job, the first step was done right!\n",
    "</div>\n"
   ]
  },
  {
   "cell_type": "markdown",
   "metadata": {},
   "source": [
    "### Step 2. Data preprocessing"
   ]
  },
  {
   "cell_type": "markdown",
   "metadata": {},
   "source": [
    "### Processing missing values"
   ]
  },
  {
   "cell_type": "code",
   "execution_count": 2,
   "metadata": {},
   "outputs": [],
   "source": [
    "# par.1\n",
    "# #replace Nan to 0\n",
    "customers['days_employed'] = customers['days_employed'].fillna(value = 0)\n",
    "\n",
    "# par.2\n",
    "#column 'total_income' median\n",
    "average_total_income = customers['total_income'].median()\n",
    "#replace Nan to 'average_total_income'\n",
    "customers['total_income'] = customers['total_income'].fillna(value = average_total_income)\n",
    "\n",
    "# par.4\n",
    "# column 'children' replace '20' ==> '2', '-1' ==> '1' ???\n",
    "customers['children'] = customers['children'].replace(20, 2)\n",
    "customers['children'] = customers['children'].replace(-1, 1)\n",
    "\n",
    "# par.5\n",
    "# column 'age' median\n",
    "average_age = customers['age'].loc[(customers['age'] > 0)].median()\n",
    "# column 'age' replace '0' ==> median\n",
    "customers['age'] = customers['age'].replace(0, average_age)\n"
   ]
  },
  {
   "cell_type": "markdown",
   "metadata": {},
   "source": [
    "### Conclusion"
   ]
  },
  {
   "cell_type": "markdown",
   "metadata": {},
   "source": [
    "1. The data from **‘days_employed’** column is not true. **15906** records have a negative value, **3445** records have an abnormally large value (over 500 years old), **2174** records have **\"NaN\"**. I think that this anomaly was due to a failed data type conversion or an unsuccessful upload of data from the server. It doesn't make sense to correct or analyze the data from this column.\n",
    "\n",
    "2. **2174** records are missing information in columns **[‘days_employed’, ’total_income’]**. Having looked at these records, I did not find a pattern according to which these values could have been missed deliberately. These people are of different ages, most of them work and have completely different goals for obtaining a loan. Most of them (**92%**) have no debt. I thought to deleted these records or write down the average value, in the end I decided to write the average value in the 'total_income' column, and leave it unchanged in the **'days_employed'** column, since the data from this column will not be use to analysis\n",
    "\n",
    "3. One record had an anomaly in the **'gender'** column = **‘XNA’**, which I didn’t correct, as gender does not affect the conclusions in this analysis.\n",
    "\n",
    "4. There was also a data anomaly in the **“children”** column. 76 people have 20 children and 47 have **“-1”** children. I believe that these errors resulted from data entry. I changed **“20”** to **“2”** and **“-1”** to **“1”**.\n",
    "\n",
    "5. Also in the column **‘age’** 91 records have the value **“0”**, replaced this value with the **average age** in the table."
   ]
  },
  {
   "cell_type": "markdown",
   "metadata": {},
   "source": [
    "<div class=\"alert alert-block alert-success\">\n",
    "<b>Success:</b> Great preprocessing step!  I agree with your reasoning, but I think that days_employed columns would be better to convert negative values to positive.\n",
    "</div>\n"
   ]
  },
  {
   "cell_type": "markdown",
   "metadata": {},
   "source": [
    "### Data type replacement"
   ]
  },
  {
   "cell_type": "code",
   "execution_count": 3,
   "metadata": {
    "scrolled": true
   },
   "outputs": [
    {
     "name": "stdout",
     "output_type": "stream",
     "text": [
      "<class 'pandas.core.frame.DataFrame'>\n",
      "RangeIndex: 21525 entries, 0 to 21524\n",
      "Data columns (total 12 columns):\n",
      " #   Column            Non-Null Count  Dtype  \n",
      "---  ------            --------------  -----  \n",
      " 0   children          21525 non-null  int64  \n",
      " 1   days_employed     21525 non-null  int64  \n",
      " 2   age               21525 non-null  float64\n",
      " 3   education         21525 non-null  object \n",
      " 4   education_id      21525 non-null  int64  \n",
      " 5   family_status     21525 non-null  object \n",
      " 6   family_status_id  21525 non-null  int64  \n",
      " 7   gender            21525 non-null  object \n",
      " 8   income_type       21525 non-null  object \n",
      " 9   debt              21525 non-null  int64  \n",
      " 10  total_income      21525 non-null  int64  \n",
      " 11  purpose           21525 non-null  object \n",
      "dtypes: float64(1), int64(6), object(5)\n",
      "memory usage: 2.0+ MB\n"
     ]
    }
   ],
   "source": [
    "try: \n",
    "    customers['days_employed'] = customers['days_employed'].astype('int')\n",
    "    customers['total_income'] = customers['total_income'].astype('int')\n",
    "except: \n",
    "    print('Data conversion failed ((')\n",
    "customers.info()"
   ]
  },
  {
   "cell_type": "markdown",
   "metadata": {},
   "source": [
    "### Conclusion"
   ]
  },
  {
   "cell_type": "markdown",
   "metadata": {},
   "source": [
    "I don't think that changing the data type from **\"float\"** to **\"int\"** is  expedient in this case. Column **'days_employed'** - we decided not to analyze, and in column **'total_income'** the data can be float, but for a more visual display of the data, I converted the float to int using the **astype()** method.\n",
    "\n",
    "I also used the **'try - except'** construction so that there was no crash."
   ]
  },
  {
   "cell_type": "markdown",
   "metadata": {},
   "source": [
    "<div class=\"alert alert-block alert-success\">\n",
    "<b>Success:</b>Good job! It is good that you know about try except, and can appropriately use it.\n",
    "</div>\n"
   ]
  },
  {
   "cell_type": "markdown",
   "metadata": {},
   "source": [
    "### Processing duplicates"
   ]
  },
  {
   "cell_type": "code",
   "execution_count": 4,
   "metadata": {},
   "outputs": [
    {
     "data": {
      "text/plain": [
       "real estate transactions    10840\n",
       "buying a car                 4315\n",
       "going to university          4022\n",
       "wedding ceremony             2348\n",
       "Name: purpose, dtype: int64"
      ]
     },
     "execution_count": 4,
     "metadata": {},
     "output_type": "execute_result"
    }
   ],
   "source": [
    "# Removing duplicate records in column 'education'\n",
    "customers['education'] = customers['education'].str.lower() \n",
    "customers['education'].value_counts()\n",
    "\n",
    "# Joining 'entrepreneur' to 'business'\n",
    "customers['income_type'] = customers['income_type'].replace('entrepreneur', 'business')\n",
    "\n",
    "# Removing duplicate records in column 'purpose'\n",
    "customers['purpose'].value_counts().count() # there are 38 different types of purpose\n",
    "from nltk.stem import SnowballStemmer \n",
    "english_stemmer = SnowballStemmer('english')\n",
    "\n",
    "def type_of_purpose(purpose):\n",
    "    for word in purpose.split(' '):\n",
    "        if 'car' == english_stemmer.stem(word):\n",
    "           return 'buying a car'\n",
    "        if 'wed' == english_stemmer.stem(word):      \n",
    "           return 'wedding ceremony'\n",
    "        if ('educ' == english_stemmer.stem(word) or 'univers' == english_stemmer.stem(word)):   \n",
    "           return 'going to university'\n",
    "        if ('hous' == english_stemmer.stem(word) or 'properti' == english_stemmer.stem(word) or 'estat' == english_stemmer.stem(word)):\n",
    "           return 'real estate transactions'\n",
    "    \n",
    "    return purpose\n",
    "\n",
    "customers['purpose'] = customers['purpose'].apply(type_of_purpose)\n",
    "customers['purpose'].value_counts()\n"
   ]
  },
  {
   "cell_type": "markdown",
   "metadata": {},
   "source": [
    "<div class=\"alert alert-block alert-info\">\n",
    "<b>Recommendation: </b> It would be better to see these actions in separate cells. Some of your action dosen't make sense in this format. For example: we doesn't see result of customers['education'].value_counts(), to see it, it should be the last in the cell or print should be used.\n",
    "</div>"
   ]
  },
  {
   "cell_type": "markdown",
   "metadata": {},
   "source": [
    "### Conclusion"
   ]
  },
  {
   "cell_type": "markdown",
   "metadata": {},
   "source": [
    "After checking for duplicate columns with the **.value_counts()** method, I came to the conclusion:\n",
    "\n",
    "1. Column **'education'** - there are duplicates, but it is enough to apply the **.lower()** method and all duplicates can be easily removed.\n",
    "\n",
    "2. Column **'family_status'** - there aren't duplicates\n",
    "\n",
    "3. Column **'gender'** - there aren't duplicates\n",
    "\n",
    "4. Column **'income_type'** - there aren't duplicates, but you can combine **'business'** and **'entrepreneur'**.\n",
    "Also, the data **'unemployed'**, **‘paternity / maternity leave’** and **‘student’** can be deleted, since only 4 records have these types of income.\n",
    "\n",
    "5. Column **'purpose'** - we can see **38** different types, but if you remove duplicates then there will be only 4 types of purpose: **'real estate transactions'**, **'wedding ceremony'**, **'going to university'** and **'buying a car'**. Duplicates removed by Stemming method.\n",
    "\n",
    "I think there are duplicates in the data, since the operator filled them in manually, and didn't select from the list."
   ]
  },
  {
   "cell_type": "markdown",
   "metadata": {},
   "source": [
    "<div class=\"alert alert-block alert-success\">\n",
    "<b>Success:</b> Good work with stemming! <br> It would be better if you used .duplicated() method for their analysis and droped it in this step for whole dataset one-time, instead of dropping couple of time in the next part\n",
    "</div>\n"
   ]
  },
  {
   "cell_type": "markdown",
   "metadata": {},
   "source": [
    "### Categorizing Data"
   ]
  },
  {
   "cell_type": "code",
   "execution_count": 5,
   "metadata": {
    "scrolled": true
   },
   "outputs": [
    {
     "data": {
      "text/html": [
       "<div>\n",
       "<style scoped>\n",
       "    .dataframe tbody tr th:only-of-type {\n",
       "        vertical-align: middle;\n",
       "    }\n",
       "\n",
       "    .dataframe tbody tr th {\n",
       "        vertical-align: top;\n",
       "    }\n",
       "\n",
       "    .dataframe thead th {\n",
       "        text-align: right;\n",
       "    }\n",
       "</style>\n",
       "<table border=\"1\" class=\"dataframe\">\n",
       "  <thead>\n",
       "    <tr style=\"text-align: right;\">\n",
       "      <th></th>\n",
       "      <th>group_income</th>\n",
       "      <th>name_group_income</th>\n",
       "    </tr>\n",
       "  </thead>\n",
       "  <tbody>\n",
       "    <tr>\n",
       "      <th>5</th>\n",
       "      <td>0</td>\n",
       "      <td>&lt; 15000</td>\n",
       "    </tr>\n",
       "    <tr>\n",
       "      <th>1</th>\n",
       "      <td>1</td>\n",
       "      <td>15000 - 20000</td>\n",
       "    </tr>\n",
       "    <tr>\n",
       "      <th>2</th>\n",
       "      <td>2</td>\n",
       "      <td>20000 - 25000</td>\n",
       "    </tr>\n",
       "    <tr>\n",
       "      <th>3</th>\n",
       "      <td>3</td>\n",
       "      <td>25000 - 30000</td>\n",
       "    </tr>\n",
       "    <tr>\n",
       "      <th>4</th>\n",
       "      <td>4</td>\n",
       "      <td>30000 - 40000</td>\n",
       "    </tr>\n",
       "    <tr>\n",
       "      <th>0</th>\n",
       "      <td>5</td>\n",
       "      <td>&gt; 40000</td>\n",
       "    </tr>\n",
       "  </tbody>\n",
       "</table>\n",
       "</div>"
      ],
      "text/plain": [
       "   group_income name_group_income\n",
       "5             0           < 15000\n",
       "1             1     15000 - 20000\n",
       "2             2     20000 - 25000\n",
       "3             3     25000 - 30000\n",
       "4             4     30000 - 40000\n",
       "0             5           > 40000"
      ]
     },
     "execution_count": 5,
     "metadata": {},
     "output_type": "execute_result"
    }
   ],
   "source": [
    "# create dictionary children_dict\n",
    "children_dict = customers[['children']]\n",
    "children_dict = children_dict.drop_duplicates().reset_index(drop=True)\n",
    "\n",
    "def is_children(children):\n",
    "    if children == 0 :\n",
    "        return 'No children'\n",
    "    return 'Have children'\n",
    "\n",
    "# adding the string field 'is_children'\n",
    "children_dict['is_children'] = children_dict['children'].apply(is_children)\n",
    "children_dict['is_children'].value_counts()\n",
    "children_dict\n",
    "\n",
    "# create dictionary debt_dict\n",
    "debt_dict = customers[['debt']]\n",
    "debt_dict = debt_dict.drop_duplicates().reset_index(drop=True)\n",
    "\n",
    "def is_debt(debt):\n",
    "    if debt == 0 :\n",
    "        return 'no debt'\n",
    "    return 'there is a debt'\n",
    "\n",
    "# adding the string field 'is_debt'\n",
    "debt_dict['is_debt'] = debt_dict['debt'].apply(is_debt)\n",
    "debt_dict['is_debt'].value_counts()\n",
    "debt_dict\n",
    "\n",
    "# create dictionary total_income_dict\n",
    "def group_income (total_income):\n",
    "    if total_income <15000 :\n",
    "        return 0\n",
    "    if total_income <20000 :\n",
    "        return 1\n",
    "    if total_income <25000 :\n",
    "        return 2\n",
    "    if total_income <30000 :\n",
    "        return 3\n",
    "    if total_income <40000 :\n",
    "        return 4\n",
    "    return 5\n",
    "\n",
    "# adding the field 'group_income'\n",
    "customers['group_income'] = customers['total_income'].apply(group_income)\n",
    "# create dictionary total_income_dict\n",
    "total_income_dict = customers[['group_income']]\n",
    "total_income_dict = total_income_dict.drop_duplicates().reset_index(drop=True)\n",
    "\n",
    "def name_group_income (group_income):\n",
    "    if group_income == 0 :\n",
    "        return '< 15000'\n",
    "    if group_income == 1 :\n",
    "        return '15000 - 20000'\n",
    "    if group_income == 2 :\n",
    "        return '20000 - 25000'\n",
    "    if group_income == 3 :\n",
    "        return '25000 - 30000'\n",
    "    if group_income == 4 :\n",
    "        return '30000 - 40000'\n",
    "    return '> 40000'\n",
    "\n",
    "# adding the string field 'name_group_income'\n",
    "total_income_dict['name_group_income'] = total_income_dict['group_income'].apply(name_group_income)\n",
    "total_income_dict.sort_values(by='group_income', ascending = True)\n"
   ]
  },
  {
   "cell_type": "markdown",
   "metadata": {},
   "source": [
    "<div class=\"alert alert-block alert-success\">\n",
    "<b>Success:</b> Categorization was done well!\n",
    "</div>\n"
   ]
  },
  {
   "cell_type": "markdown",
   "metadata": {},
   "source": [
    "<div class=\"alert alert-block alert-info\">\n",
    "<b>Recommendation: </b> It would be better of you exaplained partition boundaries for total income and use real name of groups. for example \"low, high, middle\" instead of just number : '1,2,3,4,5\"\n",
    "</div>"
   ]
  },
  {
   "cell_type": "markdown",
   "metadata": {},
   "source": [
    "### Conclusion"
   ]
  },
  {
   "cell_type": "markdown",
   "metadata": {},
   "source": [
    "In order not to overload the table with text data, 3 additional dictionaries **'children_dict'**, **'debt_dict'** and **'total_income_dict'** were created. If necessary, we can combine them with the table using the **'.merge()'** method. Additional string columns have been added to the dictionaries to make it easier to analyze the data."
   ]
  },
  {
   "cell_type": "markdown",
   "metadata": {},
   "source": [
    "### Step 3. Answer these questions"
   ]
  },
  {
   "cell_type": "markdown",
   "metadata": {},
   "source": [
    "- Is there a relation between having kids and repaying a loan on time?"
   ]
  },
  {
   "cell_type": "code",
   "execution_count": 6,
   "metadata": {
    "scrolled": true
   },
   "outputs": [
    {
     "data": {
      "text/html": [
       "<div>\n",
       "<style scoped>\n",
       "    .dataframe tbody tr th:only-of-type {\n",
       "        vertical-align: middle;\n",
       "    }\n",
       "\n",
       "    .dataframe tbody tr th {\n",
       "        vertical-align: top;\n",
       "    }\n",
       "\n",
       "    .dataframe thead th {\n",
       "        text-align: right;\n",
       "    }\n",
       "</style>\n",
       "<table border=\"1\" class=\"dataframe\">\n",
       "  <thead>\n",
       "    <tr style=\"text-align: right;\">\n",
       "      <th>is_debt</th>\n",
       "      <th>no debt</th>\n",
       "      <th>there is a debt</th>\n",
       "      <th>ratio</th>\n",
       "    </tr>\n",
       "    <tr>\n",
       "      <th>is_children</th>\n",
       "      <th></th>\n",
       "      <th></th>\n",
       "      <th></th>\n",
       "    </tr>\n",
       "  </thead>\n",
       "  <tbody>\n",
       "    <tr>\n",
       "      <th>Have children</th>\n",
       "      <td>6698</td>\n",
       "      <td>678</td>\n",
       "      <td>0.091920</td>\n",
       "    </tr>\n",
       "    <tr>\n",
       "      <th>No children</th>\n",
       "      <td>13086</td>\n",
       "      <td>1063</td>\n",
       "      <td>0.075129</td>\n",
       "    </tr>\n",
       "  </tbody>\n",
       "</table>\n",
       "</div>"
      ],
      "text/plain": [
       "is_debt        no debt  there is a debt     ratio\n",
       "is_children                                      \n",
       "Have children     6698              678  0.091920\n",
       "No children      13086             1063  0.075129"
      ]
     },
     "execution_count": 6,
     "metadata": {},
     "output_type": "execute_result"
    }
   ],
   "source": [
    "#a children_debt table is created from customers, children_dict and debt_dict.\n",
    "children_debt = customers[['children','debt','purpose']]\n",
    "children_debt = children_dict.merge(children_debt, on='children', how='right')\n",
    "children_debt = debt_dict.merge(children_debt, on='debt', how='right')\n",
    "\n",
    "#pivot table is creating for analysis\n",
    "cd_pivot = children_debt.pivot_table(index='is_children', columns='is_debt', values='purpose', aggfunc='count')\n",
    "cd_pivot['ratio'] = cd_pivot.loc[:,'there is a debt']/( cd_pivot.loc[:,'no debt'] + cd_pivot.loc[:,'there is a debt'])\n",
    "cd_pivot"
   ]
  },
  {
   "cell_type": "markdown",
   "metadata": {},
   "source": [
    "### Conclusion"
   ]
  },
  {
   "cell_type": "markdown",
   "metadata": {},
   "source": [
    "If a person **has a child**, the likelihood increases that the loan will not be repaid on time."
   ]
  },
  {
   "cell_type": "markdown",
   "metadata": {},
   "source": [
    "<div class=\"alert alert-block alert-success\">\n",
    "<b>Success:</b> Correct.\n",
    "</div>\n"
   ]
  },
  {
   "cell_type": "markdown",
   "metadata": {},
   "source": [
    "- Is there a relation between marital status and repaying a loan on time?"
   ]
  },
  {
   "cell_type": "code",
   "execution_count": 7,
   "metadata": {},
   "outputs": [
    {
     "data": {
      "text/html": [
       "<div>\n",
       "<style scoped>\n",
       "    .dataframe tbody tr th:only-of-type {\n",
       "        vertical-align: middle;\n",
       "    }\n",
       "\n",
       "    .dataframe tbody tr th {\n",
       "        vertical-align: top;\n",
       "    }\n",
       "\n",
       "    .dataframe thead th {\n",
       "        text-align: right;\n",
       "    }\n",
       "</style>\n",
       "<table border=\"1\" class=\"dataframe\">\n",
       "  <thead>\n",
       "    <tr style=\"text-align: right;\">\n",
       "      <th>is_debt</th>\n",
       "      <th>no debt</th>\n",
       "      <th>there is a debt</th>\n",
       "      <th>ratio</th>\n",
       "    </tr>\n",
       "    <tr>\n",
       "      <th>family_status</th>\n",
       "      <th></th>\n",
       "      <th></th>\n",
       "      <th></th>\n",
       "    </tr>\n",
       "  </thead>\n",
       "  <tbody>\n",
       "    <tr>\n",
       "      <th>widow / widower</th>\n",
       "      <td>897</td>\n",
       "      <td>63</td>\n",
       "      <td>0.065625</td>\n",
       "    </tr>\n",
       "    <tr>\n",
       "      <th>divorced</th>\n",
       "      <td>1110</td>\n",
       "      <td>85</td>\n",
       "      <td>0.071130</td>\n",
       "    </tr>\n",
       "    <tr>\n",
       "      <th>married</th>\n",
       "      <td>11449</td>\n",
       "      <td>931</td>\n",
       "      <td>0.075202</td>\n",
       "    </tr>\n",
       "    <tr>\n",
       "      <th>civil partnership</th>\n",
       "      <td>3789</td>\n",
       "      <td>388</td>\n",
       "      <td>0.092890</td>\n",
       "    </tr>\n",
       "    <tr>\n",
       "      <th>unmarried</th>\n",
       "      <td>2539</td>\n",
       "      <td>274</td>\n",
       "      <td>0.097405</td>\n",
       "    </tr>\n",
       "  </tbody>\n",
       "</table>\n",
       "</div>"
      ],
      "text/plain": [
       "is_debt            no debt  there is a debt     ratio\n",
       "family_status                                        \n",
       "widow / widower        897               63  0.065625\n",
       "divorced              1110               85  0.071130\n",
       "married              11449              931  0.075202\n",
       "civil partnership     3789              388  0.092890\n",
       "unmarried             2539              274  0.097405"
      ]
     },
     "execution_count": 7,
     "metadata": {},
     "output_type": "execute_result"
    }
   ],
   "source": [
    "#a marital_debt table is created from customers and debt_dict\n",
    "marital_debt = customers[['family_status','debt','purpose']]\n",
    "marital_debt = debt_dict.merge(marital_debt, on='debt', how='right')\n",
    "\n",
    "#pivot table is creating for analysis\n",
    "md_pivot = marital_debt.pivot_table(index='family_status', columns='is_debt', values='purpose', aggfunc='count')\n",
    "md_pivot['ratio'] = md_pivot.loc[:,'there is a debt']/( md_pivot.loc[:,'no debt'] + md_pivot.loc[:,'there is a debt'])\n",
    "md_pivot.sort_values(by='ratio', ascending = True)\n"
   ]
  },
  {
   "cell_type": "markdown",
   "metadata": {},
   "source": [
    "### Conclusion"
   ]
  },
  {
   "cell_type": "markdown",
   "metadata": {},
   "source": [
    "After analyzing the data obtained, we can say that **'widow / widower'** and **'divorced'** have fewer overdue loans, and the **'unmarried'** group has the worst indicator of timely loan repayment. For the analysis, the **.merge()** and **.pivot_table()** methods were used."
   ]
  },
  {
   "cell_type": "markdown",
   "metadata": {},
   "source": [
    "<div class=\"alert alert-block alert-success\">\n",
    "<b>Success:</b> Good.\n",
    "</div>\n"
   ]
  },
  {
   "cell_type": "markdown",
   "metadata": {},
   "source": [
    "- Is there a relation between income level and repaying a loan on time?"
   ]
  },
  {
   "cell_type": "code",
   "execution_count": 8,
   "metadata": {},
   "outputs": [
    {
     "data": {
      "text/html": [
       "<div>\n",
       "<style scoped>\n",
       "    .dataframe tbody tr th:only-of-type {\n",
       "        vertical-align: middle;\n",
       "    }\n",
       "\n",
       "    .dataframe tbody tr th {\n",
       "        vertical-align: top;\n",
       "    }\n",
       "\n",
       "    .dataframe thead th {\n",
       "        text-align: right;\n",
       "    }\n",
       "</style>\n",
       "<table border=\"1\" class=\"dataframe\">\n",
       "  <thead>\n",
       "    <tr style=\"text-align: right;\">\n",
       "      <th>is_debt</th>\n",
       "      <th>no debt</th>\n",
       "      <th>there is a debt</th>\n",
       "      <th>ratio</th>\n",
       "    </tr>\n",
       "    <tr>\n",
       "      <th>name_group_income</th>\n",
       "      <th></th>\n",
       "      <th></th>\n",
       "      <th></th>\n",
       "    </tr>\n",
       "  </thead>\n",
       "  <tbody>\n",
       "    <tr>\n",
       "      <th>&gt; 40000</th>\n",
       "      <td>2618</td>\n",
       "      <td>194</td>\n",
       "      <td>0.068990</td>\n",
       "    </tr>\n",
       "    <tr>\n",
       "      <th>30000 - 40000</th>\n",
       "      <td>2865</td>\n",
       "      <td>242</td>\n",
       "      <td>0.077889</td>\n",
       "    </tr>\n",
       "    <tr>\n",
       "      <th>&lt; 15000</th>\n",
       "      <td>3445</td>\n",
       "      <td>298</td>\n",
       "      <td>0.079615</td>\n",
       "    </tr>\n",
       "    <tr>\n",
       "      <th>20000 - 25000</th>\n",
       "      <td>5095</td>\n",
       "      <td>458</td>\n",
       "      <td>0.082478</td>\n",
       "    </tr>\n",
       "    <tr>\n",
       "      <th>15000 - 20000</th>\n",
       "      <td>3316</td>\n",
       "      <td>310</td>\n",
       "      <td>0.085494</td>\n",
       "    </tr>\n",
       "    <tr>\n",
       "      <th>25000 - 30000</th>\n",
       "      <td>2445</td>\n",
       "      <td>239</td>\n",
       "      <td>0.089046</td>\n",
       "    </tr>\n",
       "  </tbody>\n",
       "</table>\n",
       "</div>"
      ],
      "text/plain": [
       "is_debt            no debt  there is a debt     ratio\n",
       "name_group_income                                    \n",
       "> 40000               2618              194  0.068990\n",
       "30000 - 40000         2865              242  0.077889\n",
       "< 15000               3445              298  0.079615\n",
       "20000 - 25000         5095              458  0.082478\n",
       "15000 - 20000         3316              310  0.085494\n",
       "25000 - 30000         2445              239  0.089046"
      ]
     },
     "execution_count": 8,
     "metadata": {},
     "output_type": "execute_result"
    }
   ],
   "source": [
    "#a total_income_debt table is created from customers, total_income_dict and debt_dict.\n",
    "total_income_debt = customers[['group_income','debt','purpose']]\n",
    "total_income_debt = total_income_dict.merge(total_income_debt, on='group_income', how='right')\n",
    "total_income_debt = debt_dict.merge(total_income_debt, on='debt', how='right')\n",
    "total_income_debt\n",
    "\n",
    "#pivot table is creating for analysis\n",
    "tid_pivot = total_income_debt.pivot_table(index='name_group_income', columns='is_debt', values='purpose', aggfunc='count')\n",
    "tid_pivot['ratio'] = tid_pivot.loc[:,'there is a debt']/( tid_pivot.loc[:,'no debt'] + tid_pivot.loc[:,'there is a debt'])\n",
    "tid_pivot.sort_values(by='ratio', ascending = True)\n"
   ]
  },
  {
   "cell_type": "markdown",
   "metadata": {},
   "source": [
    "### Conclusion"
   ]
  },
  {
   "cell_type": "markdown",
   "metadata": {},
   "source": [
    "After analyzing the obtained data, we see that the best borrowers are clients with an income of more than **40,000**, and the most unreliable borrowers are clients with an income of **15,000 - 20,000** or **25,000 - 30,000**."
   ]
  },
  {
   "cell_type": "markdown",
   "metadata": {},
   "source": [
    "<div class=\"alert alert-block alert-success\">\n",
    "<b>Success:</b> Result is logical \n",
    "based on your partitioning of data into groups.\n",
    "</div>\n"
   ]
  },
  {
   "cell_type": "markdown",
   "metadata": {},
   "source": [
    "- How do different loan purposes affect on-time repayment of the loan?"
   ]
  },
  {
   "cell_type": "code",
   "execution_count": 9,
   "metadata": {},
   "outputs": [
    {
     "data": {
      "text/html": [
       "<div>\n",
       "<style scoped>\n",
       "    .dataframe tbody tr th:only-of-type {\n",
       "        vertical-align: middle;\n",
       "    }\n",
       "\n",
       "    .dataframe tbody tr th {\n",
       "        vertical-align: top;\n",
       "    }\n",
       "\n",
       "    .dataframe thead th {\n",
       "        text-align: right;\n",
       "    }\n",
       "</style>\n",
       "<table border=\"1\" class=\"dataframe\">\n",
       "  <thead>\n",
       "    <tr style=\"text-align: right;\">\n",
       "      <th>is_debt</th>\n",
       "      <th>no debt</th>\n",
       "      <th>there is a debt</th>\n",
       "      <th>ratio</th>\n",
       "    </tr>\n",
       "    <tr>\n",
       "      <th>purpose</th>\n",
       "      <th></th>\n",
       "      <th></th>\n",
       "      <th></th>\n",
       "    </tr>\n",
       "  </thead>\n",
       "  <tbody>\n",
       "    <tr>\n",
       "      <th>real estate transactions</th>\n",
       "      <td>10058</td>\n",
       "      <td>782</td>\n",
       "      <td>0.072140</td>\n",
       "    </tr>\n",
       "    <tr>\n",
       "      <th>wedding ceremony</th>\n",
       "      <td>2162</td>\n",
       "      <td>186</td>\n",
       "      <td>0.079216</td>\n",
       "    </tr>\n",
       "    <tr>\n",
       "      <th>going to university</th>\n",
       "      <td>3652</td>\n",
       "      <td>370</td>\n",
       "      <td>0.091994</td>\n",
       "    </tr>\n",
       "    <tr>\n",
       "      <th>buying a car</th>\n",
       "      <td>3912</td>\n",
       "      <td>403</td>\n",
       "      <td>0.093395</td>\n",
       "    </tr>\n",
       "  </tbody>\n",
       "</table>\n",
       "</div>"
      ],
      "text/plain": [
       "is_debt                   no debt  there is a debt     ratio\n",
       "purpose                                                     \n",
       "real estate transactions    10058              782  0.072140\n",
       "wedding ceremony             2162              186  0.079216\n",
       "going to university          3652              370  0.091994\n",
       "buying a car                 3912              403  0.093395"
      ]
     },
     "execution_count": 9,
     "metadata": {},
     "output_type": "execute_result"
    }
   ],
   "source": [
    "#a purposes_debt table is created from customers and debt_dict.\n",
    "purposes_debt = customers[['purpose','debt','age']]\n",
    "purposes_debt = debt_dict.merge(purposes_debt, on='debt', how='right')\n",
    "purposes_debt\n",
    "\n",
    "#pivot table is creating for analysis\n",
    "pd_pivot = purposes_debt.pivot_table(index='purpose', columns='is_debt', values='age', aggfunc='count')\n",
    "pd_pivot['ratio'] = pd_pivot.loc[:,'there is a debt']/( pd_pivot.loc[:,'no debt'] + pd_pivot.loc[:,'there is a debt'])\n",
    "pd_pivot.sort_values(by='ratio', ascending = True)"
   ]
  },
  {
   "cell_type": "markdown",
   "metadata": {},
   "source": [
    "### Conclusion"
   ]
  },
  {
   "cell_type": "markdown",
   "metadata": {},
   "source": [
    "After analyzing the data obtained, we can say that the best borrowers are those who take out a loan **to buy real** estate. Those who take out a loan **to buy a car** have the worst indicator of the timeliness of loan repayment. For the analysis, the **.merge()** and **.pivot_table()** methods were used."
   ]
  },
  {
   "cell_type": "markdown",
   "metadata": {},
   "source": [
    "<div class=\"alert alert-block alert-success\">\n",
    "<b>Success:</b> Good job.\n",
    "</div>\n"
   ]
  },
  {
   "cell_type": "markdown",
   "metadata": {},
   "source": [
    "### Step 4. General conclusion"
   ]
  },
  {
   "cell_type": "markdown",
   "metadata": {},
   "source": [
    "After analyzing the data, we can say that the worst borrowers are **not married** people **with children**, taking out a **car** loan and having an income of **15,000 - 30,000**. And the best borrowers are **widows** with **children**, taking out a loan for **real estate** and having an income of more than **40,000**."
   ]
  },
  {
   "cell_type": "markdown",
   "metadata": {},
   "source": [
    "<div class=\"alert alert-block alert-success\">\n",
    "<b>Success:</b> Excellent! All questions were investigated and clear and logical answers were given. <br> Very good that pivot_table was used!\n",
    "</div>\n"
   ]
  },
  {
   "cell_type": "markdown",
   "metadata": {},
   "source": [
    "### Project Readiness Checklist\n",
    "\n",
    "Put 'x' in the completed points. Then press Shift + Enter."
   ]
  },
  {
   "cell_type": "markdown",
   "metadata": {},
   "source": [
    "- [x]  file open;\n",
    "- [x]  file examined;\n",
    "- [x]  missing values defined;\n",
    "- [x]  missing values are filled;\n",
    "- [x]  an explanation of which missing value types were detected;\n",
    "- [x]  explanation for the possible causes of missing values;\n",
    "- [x]  an explanation of how the blanks are filled;\n",
    "- [x]  replaced the real data type with an integer;\n",
    "- [x]  an explanation of which method is used to change the data type and why;\n",
    "- [x]  duplicates deleted;\n",
    "- [x]  an explanation of which method is used to find and remove duplicates;\n",
    "- [x]  description of the possible reasons for the appearance of duplicates in the data;\n",
    "- [x]  data is categorized;\n",
    "- [x]  an explanation of the principle of data categorization;\n",
    "- [x]  an answer to the question \"Is there a relation between having kids and repaying a loan on time?\";\n",
    "- [x]  an answer to the question \" Is there a relation between marital status and repaying a loan on time?\";\n",
    "- [x]   an answer to the question \" Is there a relation between income level and repaying a loan on time?\";\n",
    "- [x]  an answer to the question \" How do different loan purposes affect on-time repayment of the loan?\"\n",
    "- [x]  conclusions are present on each stage;\n",
    "- [x]  a general conclusion is made."
   ]
  },
  {
   "cell_type": "code",
   "execution_count": 10,
   "metadata": {},
   "outputs": [
    {
     "data": {
      "text/html": [
       "<div>\n",
       "<style scoped>\n",
       "    .dataframe tbody tr th:only-of-type {\n",
       "        vertical-align: middle;\n",
       "    }\n",
       "\n",
       "    .dataframe tbody tr th {\n",
       "        vertical-align: top;\n",
       "    }\n",
       "\n",
       "    .dataframe thead th {\n",
       "        text-align: right;\n",
       "    }\n",
       "</style>\n",
       "<table border=\"1\" class=\"dataframe\">\n",
       "  <thead>\n",
       "    <tr style=\"text-align: right;\">\n",
       "      <th>is_debt</th>\n",
       "      <th>no debt</th>\n",
       "      <th>there is a debt</th>\n",
       "      <th>ratio</th>\n",
       "    </tr>\n",
       "    <tr>\n",
       "      <th>purpose</th>\n",
       "      <th></th>\n",
       "      <th></th>\n",
       "      <th></th>\n",
       "    </tr>\n",
       "  </thead>\n",
       "  <tbody>\n",
       "    <tr>\n",
       "      <th>buying a car</th>\n",
       "      <td>91</td>\n",
       "      <td>13</td>\n",
       "      <td>0.125</td>\n",
       "    </tr>\n",
       "  </tbody>\n",
       "</table>\n",
       "</div>"
      ],
      "text/plain": [
       "is_debt       no debt  there is a debt  ratio\n",
       "purpose                                      \n",
       "buying a car       91               13  0.125"
      ]
     },
     "execution_count": 10,
     "metadata": {},
     "output_type": "execute_result"
    }
   ],
   "source": [
    "#find out what percentage of loan default under the worst conditions.\n",
    "worse_group = customers.loc[(customers['purpose'] == 'buying a car') & (customers['children'] != 0) & (customers['family_status'] == 'unmarried') & (customers['group_income'] != 3) ]\n",
    "worse_group = debt_dict.merge(worse_group, on='debt', how='right')\n",
    "\n",
    "#pivot table is creating for analysis\n",
    "wg_pivot = worse_group.pivot_table(index='purpose', columns='is_debt', values='age', aggfunc='count')\n",
    "wg_pivot['ratio'] = wg_pivot.loc[:,'there is a debt']/( wg_pivot.loc[:,'no debt'] + wg_pivot.loc[:,'there is a debt'])\n",
    "wg_pivot\n",
    "\n",
    "#more than 12%"
   ]
  },
  {
   "cell_type": "markdown",
   "metadata": {},
   "source": [
    "<div class=\"alert alert-block alert-success\">\n",
    "<b>Success:</b> Nice.\n",
    "</div>\n"
   ]
  }
 ],
 "metadata": {
  "kernelspec": {
   "display_name": "Python 3",
   "language": "python",
   "name": "python3"
  },
  "language_info": {
   "codemirror_mode": {
    "name": "ipython",
    "version": 3
   },
   "file_extension": ".py",
   "mimetype": "text/x-python",
   "name": "python",
   "nbconvert_exporter": "python",
   "pygments_lexer": "ipython3",
   "version": "3.7.9"
  },
  "toc": {
   "base_numbering": 1,
   "nav_menu": {},
   "number_sections": true,
   "sideBar": true,
   "skip_h1_title": true,
   "title_cell": "Table of Contents",
   "title_sidebar": "Contents",
   "toc_cell": false,
   "toc_position": {},
   "toc_section_display": true,
   "toc_window_display": false
  }
 },
 "nbformat": 4,
 "nbformat_minor": 2
}
